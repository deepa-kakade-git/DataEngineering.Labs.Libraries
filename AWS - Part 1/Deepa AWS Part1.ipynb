{
 "cells": [
  {
   "cell_type": "code",
   "execution_count": 1,
   "id": "d810119f-92f2-4ee0-a3ea-299ddee54685",
   "metadata": {},
   "outputs": [],
   "source": [
    "# import boto3\n",
    "\n",
    "import boto3\n"
   ]
  },
  {
   "cell_type": "code",
   "execution_count": 2,
   "id": "7b82c24c-fffb-4681-980c-3237d8151167",
   "metadata": {},
   "outputs": [
    {
     "name": "stdout",
     "output_type": "stream",
     "text": [
      "Requirement already satisfied: boto3 in /Users/deepa/Library/jupyterlab-desktop/jlab_server/lib/python3.12/site-packages (1.34.84)\n",
      "Requirement already satisfied: botocore<1.35.0,>=1.34.84 in /Users/deepa/Library/jupyterlab-desktop/jlab_server/lib/python3.12/site-packages (from boto3) (1.34.84)\n",
      "Requirement already satisfied: jmespath<2.0.0,>=0.7.1 in /Users/deepa/Library/jupyterlab-desktop/jlab_server/lib/python3.12/site-packages (from boto3) (1.0.1)\n",
      "Requirement already satisfied: s3transfer<0.11.0,>=0.10.0 in /Users/deepa/Library/jupyterlab-desktop/jlab_server/lib/python3.12/site-packages (from boto3) (0.10.1)\n",
      "Requirement already satisfied: python-dateutil<3.0.0,>=2.1 in /Users/deepa/Library/jupyterlab-desktop/jlab_server/lib/python3.12/site-packages (from botocore<1.35.0,>=1.34.84->boto3) (2.9.0)\n",
      "Requirement already satisfied: urllib3!=2.2.0,<3,>=1.25.4 in /Users/deepa/Library/jupyterlab-desktop/jlab_server/lib/python3.12/site-packages (from botocore<1.35.0,>=1.34.84->boto3) (2.2.1)\n",
      "Requirement already satisfied: six>=1.5 in /Users/deepa/Library/jupyterlab-desktop/jlab_server/lib/python3.12/site-packages (from python-dateutil<3.0.0,>=2.1->botocore<1.35.0,>=1.34.84->boto3) (1.16.0)\n",
      "Note: you may need to restart the kernel to use updated packages.\n"
     ]
    }
   ],
   "source": [
    "pip install boto3\n"
   ]
  },
  {
   "cell_type": "code",
   "execution_count": 3,
   "id": "acbe6ef7-7633-4a1a-96d2-d73cc06e83db",
   "metadata": {},
   "outputs": [],
   "source": [
    "import boto3\n"
   ]
  },
  {
   "cell_type": "code",
   "execution_count": 4,
   "id": "0d62255a-534c-4dd0-ab6e-eed63d8e19fb",
   "metadata": {},
   "outputs": [],
   "source": [
    "# define the s3 client in Boto3\n",
    "\n",
    "s3 = boto3.client('s3')"
   ]
  },
  {
   "cell_type": "code",
   "execution_count": 5,
   "id": "874f8422-ede5-49cd-9899-31ba00650542",
   "metadata": {},
   "outputs": [
    {
     "data": {
      "text/plain": [
       "{'ResponseMetadata': {'RequestId': 'YCNHH83H4KXX7JS6',\n",
       "  'HostId': 'KuLZ6QxlFI7S/BdRonxINzrOxmNz+I7ihUdOVlc+YvPAhJxg6rp+Xm/Dgw4OrWTR0xaKRJzf2F8=',\n",
       "  'HTTPStatusCode': 200,\n",
       "  'HTTPHeaders': {'x-amz-id-2': 'KuLZ6QxlFI7S/BdRonxINzrOxmNz+I7ihUdOVlc+YvPAhJxg6rp+Xm/Dgw4OrWTR0xaKRJzf2F8=',\n",
       "   'x-amz-request-id': 'YCNHH83H4KXX7JS6',\n",
       "   'date': 'Mon, 15 Apr 2024 20:31:28 GMT',\n",
       "   'location': '/the.best.zipcode.bucket.there.ever.was',\n",
       "   'server': 'AmazonS3',\n",
       "   'content-length': '0'},\n",
       "  'RetryAttempts': 0},\n",
       " 'Location': '/the.best.zipcode.bucket.there.ever.was'}"
      ]
     },
     "execution_count": 5,
     "metadata": {},
     "output_type": "execute_result"
    }
   ],
   "source": [
    "#create a new bucket (bucket names are globally unique, so you'll have to use a name that hasn't been used before)\n",
    "\n",
    "s3.create_bucket(Bucket=\"the.best.zipcode.bucket.there.ever.was\")"
   ]
  },
  {
   "cell_type": "code",
   "execution_count": 6,
   "id": "fd0fe368-f883-405b-a484-fa2e6f41e8d6",
   "metadata": {},
   "outputs": [
    {
     "data": {
      "text/plain": [
       "{'ResponseMetadata': {'RequestId': 'DQ2F85XTF36E9PYC',\n",
       "  'HostId': 'zryCBd7VoA7dCOEPYn9R6matyz8ku6hAOSMxDTsQ0AamKzT6Qo06AzCgK5I+m1JeJcQfMW6AzXI=',\n",
       "  'HTTPStatusCode': 200,\n",
       "  'HTTPHeaders': {'x-amz-id-2': 'zryCBd7VoA7dCOEPYn9R6matyz8ku6hAOSMxDTsQ0AamKzT6Qo06AzCgK5I+m1JeJcQfMW6AzXI=',\n",
       "   'x-amz-request-id': 'DQ2F85XTF36E9PYC',\n",
       "   'date': 'Mon, 15 Apr 2024 20:31:29 GMT',\n",
       "   'location': '/the.best.zipcode.bucket.there.was1026',\n",
       "   'server': 'AmazonS3',\n",
       "   'content-length': '0'},\n",
       "  'RetryAttempts': 0},\n",
       " 'Location': '/the.best.zipcode.bucket.there.was1026'}"
      ]
     },
     "execution_count": 6,
     "metadata": {},
     "output_type": "execute_result"
    }
   ],
   "source": [
    "s3.create_bucket(Bucket=\"the.best.zipcode.bucket.there.was1026\")"
   ]
  },
  {
   "cell_type": "code",
   "execution_count": null,
   "id": "d4d3c00f-02fd-4ed0-9934-ae0e139335f5",
   "metadata": {},
   "outputs": [],
   "source": []
  },
  {
   "cell_type": "code",
   "execution_count": 7,
   "id": "c7b3c4b7-58f6-4883-abad-8725fad1002e",
   "metadata": {},
   "outputs": [
    {
     "name": "stdout",
     "output_type": "stream",
     "text": [
      "ERROR! Session/line number was not unique in database. History logging moved to new session 3\n"
     ]
    },
    {
     "data": {
      "text/plain": [
       "{'ResponseMetadata': {'RequestId': 'DQ29MMS74ASRJ0GV',\n",
       "  'HostId': '6U8TydkpF1QBKGYqRkF3cpzkgvl0QK4blXlwiMnPlYXcnJxqAaFg8UbfoLhJMxYJqyB2pq2QRTY=',\n",
       "  'HTTPStatusCode': 200,\n",
       "  'HTTPHeaders': {'x-amz-id-2': '6U8TydkpF1QBKGYqRkF3cpzkgvl0QK4blXlwiMnPlYXcnJxqAaFg8UbfoLhJMxYJqyB2pq2QRTY=',\n",
       "   'x-amz-request-id': 'DQ29MMS74ASRJ0GV',\n",
       "   'date': 'Mon, 15 Apr 2024 20:31:29 GMT',\n",
       "   'location': '/the.best.zipcode.bucket.there.was1026',\n",
       "   'server': 'AmazonS3',\n",
       "   'content-length': '0'},\n",
       "  'RetryAttempts': 0},\n",
       " 'Location': '/the.best.zipcode.bucket.there.was1026'}"
      ]
     },
     "execution_count": 7,
     "metadata": {},
     "output_type": "execute_result"
    }
   ],
   "source": [
    "s3.create_bucket(Bucket='the.best.zipcode.bucket.there.was1026')"
   ]
  },
  {
   "cell_type": "code",
   "execution_count": 8,
   "id": "115d4196-819a-4efc-96da-9c24bf3a6617",
   "metadata": {},
   "outputs": [
    {
     "data": {
      "text/plain": [
       "{'ResponseMetadata': {'RequestId': 'DQ274XK7VBGXWD1T',\n",
       "  'HostId': 'K1oGxCgrM4BUCaYGLkbEDZwXz68VgNuZnxvypIjt6t05sy32h9z8eIToH09n1OdCAPcIop+Lfjs=',\n",
       "  'HTTPStatusCode': 200,\n",
       "  'HTTPHeaders': {'x-amz-id-2': 'K1oGxCgrM4BUCaYGLkbEDZwXz68VgNuZnxvypIjt6t05sy32h9z8eIToH09n1OdCAPcIop+Lfjs=',\n",
       "   'x-amz-request-id': 'DQ274XK7VBGXWD1T',\n",
       "   'date': 'Mon, 15 Apr 2024 20:31:29 GMT',\n",
       "   'location': '/the.best.zipcode.bucket.there.was',\n",
       "   'server': 'AmazonS3',\n",
       "   'content-length': '0'},\n",
       "  'RetryAttempts': 0},\n",
       " 'Location': '/the.best.zipcode.bucket.there.was'}"
      ]
     },
     "execution_count": 8,
     "metadata": {},
     "output_type": "execute_result"
    }
   ],
   "source": [
    "s3.create_bucket(Bucket=\"the.best.zipcode.bucket.there.was\")"
   ]
  },
  {
   "cell_type": "code",
   "execution_count": null,
   "id": "79803026-1b80-4085-9995-f8c2946b5a04",
   "metadata": {},
   "outputs": [],
   "source": []
  }
 ],
 "metadata": {
  "kernelspec": {
   "display_name": "Python 3 (ipykernel)",
   "language": "python",
   "name": "python3"
  },
  "language_info": {
   "codemirror_mode": {
    "name": "ipython",
    "version": 3
   },
   "file_extension": ".py",
   "mimetype": "text/x-python",
   "name": "python",
   "nbconvert_exporter": "python",
   "pygments_lexer": "ipython3",
   "version": "3.12.2"
  }
 },
 "nbformat": 4,
 "nbformat_minor": 5
}
