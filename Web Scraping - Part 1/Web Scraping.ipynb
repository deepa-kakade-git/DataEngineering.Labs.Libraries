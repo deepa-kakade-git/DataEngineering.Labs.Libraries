{
 "cells": [
  {
   "cell_type": "code",
   "execution_count": 1,
   "id": "a29fc9d0-6c19-49a1-a208-fbdb883cd653",
   "metadata": {},
   "outputs": [
    {
     "name": "stdout",
     "output_type": "stream",
     "text": [
      "Requirement already satisfied: beautifulsoup4 in /Users/deepa/Library/jupyterlab-desktop/jlab_server/lib/python3.12/site-packages (4.12.3)\n",
      "Requirement already satisfied: soupsieve>1.2 in /Users/deepa/Library/jupyterlab-desktop/jlab_server/lib/python3.12/site-packages (from beautifulsoup4) (2.5)\n",
      "Note: you may need to restart the kernel to use updated packages.\n"
     ]
    }
   ],
   "source": [
    "pip install beautifulsoup4"
   ]
  },
  {
   "cell_type": "code",
   "execution_count": 3,
   "id": "1a98707c-1044-4176-a8fa-f6affd1177cb",
   "metadata": {},
   "outputs": [
    {
     "name": "stdout",
     "output_type": "stream",
     "text": [
      "Collecting selenium\n",
      "  Using cached selenium-4.19.0-py3-none-any.whl.metadata (6.9 kB)\n",
      "Requirement already satisfied: urllib3<3,>=1.26 in /Users/deepa/Library/jupyterlab-desktop/jlab_server/lib/python3.12/site-packages (from urllib3[socks]<3,>=1.26->selenium) (2.2.1)\n",
      "Requirement already satisfied: trio~=0.17 in /Users/deepa/Library/jupyterlab-desktop/jlab_server/lib/python3.12/site-packages (from selenium) (0.25.0)\n",
      "Requirement already satisfied: trio-websocket~=0.9 in /Users/deepa/Library/jupyterlab-desktop/jlab_server/lib/python3.12/site-packages (from selenium) (0.11.1)\n",
      "Requirement already satisfied: certifi>=2021.10.8 in /Users/deepa/Library/jupyterlab-desktop/jlab_server/lib/python3.12/site-packages (from selenium) (2024.2.2)\n",
      "Requirement already satisfied: typing_extensions>=4.9.0 in /Users/deepa/Library/jupyterlab-desktop/jlab_server/lib/python3.12/site-packages (from selenium) (4.10.0)\n",
      "Requirement already satisfied: attrs>=23.2.0 in /Users/deepa/Library/jupyterlab-desktop/jlab_server/lib/python3.12/site-packages (from trio~=0.17->selenium) (23.2.0)\n",
      "Requirement already satisfied: sortedcontainers in /Users/deepa/Library/jupyterlab-desktop/jlab_server/lib/python3.12/site-packages (from trio~=0.17->selenium) (2.4.0)\n",
      "Requirement already satisfied: idna in /Users/deepa/Library/jupyterlab-desktop/jlab_server/lib/python3.12/site-packages (from trio~=0.17->selenium) (3.6)\n",
      "Requirement already satisfied: outcome in /Users/deepa/Library/jupyterlab-desktop/jlab_server/lib/python3.12/site-packages (from trio~=0.17->selenium) (1.3.0.post0)\n",
      "Requirement already satisfied: sniffio>=1.3.0 in /Users/deepa/Library/jupyterlab-desktop/jlab_server/lib/python3.12/site-packages (from trio~=0.17->selenium) (1.3.1)\n",
      "Requirement already satisfied: wsproto>=0.14 in /Users/deepa/Library/jupyterlab-desktop/jlab_server/lib/python3.12/site-packages (from trio-websocket~=0.9->selenium) (1.2.0)\n",
      "Requirement already satisfied: pysocks!=1.5.7,<2.0,>=1.5.6 in /Users/deepa/Library/jupyterlab-desktop/jlab_server/lib/python3.12/site-packages (from urllib3[socks]<3,>=1.26->selenium) (1.7.1)\n",
      "Requirement already satisfied: h11<1,>=0.9.0 in /Users/deepa/Library/jupyterlab-desktop/jlab_server/lib/python3.12/site-packages (from wsproto>=0.14->trio-websocket~=0.9->selenium) (0.14.0)\n",
      "Using cached selenium-4.19.0-py3-none-any.whl (10.5 MB)\n",
      "Installing collected packages: selenium\n",
      "Successfully installed selenium-4.19.0\n"
     ]
    }
   ],
   "source": [
    "!pip install selenium"
   ]
  },
  {
   "cell_type": "code",
   "execution_count": 1,
   "id": "8ee82492-b919-45c5-9d58-c347654f33de",
   "metadata": {},
   "outputs": [],
   "source": [
    "import selenium"
   ]
  },
  {
   "cell_type": "code",
   "execution_count": 2,
   "id": "630ec2ca-0ef9-48ef-a499-4e20bbb30a67",
   "metadata": {},
   "outputs": [],
   "source": [
    "from selenium import webdriver"
   ]
  },
  {
   "cell_type": "code",
   "execution_count": 3,
   "id": "f59b6dcf-9d2f-4ee9-9897-08fe9a5059cf",
   "metadata": {},
   "outputs": [],
   "source": [
    "import bs4\n",
    "from bs4 import BeautifulSoup\n"
   ]
  },
  {
   "cell_type": "code",
   "execution_count": 4,
   "id": "25ee8ee9-9f27-4cf5-9cfa-2db8e0230e21",
   "metadata": {},
   "outputs": [],
   "source": [
    "driver = webdriver.Chrome()"
   ]
  },
  {
   "cell_type": "code",
   "execution_count": 5,
   "id": "070cf9a3-bc73-48a5-8d77-8b95de5bca29",
   "metadata": {},
   "outputs": [],
   "source": [
    "#point selenium to your download of the chromedriver and instantiate a driver\n",
    "#This line creates a ChromeDriver service instance. \n",
    "#The executable_path parameter specifies the path to the ChromeDriver executable file on your local system. This executable is \n",
    "#required for Selenium to communicate with the Chrome browser.\n",
    "\n",
    "service = webdriver.ChromeService(executable_path = '/Users/deepa/Desktop/ChromeDriver/chromedriver-mac-arm64/chromedriver')\n",
    "\n",
    "\n",
    "#This line creates a WebDriver instance for controlling a Chrome browser session. The webdriver.Chrome() constructor is used to create the WebDriver instance.\n",
    "driver = webdriver.Chrome(service=service)"
   ]
  },
  {
   "cell_type": "code",
   "execution_count": 9,
   "id": "ffe17efb-e36b-41a1-bca8-a6fe7acec0ad",
   "metadata": {},
   "outputs": [],
   "source": [
    "# test it out and see if its working \n",
    "\n",
    "driver.get('http://books.toscrape.com/')"
   ]
  },
  {
   "cell_type": "raw",
   "id": "1445f97c-6a4c-4beb-a9aa-cd33121d1773",
   "metadata": {},
   "source": [
    "# we'll use the find_elements_by_xpath function on the xpath we copied to see what we get :\n",
    "\n",
    "title_element = driver.find_elements_by_xpath('//*[@id=\"default\"]/div/\\\n",
    "                                              div/div/div/section/div[2]/ol/li[1]/article/h3/a')[0]"
   ]
  },
  {
   "cell_type": "code",
   "execution_count": 10,
   "id": "ecc7c36f-ca9b-4198-8c8a-a91db7c4850d",
   "metadata": {},
   "outputs": [],
   "source": [
    "#we'll use the find_elements_by_xpath function on the XPath we copied to see what we get:\n",
    "# driver.find_elements(\"xpath\", \"//a[@class='_2ial']\")\n",
    "\n",
    "\n",
    "title_element = driver.find_element(\"xpath\",'//*[@id=\"default\"]/div/div/div/div/section/div[2]/ol/li[12]')"
   ]
  },
  {
   "cell_type": "code",
   "execution_count": 11,
   "id": "4b7be377-072c-4750-9a1a-04acdf88340b",
   "metadata": {},
   "outputs": [
    {
     "data": {
      "text/plain": [
       "\"Shakespeare's Sonnets\\n£20.66\\nIn stock\\nAdd to basket\""
      ]
     },
     "execution_count": 11,
     "metadata": {},
     "output_type": "execute_result"
    }
   ],
   "source": [
    "#using '.text' on this element will show us the text displayed on the page\n",
    "\n",
    "title = title_element.text\n",
    "\n",
    "title\n"
   ]
  },
  {
   "cell_type": "code",
   "execution_count": 12,
   "id": "46ec2a31-85fa-443f-842a-ffc5009ae9d6",
   "metadata": {},
   "outputs": [
    {
     "data": {
      "text/plain": [
       "''"
      ]
     },
     "execution_count": 12,
     "metadata": {},
     "output_type": "execute_result"
    }
   ],
   "source": [
    "# that seems truncated - lets look back at the html and see if there is a tag that holds\n",
    "# get_attribute will help here \n",
    "\n",
    "title = title_element.get_attribute('title')\n",
    "title"
   ]
  },
  {
   "cell_type": "code",
   "execution_count": 13,
   "id": "79ed9646-b47f-460e-a60a-aa893dd4ef6c",
   "metadata": {},
   "outputs": [],
   "source": [
    "#we'll use the find_elements_by_xpath function on the XPath we copied to see what we get:\n",
    "\n",
    "title_element = driver.find_elements(\"xpath\", '//*[@id=\"default\"]/div/\\\n",
    "                                              div/div/div/section/div[2]/ol/li[1]/article/h3/a')[0]"
   ]
  },
  {
   "cell_type": "code",
   "execution_count": 14,
   "id": "c895f4f4-0d7c-476e-904b-2e2f42d09dc7",
   "metadata": {},
   "outputs": [
    {
     "data": {
      "text/plain": [
       "'A Light in the ...'"
      ]
     },
     "execution_count": 14,
     "metadata": {},
     "output_type": "execute_result"
    }
   ],
   "source": [
    "#using '.text' on this element will show us the text displayed on the page\n",
    "\n",
    "title = title_element.text\n",
    "title"
   ]
  },
  {
   "cell_type": "code",
   "execution_count": 15,
   "id": "ef02885b-0e72-4ccc-abb0-71ccc4c31e0c",
   "metadata": {},
   "outputs": [
    {
     "data": {
      "text/plain": [
       "'A Light in the Attic'"
      ]
     },
     "execution_count": 15,
     "metadata": {},
     "output_type": "execute_result"
    }
   ],
   "source": [
    "#that seems truncated - let's look back at the html and see if there's a tag that holds the whole title\n",
    "#get_attribute will help here\n",
    "\n",
    "title = title_element.get_attribute('title')\n",
    "title\n",
    "\n",
    "#there we go!"
   ]
  },
  {
   "cell_type": "code",
   "execution_count": 16,
   "id": "66abb740-f77f-4a84-967d-21c0b67901e9",
   "metadata": {},
   "outputs": [
    {
     "name": "stdout",
     "output_type": "stream",
     "text": [
      "Magic! I've scraped 20 titles!\n"
     ]
    }
   ],
   "source": [
    "# lets write a loop that pulls every title for the page and saves it in a list\n",
    "\n",
    "title_list =[]\n",
    "\n",
    "for i in range(1, 21):  # this range represents the number of books per page\n",
    "    title_element = driver.find_elements(\"xpath\", '//*[@id=\"default\"]/div/\\\n",
    "                                              div/div/div/section/div[2]/ol/li[1]/article/h3/a'.format(i))[0]  \n",
    "    title_list.append(title_element.get_attribute('title'))\n",
    "\n",
    "print('Magic! I\\'ve scraped {} titles!'.format(len(title_list)))"
   ]
  },
  {
   "cell_type": "code",
   "execution_count": 17,
   "id": "ba746fc5-787c-47c7-9159-cf782b645fc3",
   "metadata": {},
   "outputs": [
    {
     "name": "stdout",
     "output_type": "stream",
     "text": [
      "Magic! I've scraped 1000 titles!\n"
     ]
    }
   ],
   "source": [
    "# the loop above only scraped the first page . lets nest another loop to scrape every page\n",
    "\n",
    "title_list = []\n",
    "\n",
    "for i in range (1, 51):\n",
    "    driver.get('http://books.toscrape.com/catalogue/page-{}.html'.format(i))\n",
    "\n",
    "    for x in range(1,21):  #this range represents the number of books per page \n",
    "\n",
    "        title_element = driver.find_elements(\"xpath\", '//*[@id=\"default\"]/div/\\\n",
    "                                              div/div/div/section/div[2]/ol/li[1]/article/h3/a'.format(x))[0] \n",
    "\n",
    "        title_list.append(title_element.get_attribute('title'))\n",
    "\n",
    "#quit your session so you dont have any ghost browsing sessions running \n",
    "\n",
    "driver.quit()\n",
    "\n",
    "print('Magic! I\\'ve scraped {} titles!'.format(len(title_list)))"
   ]
  },
  {
   "cell_type": "code",
   "execution_count": null,
   "id": "3d1abeb5-015c-4eb3-88f4-93da085df7ee",
   "metadata": {},
   "outputs": [],
   "source": []
  },
  {
   "cell_type": "code",
   "execution_count": 21,
   "id": "41af5f79-4e69-410e-9805-52be4a87d1a0",
   "metadata": {},
   "outputs": [
    {
     "name": "stdout",
     "output_type": "stream",
     "text": [
      "Magic! I've scraped 1000 titles!\n"
     ]
    }
   ],
   "source": [
    "# set the options for the driver such that Chrome doesnt actually launch a GUI\n",
    "\n",
    "from selenium.webdriver.chrome.options import Options\n",
    "\n",
    "options = webdriver.ChromeOptions()\n",
    "options.add_argument(\"--headless\")\n",
    "\n",
    "#chromedriver_path = '/Users/deepa/Desktop/ChromeDriver/chromedriver-mac-arm64/chromedriver'\n",
    "driver = webdriver.Chrome(options=options)\n",
    "\n",
    "\n",
    "title_list = []\n",
    "\n",
    "for i in range(1, 51):\n",
    "    driver.get('https://books.toscrape.com/catalogue/page-{}.html'.format(i))\n",
    "\n",
    "    for x in range(1, 21):  #this range represents the number of books per page\n",
    "\n",
    "        title_element = driver.find_element(\"xpath\", '//*[@id=\"default\"]/div/\\\n",
    "                                              div/div/div/section/div[2]/ol/li[1]/article/h3/a'.format(x)) \n",
    "\n",
    "        title_list.append(title_element.get_attribute('title'))\n",
    "\n",
    "# quit your session so you don't have any ghost browsing sessions running \n",
    "\n",
    "driver.quit()\n",
    "\n",
    "print('Magic! I\\'ve scraped {} titles!'.format(len(title_list)))"
   ]
  },
  {
   "cell_type": "code",
   "execution_count": null,
   "id": "b2b85d77-0db5-4974-8d7c-0ba5e84cd6cf",
   "metadata": {},
   "outputs": [],
   "source": []
  }
 ],
 "metadata": {
  "kernelspec": {
   "display_name": "Python 3 (ipykernel)",
   "language": "python",
   "name": "python3"
  },
  "language_info": {
   "codemirror_mode": {
    "name": "ipython",
    "version": 3
   },
   "file_extension": ".py",
   "mimetype": "text/x-python",
   "name": "python",
   "nbconvert_exporter": "python",
   "pygments_lexer": "ipython3",
   "version": "3.12.2"
  }
 },
 "nbformat": 4,
 "nbformat_minor": 5
}
