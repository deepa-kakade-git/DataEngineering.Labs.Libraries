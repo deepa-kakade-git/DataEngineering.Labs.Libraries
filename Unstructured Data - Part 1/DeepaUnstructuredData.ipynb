{
 "cells": [
  {
   "cell_type": "code",
   "execution_count": 1,
   "id": "221ac1bf-1e8d-44b5-9c42-96f608c7c15b",
   "metadata": {},
   "outputs": [
    {
     "name": "stdout",
     "output_type": "stream",
     "text": [
      "The history saving thread hit an unexpected error (OperationalError('attempt to write a readonly database')).History will not be written to the database.\n"
     ]
    },
    {
     "ename": "ModuleNotFoundError",
     "evalue": "No module named 'nltk'",
     "output_type": "error",
     "traceback": [
      "\u001b[0;31m---------------------------------------------------------------------------\u001b[0m",
      "\u001b[0;31mModuleNotFoundError\u001b[0m                       Traceback (most recent call last)",
      "Cell \u001b[0;32mIn[1], line 3\u001b[0m\n\u001b[1;32m      1\u001b[0m \u001b[38;5;66;03m#import nltk, sklearn, pandas, numpy, matplotlib\u001b[39;00m\n\u001b[0;32m----> 3\u001b[0m \u001b[38;5;28;01mimport\u001b[39;00m \u001b[38;5;21;01mnltk\u001b[39;00m\n",
      "\u001b[0;31mModuleNotFoundError\u001b[0m: No module named 'nltk'"
     ]
    }
   ],
   "source": [
    "#import nltk, sklearn, pandas, numpy, matplotlib\n",
    "\n",
    "import nltk"
   ]
  },
  {
   "cell_type": "code",
   "execution_count": 2,
   "id": "8229f0b7-d5cf-4372-b379-90eca2f5312a",
   "metadata": {},
   "outputs": [
    {
     "name": "stdout",
     "output_type": "stream",
     "text": [
      "Collecting nltk\n",
      "  Downloading nltk-3.8.1-py3-none-any.whl.metadata (2.8 kB)\n",
      "Collecting click (from nltk)\n",
      "  Downloading click-8.1.7-py3-none-any.whl.metadata (3.0 kB)\n",
      "Requirement already satisfied: joblib in /Users/deepa/Library/jupyterlab-desktop/jlab_server/lib/python3.12/site-packages (from nltk) (1.4.0)\n",
      "Collecting regex>=2021.8.3 (from nltk)\n",
      "  Downloading regex-2023.12.25-cp312-cp312-macosx_11_0_arm64.whl.metadata (40 kB)\n",
      "\u001b[2K     \u001b[90m━━━━━━━━━━━━━━━━━━━━━━━━━━━━━━━━━━━━━━━━\u001b[0m \u001b[32m40.9/40.9 kB\u001b[0m \u001b[31m3.7 MB/s\u001b[0m eta \u001b[36m0:00:00\u001b[0m\n",
      "\u001b[?25hRequirement already satisfied: tqdm in /Users/deepa/Library/jupyterlab-desktop/jlab_server/lib/python3.12/site-packages (from nltk) (4.66.2)\n",
      "Downloading nltk-3.8.1-py3-none-any.whl (1.5 MB)\n",
      "\u001b[2K   \u001b[90m━━━━━━━━━━━━━━━━━━━━━━━━━━━━━━━━━━━━━━━━\u001b[0m \u001b[32m1.5/1.5 MB\u001b[0m \u001b[31m11.1 MB/s\u001b[0m eta \u001b[36m0:00:00\u001b[0ma \u001b[36m0:00:01\u001b[0m\n",
      "\u001b[?25hDownloading regex-2023.12.25-cp312-cp312-macosx_11_0_arm64.whl (292 kB)\n",
      "\u001b[2K   \u001b[90m━━━━━━━━━━━━━━━━━━━━━━━━━━━━━━━━━━━━━━━━\u001b[0m \u001b[32m292.2/292.2 kB\u001b[0m \u001b[31m8.2 MB/s\u001b[0m eta \u001b[36m0:00:00\u001b[0mta \u001b[36m0:00:01\u001b[0m\n",
      "\u001b[?25hDownloading click-8.1.7-py3-none-any.whl (97 kB)\n",
      "\u001b[2K   \u001b[90m━━━━━━━━━━━━━━━━━━━━━━━━━━━━━━━━━━━━━━━━\u001b[0m \u001b[32m97.9/97.9 kB\u001b[0m \u001b[31m7.3 MB/s\u001b[0m eta \u001b[36m0:00:00\u001b[0m\n",
      "\u001b[?25hInstalling collected packages: regex, click, nltk\n",
      "Successfully installed click-8.1.7 nltk-3.8.1 regex-2023.12.25\n",
      "Note: you may need to restart the kernel to use updated packages.\n"
     ]
    }
   ],
   "source": [
    "pip install nltk"
   ]
  },
  {
   "cell_type": "code",
   "execution_count": 3,
   "id": "f8ba7a87-909a-4b46-8de2-708318248266",
   "metadata": {},
   "outputs": [],
   "source": [
    "import nltk"
   ]
  },
  {
   "cell_type": "code",
   "execution_count": 4,
   "id": "3cdab650-a200-4ec2-8841-1bc0e31647fd",
   "metadata": {},
   "outputs": [],
   "source": [
    "from nltk.tokenize.api import TokenizerI"
   ]
  },
  {
   "cell_type": "code",
   "execution_count": 5,
   "id": "0107f44a-b7df-4a04-8bb4-bbed52417c45",
   "metadata": {},
   "outputs": [],
   "source": [
    "import pandas as pd"
   ]
  },
  {
   "cell_type": "code",
   "execution_count": 6,
   "id": "a5e675ad-87fd-4dca-805d-4f91ab028184",
   "metadata": {},
   "outputs": [],
   "source": [
    "%matplotlib inline"
   ]
  },
  {
   "cell_type": "code",
   "execution_count": 7,
   "id": "33cf83b8-c50d-44bd-ac34-031c26f908e2",
   "metadata": {},
   "outputs": [],
   "source": [
    "from matplotlib import pyplot as plt"
   ]
  },
  {
   "cell_type": "code",
   "execution_count": 8,
   "id": "5921f078-acc8-4c88-aa81-0a6458402383",
   "metadata": {},
   "outputs": [
    {
     "data": {
      "text/html": [
       "<div>\n",
       "<style scoped>\n",
       "    .dataframe tbody tr th:only-of-type {\n",
       "        vertical-align: middle;\n",
       "    }\n",
       "\n",
       "    .dataframe tbody tr th {\n",
       "        vertical-align: top;\n",
       "    }\n",
       "\n",
       "    .dataframe thead th {\n",
       "        text-align: right;\n",
       "    }\n",
       "</style>\n",
       "<table border=\"1\" class=\"dataframe\">\n",
       "  <thead>\n",
       "    <tr style=\"text-align: right;\">\n",
       "      <th></th>\n",
       "      <th>Title</th>\n",
       "      <th>Price</th>\n",
       "      <th>Description</th>\n",
       "      <th>Rating</th>\n",
       "      <th>Link</th>\n",
       "      <th>Genre</th>\n",
       "    </tr>\n",
       "  </thead>\n",
       "  <tbody>\n",
       "    <tr>\n",
       "      <th>0</th>\n",
       "      <td>A Light in the Attic</td>\n",
       "      <td>Â£51.77</td>\n",
       "      <td>It's hard to imagine a world without A Light i...</td>\n",
       "      <td>Three</td>\n",
       "      <td>a-light-in-the-attic_1000/index.html</td>\n",
       "      <td>Poetry</td>\n",
       "    </tr>\n",
       "    <tr>\n",
       "      <th>1</th>\n",
       "      <td>Tipping the Velvet</td>\n",
       "      <td>Â£53.74</td>\n",
       "      <td>\"Erotic and absorbing...Written with starling ...</td>\n",
       "      <td>One</td>\n",
       "      <td>tipping-the-velvet_999/index.html</td>\n",
       "      <td>Historical Fiction</td>\n",
       "    </tr>\n",
       "    <tr>\n",
       "      <th>2</th>\n",
       "      <td>Soumission</td>\n",
       "      <td>Â£50.10</td>\n",
       "      <td>Dans une France assez proche de la nÃ´tre, un ...</td>\n",
       "      <td>One</td>\n",
       "      <td>soumission_998/index.html</td>\n",
       "      <td>Fiction</td>\n",
       "    </tr>\n",
       "    <tr>\n",
       "      <th>3</th>\n",
       "      <td>Sharp Objects</td>\n",
       "      <td>Â£47.82</td>\n",
       "      <td>WICKED above her hipbone, GIRL across her hear...</td>\n",
       "      <td>Four</td>\n",
       "      <td>sharp-objects_997/index.html</td>\n",
       "      <td>Mystery</td>\n",
       "    </tr>\n",
       "    <tr>\n",
       "      <th>4</th>\n",
       "      <td>Sapiens: A Brief History of Humankind</td>\n",
       "      <td>Â£54.23</td>\n",
       "      <td>From a renowned historian comes a groundbreaki...</td>\n",
       "      <td>Five</td>\n",
       "      <td>sapiens-a-brief-history-of-humankind_996/index...</td>\n",
       "      <td>History</td>\n",
       "    </tr>\n",
       "  </tbody>\n",
       "</table>\n",
       "</div>"
      ],
      "text/plain": [
       "                                   Title    Price  \\\n",
       "0                   A Light in the Attic  Â£51.77   \n",
       "1                     Tipping the Velvet  Â£53.74   \n",
       "2                             Soumission  Â£50.10   \n",
       "3                          Sharp Objects  Â£47.82   \n",
       "4  Sapiens: A Brief History of Humankind  Â£54.23   \n",
       "\n",
       "                                         Description Rating  \\\n",
       "0  It's hard to imagine a world without A Light i...  Three   \n",
       "1  \"Erotic and absorbing...Written with starling ...    One   \n",
       "2  Dans une France assez proche de la nÃ´tre, un ...    One   \n",
       "3  WICKED above her hipbone, GIRL across her hear...   Four   \n",
       "4  From a renowned historian comes a groundbreaki...   Five   \n",
       "\n",
       "                                                Link               Genre  \n",
       "0               a-light-in-the-attic_1000/index.html              Poetry  \n",
       "1                  tipping-the-velvet_999/index.html  Historical Fiction  \n",
       "2                          soumission_998/index.html             Fiction  \n",
       "3                       sharp-objects_997/index.html             Mystery  \n",
       "4  sapiens-a-brief-history-of-humankind_996/index...             History  "
      ]
     },
     "execution_count": 8,
     "metadata": {},
     "output_type": "execute_result"
    }
   ],
   "source": [
    "#read in the dataset you built from the scrape of the books website and display the top of the df\n",
    "\n",
    "data = pd.read_csv('scraped_books.csv', index_col=0)\n",
    "data.head()"
   ]
  },
  {
   "cell_type": "code",
   "execution_count": 9,
   "id": "5abbce72-a190-43f2-855e-5cfda16dfd86",
   "metadata": {},
   "outputs": [
    {
     "name": "stdout",
     "output_type": "stream",
     "text": [
      "<class 'pandas.core.frame.DataFrame'>\n",
      "Index: 1000 entries, 0 to 999\n",
      "Data columns (total 6 columns):\n",
      " #   Column       Non-Null Count  Dtype \n",
      "---  ------       --------------  ----- \n",
      " 0   Title        1000 non-null   object\n",
      " 1   Price        1000 non-null   object\n",
      " 2   Description  1000 non-null   object\n",
      " 3   Rating       1000 non-null   object\n",
      " 4   Link         1000 non-null   object\n",
      " 5   Genre        1000 non-null   object\n",
      "dtypes: object(6)\n",
      "memory usage: 54.7+ KB\n"
     ]
    }
   ],
   "source": [
    "# check if there are any nulls to deal with\n",
    "\n",
    "data.info()"
   ]
  },
  {
   "cell_type": "code",
   "execution_count": 10,
   "id": "20f00e20-0767-4a59-a23d-d69c687f514e",
   "metadata": {},
   "outputs": [
    {
     "data": {
      "text/plain": [
       "Rating\n",
       "One      226\n",
       "Three    203\n",
       "Five     196\n",
       "Two      196\n",
       "Four     179\n",
       "Name: count, dtype: int64"
      ]
     },
     "execution_count": 10,
     "metadata": {},
     "output_type": "execute_result"
    }
   ],
   "source": [
    "#view count of the rating column\n",
    "\n",
    "data.Rating.value_counts()"
   ]
  },
  {
   "cell_type": "code",
   "execution_count": 17,
   "id": "eb85723c-c816-4590-8a66-d3d965a53a6d",
   "metadata": {},
   "outputs": [
    {
     "data": {
      "image/png": "[encoded data removed]",
      "text/plain": [
       "<Figure size 640x480 with 1 Axes>"
      ]
     },
     "metadata": {},
     "output_type": "display_data"
    }
   ],
   "source": [
    "#pie chart the ratings to get a feel for distribution\n",
    "\n",
    "#labels = data.Rating.value_counts().index\n",
    "#sizes = data.Rating.value_counts().values\n",
    "\n",
    "fig1, ax1 = plt.subplots()\n",
    "ax1.pie(sizes, labels=labels, autopct='%1.1f%%',\n",
    "        shadow=True, startangle=90)\n",
    "ax1.axis('equal')\n",
    "\n",
    "plt.show()"
   ]
  },
  {
   "cell_type": "code",
   "execution_count": 18,
   "id": "4c570a9c-3a27-470f-b39c-2cdb1608d333",
   "metadata": {},
   "outputs": [
    {
     "data": {
      "text/plain": [
       "Genre\n",
       "Default               152\n",
       "Nonfiction            110\n",
       "Sequential Art         75\n",
       "Add a comment          67\n",
       "Fiction                65\n",
       "Young Adult            54\n",
       "Fantasy                48\n",
       "Romance                35\n",
       "Mystery                32\n",
       "Food and Drink         30\n",
       "Childrens              29\n",
       "Historical Fiction     26\n",
       "Poetry                 19\n",
       "Classics               19\n",
       "History                18\n",
       "Horror                 17\n",
       "Womens Fiction         17\n",
       "Science Fiction        16\n",
       "Science                14\n",
       "Music                  13\n",
       "Business               12\n",
       "Thriller               11\n",
       "Travel                 11\n",
       "Philosophy             11\n",
       "Humor                  10\n",
       "Autobiography           9\n",
       "Art                     8\n",
       "Psychology              7\n",
       "Religion                7\n",
       "Spirituality            6\n",
       "Christian Fiction       6\n",
       "New Adult               6\n",
       "Sports and Games        5\n",
       "Biography               5\n",
       "Self Help               5\n",
       "Health                  4\n",
       "Christian               3\n",
       "Politics                3\n",
       "Contemporary            3\n",
       "Historical              2\n",
       "Crime                   1\n",
       "Erotica                 1\n",
       "Cultural                1\n",
       "Novels                  1\n",
       "Short Stories           1\n",
       "Suspense                1\n",
       "Academic                1\n",
       "Adult Fiction           1\n",
       "Parenting               1\n",
       "Paranormal              1\n",
       "Name: count, dtype: int64"
      ]
     },
     "execution_count": 18,
     "metadata": {},
     "output_type": "execute_result"
    }
   ],
   "source": [
    "#there are lots of genres, so just show the number of books in each genre\n",
    "\n",
    "data.Genre.value_counts()"
   ]
  },
  {
   "cell_type": "code",
   "execution_count": 20,
   "id": "d96fb0ae-8d41-430a-a52e-8ba559918d1d",
   "metadata": {},
   "outputs": [
    {
     "ename": "LookupError",
     "evalue": "\n**********************************************************************\n  Resource \u001b[93mpunkt\u001b[0m not found.\n  Please use the NLTK Downloader to obtain the resource:\n\n  \u001b[31m>>> import nltk\n  >>> nltk.download('punkt')\n  \u001b[0m\n  For more information see: https://www.nltk.org/data.html\n\n  Attempted to load \u001b[93mtokenizers/punkt/PY3/english.pickle\u001b[0m\n\n  Searched in:\n    - '/Users/deepa/nltk_data'\n    - '/Users/deepa/Library/jupyterlab-desktop/jlab_server/nltk_data'\n    - '/Users/deepa/Library/jupyterlab-desktop/jlab_server/share/nltk_data'\n    - '/Users/deepa/Library/jupyterlab-desktop/jlab_server/lib/nltk_data'\n    - '/usr/share/nltk_data'\n    - '/usr/local/share/nltk_data'\n    - '/usr/lib/nltk_data'\n    - '/usr/local/lib/nltk_data'\n    - ''\n**********************************************************************\n",
     "output_type": "error",
     "traceback": [
      "\u001b[0;31m---------------------------------------------------------------------------\u001b[0m",
      "\u001b[0;31mLookupError\u001b[0m                               Traceback (most recent call last)",
      "Cell \u001b[0;32mIn[20], line 3\u001b[0m\n\u001b[1;32m      1\u001b[0m \u001b[38;5;66;03m#here's a freebie word_tokenize() turns a string of text into a list of tokens.\u001b[39;00m\n\u001b[0;32m----> 3\u001b[0m test \u001b[38;5;241m=\u001b[39m \u001b[43mnltk\u001b[49m\u001b[38;5;241;43m.\u001b[39;49m\u001b[43mword_tokenize\u001b[49m\u001b[43m(\u001b[49m\u001b[38;5;124;43m'\u001b[39;49m\u001b[38;5;124;43mHello zipcoder. I hope you have an amazing day!\u001b[39;49m\u001b[38;5;124;43m'\u001b[39;49m\u001b[43m)\u001b[49m\n\u001b[1;32m      4\u001b[0m test\n",
      "File \u001b[0;32m~/Library/jupyterlab-desktop/jlab_server/lib/python3.12/site-packages/nltk/tokenize/__init__.py:129\u001b[0m, in \u001b[0;36mword_tokenize\u001b[0;34m(text, language, preserve_line)\u001b[0m\n\u001b[1;32m    114\u001b[0m \u001b[38;5;28;01mdef\u001b[39;00m \u001b[38;5;21mword_tokenize\u001b[39m(text, language\u001b[38;5;241m=\u001b[39m\u001b[38;5;124m\"\u001b[39m\u001b[38;5;124menglish\u001b[39m\u001b[38;5;124m\"\u001b[39m, preserve_line\u001b[38;5;241m=\u001b[39m\u001b[38;5;28;01mFalse\u001b[39;00m):\n\u001b[1;32m    115\u001b[0m \u001b[38;5;250m    \u001b[39m\u001b[38;5;124;03m\"\"\"\u001b[39;00m\n\u001b[1;32m    116\u001b[0m \u001b[38;5;124;03m    Return a tokenized copy of *text*,\u001b[39;00m\n\u001b[1;32m    117\u001b[0m \u001b[38;5;124;03m    using NLTK's recommended word tokenizer\u001b[39;00m\n\u001b[0;32m   (...)\u001b[0m\n\u001b[1;32m    127\u001b[0m \u001b[38;5;124;03m    :type preserve_line: bool\u001b[39;00m\n\u001b[1;32m    128\u001b[0m \u001b[38;5;124;03m    \"\"\"\u001b[39;00m\n\u001b[0;32m--> 129\u001b[0m     sentences \u001b[38;5;241m=\u001b[39m [text] \u001b[38;5;28;01mif\u001b[39;00m preserve_line \u001b[38;5;28;01melse\u001b[39;00m \u001b[43msent_tokenize\u001b[49m\u001b[43m(\u001b[49m\u001b[43mtext\u001b[49m\u001b[43m,\u001b[49m\u001b[43m \u001b[49m\u001b[43mlanguage\u001b[49m\u001b[43m)\u001b[49m\n\u001b[1;32m    130\u001b[0m     \u001b[38;5;28;01mreturn\u001b[39;00m [\n\u001b[1;32m    131\u001b[0m         token \u001b[38;5;28;01mfor\u001b[39;00m sent \u001b[38;5;129;01min\u001b[39;00m sentences \u001b[38;5;28;01mfor\u001b[39;00m token \u001b[38;5;129;01min\u001b[39;00m _treebank_word_tokenizer\u001b[38;5;241m.\u001b[39mtokenize(sent)\n\u001b[1;32m    132\u001b[0m     ]\n",
      "File \u001b[0;32m~/Library/jupyterlab-desktop/jlab_server/lib/python3.12/site-packages/nltk/tokenize/__init__.py:106\u001b[0m, in \u001b[0;36msent_tokenize\u001b[0;34m(text, language)\u001b[0m\n\u001b[1;32m     96\u001b[0m \u001b[38;5;28;01mdef\u001b[39;00m \u001b[38;5;21msent_tokenize\u001b[39m(text, language\u001b[38;5;241m=\u001b[39m\u001b[38;5;124m\"\u001b[39m\u001b[38;5;124menglish\u001b[39m\u001b[38;5;124m\"\u001b[39m):\n\u001b[1;32m     97\u001b[0m \u001b[38;5;250m    \u001b[39m\u001b[38;5;124;03m\"\"\"\u001b[39;00m\n\u001b[1;32m     98\u001b[0m \u001b[38;5;124;03m    Return a sentence-tokenized copy of *text*,\u001b[39;00m\n\u001b[1;32m     99\u001b[0m \u001b[38;5;124;03m    using NLTK's recommended sentence tokenizer\u001b[39;00m\n\u001b[0;32m   (...)\u001b[0m\n\u001b[1;32m    104\u001b[0m \u001b[38;5;124;03m    :param language: the model name in the Punkt corpus\u001b[39;00m\n\u001b[1;32m    105\u001b[0m \u001b[38;5;124;03m    \"\"\"\u001b[39;00m\n\u001b[0;32m--> 106\u001b[0m     tokenizer \u001b[38;5;241m=\u001b[39m \u001b[43mload\u001b[49m\u001b[43m(\u001b[49m\u001b[38;5;124;43mf\u001b[39;49m\u001b[38;5;124;43m\"\u001b[39;49m\u001b[38;5;124;43mtokenizers/punkt/\u001b[39;49m\u001b[38;5;132;43;01m{\u001b[39;49;00m\u001b[43mlanguage\u001b[49m\u001b[38;5;132;43;01m}\u001b[39;49;00m\u001b[38;5;124;43m.pickle\u001b[39;49m\u001b[38;5;124;43m\"\u001b[39;49m\u001b[43m)\u001b[49m\n\u001b[1;32m    107\u001b[0m     \u001b[38;5;28;01mreturn\u001b[39;00m tokenizer\u001b[38;5;241m.\u001b[39mtokenize(text)\n",
      "File \u001b[0;32m~/Library/jupyterlab-desktop/jlab_server/lib/python3.12/site-packages/nltk/data.py:750\u001b[0m, in \u001b[0;36mload\u001b[0;34m(resource_url, format, cache, verbose, logic_parser, fstruct_reader, encoding)\u001b[0m\n\u001b[1;32m    747\u001b[0m     \u001b[38;5;28mprint\u001b[39m(\u001b[38;5;124mf\u001b[39m\u001b[38;5;124m\"\u001b[39m\u001b[38;5;124m<<Loading \u001b[39m\u001b[38;5;132;01m{\u001b[39;00mresource_url\u001b[38;5;132;01m}\u001b[39;00m\u001b[38;5;124m>>\u001b[39m\u001b[38;5;124m\"\u001b[39m)\n\u001b[1;32m    749\u001b[0m \u001b[38;5;66;03m# Load the resource.\u001b[39;00m\n\u001b[0;32m--> 750\u001b[0m opened_resource \u001b[38;5;241m=\u001b[39m \u001b[43m_open\u001b[49m\u001b[43m(\u001b[49m\u001b[43mresource_url\u001b[49m\u001b[43m)\u001b[49m\n\u001b[1;32m    752\u001b[0m \u001b[38;5;28;01mif\u001b[39;00m \u001b[38;5;28mformat\u001b[39m \u001b[38;5;241m==\u001b[39m \u001b[38;5;124m\"\u001b[39m\u001b[38;5;124mraw\u001b[39m\u001b[38;5;124m\"\u001b[39m:\n\u001b[1;32m    753\u001b[0m     resource_val \u001b[38;5;241m=\u001b[39m opened_resource\u001b[38;5;241m.\u001b[39mread()\n",
      "File \u001b[0;32m~/Library/jupyterlab-desktop/jlab_server/lib/python3.12/site-packages/nltk/data.py:876\u001b[0m, in \u001b[0;36m_open\u001b[0;34m(resource_url)\u001b[0m\n\u001b[1;32m    873\u001b[0m protocol, path_ \u001b[38;5;241m=\u001b[39m split_resource_url(resource_url)\n\u001b[1;32m    875\u001b[0m \u001b[38;5;28;01mif\u001b[39;00m protocol \u001b[38;5;129;01mis\u001b[39;00m \u001b[38;5;28;01mNone\u001b[39;00m \u001b[38;5;129;01mor\u001b[39;00m protocol\u001b[38;5;241m.\u001b[39mlower() \u001b[38;5;241m==\u001b[39m \u001b[38;5;124m\"\u001b[39m\u001b[38;5;124mnltk\u001b[39m\u001b[38;5;124m\"\u001b[39m:\n\u001b[0;32m--> 876\u001b[0m     \u001b[38;5;28;01mreturn\u001b[39;00m \u001b[43mfind\u001b[49m\u001b[43m(\u001b[49m\u001b[43mpath_\u001b[49m\u001b[43m,\u001b[49m\u001b[43m \u001b[49m\u001b[43mpath\u001b[49m\u001b[43m \u001b[49m\u001b[38;5;241;43m+\u001b[39;49m\u001b[43m \u001b[49m\u001b[43m[\u001b[49m\u001b[38;5;124;43m\"\u001b[39;49m\u001b[38;5;124;43m\"\u001b[39;49m\u001b[43m]\u001b[49m\u001b[43m)\u001b[49m\u001b[38;5;241m.\u001b[39mopen()\n\u001b[1;32m    877\u001b[0m \u001b[38;5;28;01melif\u001b[39;00m protocol\u001b[38;5;241m.\u001b[39mlower() \u001b[38;5;241m==\u001b[39m \u001b[38;5;124m\"\u001b[39m\u001b[38;5;124mfile\u001b[39m\u001b[38;5;124m\"\u001b[39m:\n\u001b[1;32m    878\u001b[0m     \u001b[38;5;66;03m# urllib might not use mode='rb', so handle this one ourselves:\u001b[39;00m\n\u001b[1;32m    879\u001b[0m     \u001b[38;5;28;01mreturn\u001b[39;00m find(path_, [\u001b[38;5;124m\"\u001b[39m\u001b[38;5;124m\"\u001b[39m])\u001b[38;5;241m.\u001b[39mopen()\n",
      "File \u001b[0;32m~/Library/jupyterlab-desktop/jlab_server/lib/python3.12/site-packages/nltk/data.py:583\u001b[0m, in \u001b[0;36mfind\u001b[0;34m(resource_name, paths)\u001b[0m\n\u001b[1;32m    581\u001b[0m sep \u001b[38;5;241m=\u001b[39m \u001b[38;5;124m\"\u001b[39m\u001b[38;5;124m*\u001b[39m\u001b[38;5;124m\"\u001b[39m \u001b[38;5;241m*\u001b[39m \u001b[38;5;241m70\u001b[39m\n\u001b[1;32m    582\u001b[0m resource_not_found \u001b[38;5;241m=\u001b[39m \u001b[38;5;124mf\u001b[39m\u001b[38;5;124m\"\u001b[39m\u001b[38;5;130;01m\\n\u001b[39;00m\u001b[38;5;132;01m{\u001b[39;00msep\u001b[38;5;132;01m}\u001b[39;00m\u001b[38;5;130;01m\\n\u001b[39;00m\u001b[38;5;132;01m{\u001b[39;00mmsg\u001b[38;5;132;01m}\u001b[39;00m\u001b[38;5;130;01m\\n\u001b[39;00m\u001b[38;5;132;01m{\u001b[39;00msep\u001b[38;5;132;01m}\u001b[39;00m\u001b[38;5;130;01m\\n\u001b[39;00m\u001b[38;5;124m\"\u001b[39m\n\u001b[0;32m--> 583\u001b[0m \u001b[38;5;28;01mraise\u001b[39;00m \u001b[38;5;167;01mLookupError\u001b[39;00m(resource_not_found)\n",
      "\u001b[0;31mLookupError\u001b[0m: \n**********************************************************************\n  Resource \u001b[93mpunkt\u001b[0m not found.\n  Please use the NLTK Downloader to obtain the resource:\n\n  \u001b[31m>>> import nltk\n  >>> nltk.download('punkt')\n  \u001b[0m\n  For more information see: https://www.nltk.org/data.html\n\n  Attempted to load \u001b[93mtokenizers/punkt/PY3/english.pickle\u001b[0m\n\n  Searched in:\n    - '/Users/deepa/nltk_data'\n    - '/Users/deepa/Library/jupyterlab-desktop/jlab_server/nltk_data'\n    - '/Users/deepa/Library/jupyterlab-desktop/jlab_server/share/nltk_data'\n    - '/Users/deepa/Library/jupyterlab-desktop/jlab_server/lib/nltk_data'\n    - '/usr/share/nltk_data'\n    - '/usr/local/share/nltk_data'\n    - '/usr/lib/nltk_data'\n    - '/usr/local/lib/nltk_data'\n    - ''\n**********************************************************************\n"
     ]
    }
   ],
   "source": [
    "#here's a freebie word_tokenize() turns a string of text into a list of tokens.\n",
    "\n",
    "test = nltk.word_tokenize('Hello zipcoder. I hope you have an amazing day!')\n",
    "test"
   ]
  },
  {
   "cell_type": "code",
   "execution_count": 21,
   "id": "201537d8-f4fc-4c10-bba4-004a8fc93eed",
   "metadata": {},
   "outputs": [
    {
     "name": "stderr",
     "output_type": "stream",
     "text": [
      "[nltk_data] Downloading package punkt to /Users/deepa/nltk_data...\n",
      "[nltk_data]   Unzipping tokenizers/punkt.zip.\n"
     ]
    },
    {
     "data": {
      "text/plain": [
       "True"
      ]
     },
     "execution_count": 21,
     "metadata": {},
     "output_type": "execute_result"
    }
   ],
   "source": [
    "nltk.download('punkt')"
   ]
  },
  {
   "cell_type": "code",
   "execution_count": 22,
   "id": "9f3c2781-4b72-4bf9-a830-fe2259c21e9f",
   "metadata": {},
   "outputs": [],
   "source": [
    "\n",
    "test = nltk.word_tokenize('Hello zipcoder. I hope you have an amazing day!')"
   ]
  },
  {
   "cell_type": "code",
   "execution_count": 23,
   "id": "39fb1eef-16d9-418d-970f-7b9b30b50292",
   "metadata": {},
   "outputs": [
    {
     "data": {
      "text/plain": [
       "['Hello',\n",
       " 'zipcoder',\n",
       " '.',\n",
       " 'I',\n",
       " 'hope',\n",
       " 'you',\n",
       " 'have',\n",
       " 'an',\n",
       " 'amazing',\n",
       " 'day',\n",
       " '!']"
      ]
     },
     "execution_count": 23,
     "metadata": {},
     "output_type": "execute_result"
    }
   ],
   "source": [
    "test"
   ]
  },
  {
   "cell_type": "code",
   "execution_count": 24,
   "id": "79238dc1-659b-4e9e-b83b-67c41808d7c9",
   "metadata": {},
   "outputs": [
    {
     "data": {
      "text/plain": [
       "\"It's hard to imagine a world without A Light in the Attic. This now-classic collection of poetry and drawings from Shel Silverstein celebrates its 20th anniversary with this special edition. Silverstein's humorous and creative verse can amuse the dowdiest of readers. Lemon-faced adults and fidgety kids sit still and read these rhythmic words and laugh and smile and love th It's hard to imagine a world without A Light in the Attic. This now-classic collection of poetry and drawings from Shel Silverstein celebrates its 20th anniversary with this special edition. Silverstein's humorous and creative verse can amuse the dowdiest of readers. Lemon-faced adults and fidgety kids sit still and read these rhythmic words and laugh and smile and love that Silverstein. Need proof of his genius? RockabyeRockabye baby, in the treetopDon't you know a treetopIs no safe place to rock?And who put you up there,And your cradle, too?Baby, I think someone down here'sGot it in for you. Shel, you never sounded so good. ...more\""
      ]
     },
     "execution_count": 24,
     "metadata": {},
     "output_type": "execute_result"
    }
   ],
   "source": [
    "#show the description of the first book in the dataframe\n",
    "\n",
    "data.Description[0]"
   ]
  },
  {
   "cell_type": "code",
   "execution_count": 25,
   "id": "3fe64ec9-771c-4aaa-bed7-fdbdbd1acc42",
   "metadata": {},
   "outputs": [
    {
     "data": {
      "text/plain": [
       "['It',\n",
       " \"'s\",\n",
       " 'hard',\n",
       " 'to',\n",
       " 'imagine',\n",
       " 'a',\n",
       " 'world',\n",
       " 'without',\n",
       " 'A',\n",
       " 'Light',\n",
       " 'in',\n",
       " 'the',\n",
       " 'Attic',\n",
       " '.',\n",
       " 'This',\n",
       " 'now-classic',\n",
       " 'collection',\n",
       " 'of',\n",
       " 'poetry',\n",
       " 'and',\n",
       " 'drawings',\n",
       " 'from',\n",
       " 'Shel',\n",
       " 'Silverstein',\n",
       " 'celebrates',\n",
       " 'its',\n",
       " '20th',\n",
       " 'anniversary',\n",
       " 'with',\n",
       " 'this',\n",
       " 'special',\n",
       " 'edition',\n",
       " '.',\n",
       " 'Silverstein',\n",
       " \"'s\",\n",
       " 'humorous',\n",
       " 'and',\n",
       " 'creative',\n",
       " 'verse',\n",
       " 'can',\n",
       " 'amuse',\n",
       " 'the',\n",
       " 'dowdiest',\n",
       " 'of',\n",
       " 'readers',\n",
       " '.',\n",
       " 'Lemon-faced',\n",
       " 'adults',\n",
       " 'and',\n",
       " 'fidgety',\n",
       " 'kids',\n",
       " 'sit',\n",
       " 'still',\n",
       " 'and',\n",
       " 'read',\n",
       " 'these',\n",
       " 'rhythmic',\n",
       " 'words',\n",
       " 'and',\n",
       " 'laugh',\n",
       " 'and',\n",
       " 'smile',\n",
       " 'and',\n",
       " 'love',\n",
       " 'th',\n",
       " 'It',\n",
       " \"'s\",\n",
       " 'hard',\n",
       " 'to',\n",
       " 'imagine',\n",
       " 'a',\n",
       " 'world',\n",
       " 'without',\n",
       " 'A',\n",
       " 'Light',\n",
       " 'in',\n",
       " 'the',\n",
       " 'Attic',\n",
       " '.',\n",
       " 'This',\n",
       " 'now-classic',\n",
       " 'collection',\n",
       " 'of',\n",
       " 'poetry',\n",
       " 'and',\n",
       " 'drawings',\n",
       " 'from',\n",
       " 'Shel',\n",
       " 'Silverstein',\n",
       " 'celebrates',\n",
       " 'its',\n",
       " '20th',\n",
       " 'anniversary',\n",
       " 'with',\n",
       " 'this',\n",
       " 'special',\n",
       " 'edition',\n",
       " '.',\n",
       " 'Silverstein',\n",
       " \"'s\",\n",
       " 'humorous',\n",
       " 'and',\n",
       " 'creative',\n",
       " 'verse',\n",
       " 'can',\n",
       " 'amuse',\n",
       " 'the',\n",
       " 'dowdiest',\n",
       " 'of',\n",
       " 'readers',\n",
       " '.',\n",
       " 'Lemon-faced',\n",
       " 'adults',\n",
       " 'and',\n",
       " 'fidgety',\n",
       " 'kids',\n",
       " 'sit',\n",
       " 'still',\n",
       " 'and',\n",
       " 'read',\n",
       " 'these',\n",
       " 'rhythmic',\n",
       " 'words',\n",
       " 'and',\n",
       " 'laugh',\n",
       " 'and',\n",
       " 'smile',\n",
       " 'and',\n",
       " 'love',\n",
       " 'that',\n",
       " 'Silverstein',\n",
       " '.',\n",
       " 'Need',\n",
       " 'proof',\n",
       " 'of',\n",
       " 'his',\n",
       " 'genius',\n",
       " '?',\n",
       " 'RockabyeRockabye',\n",
       " 'baby',\n",
       " ',',\n",
       " 'in',\n",
       " 'the',\n",
       " 'treetopDo',\n",
       " \"n't\",\n",
       " 'you',\n",
       " 'know',\n",
       " 'a',\n",
       " 'treetopIs',\n",
       " 'no',\n",
       " 'safe',\n",
       " 'place',\n",
       " 'to',\n",
       " 'rock',\n",
       " '?',\n",
       " 'And',\n",
       " 'who',\n",
       " 'put',\n",
       " 'you',\n",
       " 'up',\n",
       " 'there',\n",
       " ',',\n",
       " 'And',\n",
       " 'your',\n",
       " 'cradle',\n",
       " ',',\n",
       " 'too',\n",
       " '?',\n",
       " 'Baby',\n",
       " ',',\n",
       " 'I',\n",
       " 'think',\n",
       " 'someone',\n",
       " 'down',\n",
       " \"here'sGot\",\n",
       " 'it',\n",
       " 'in',\n",
       " 'for',\n",
       " 'you',\n",
       " '.',\n",
       " 'Shel',\n",
       " ',',\n",
       " 'you',\n",
       " 'never',\n",
       " 'sounded',\n",
       " 'so',\n",
       " 'good',\n",
       " '.',\n",
       " '...',\n",
       " 'more']"
      ]
     },
     "execution_count": 25,
     "metadata": {},
     "output_type": "execute_result"
    }
   ],
   "source": [
    "#tokenize the description of the first book in the dataframe\n",
    "\n",
    "first = nltk.word_tokenize(data.Description[0])\n",
    "first"
   ]
  },
  {
   "cell_type": "code",
   "execution_count": 26,
   "id": "7921d486-e027-4bab-b64b-5048b7d56aa8",
   "metadata": {},
   "outputs": [
    {
     "data": {
      "text/plain": [
       "FreqDist({'and': 14, '.': 9, 'the': 5, 'of': 5, 'Silverstein': 5, ',': 5, \"'s\": 4, 'in': 4, 'you': 4, 'to': 3, ...})"
      ]
     },
     "execution_count": 26,
     "metadata": {},
     "output_type": "execute_result"
    }
   ],
   "source": [
    "#now let's figure out the frequency of each word\n",
    "\n",
    "frequency = nltk.FreqDist(first)\n",
    "frequency"
   ]
  },
  {
   "cell_type": "raw",
   "id": "c4c9d74d-1c9e-41c0-b5b7-36ddeaf63ec5",
   "metadata": {},
   "source": [
    "what are 10 most common words"
   ]
  },
  {
   "cell_type": "code",
   "execution_count": 29,
   "id": "92a4f2cb-cf34-4dfa-842a-29c3d566a70b",
   "metadata": {},
   "outputs": [
    {
     "data": {
      "text/plain": [
       "[('and', 14),\n",
       " ('.', 9),\n",
       " ('the', 5),\n",
       " ('of', 5),\n",
       " ('Silverstein', 5),\n",
       " (',', 5),\n",
       " (\"'s\", 4),\n",
       " ('in', 4),\n",
       " ('you', 4),\n",
       " ('to', 3)]"
      ]
     },
     "execution_count": 29,
     "metadata": {},
     "output_type": "execute_result"
    }
   ],
   "source": [
    "# display the 10 most common words\n",
    "\n",
    "frequency.most_common(10)"
   ]
  },
  {
   "cell_type": "code",
   "execution_count": 30,
   "id": "128ac7d4-e6e1-4554-88f4-42a48a4d4cdb",
   "metadata": {},
   "outputs": [],
   "source": [
    "#import nltk's stopword corpus\n",
    "\n",
    "from nltk.corpus import stopwords"
   ]
  },
  {
   "cell_type": "code",
   "execution_count": 31,
   "id": "ced450af-a375-430e-bfd6-f60b5ed5510e",
   "metadata": {},
   "outputs": [
    {
     "ename": "LookupError",
     "evalue": "\n**********************************************************************\n  Resource \u001b[93mstopwords\u001b[0m not found.\n  Please use the NLTK Downloader to obtain the resource:\n\n  \u001b[31m>>> import nltk\n  >>> nltk.download('stopwords')\n  \u001b[0m\n  For more information see: https://www.nltk.org/data.html\n\n  Attempted to load \u001b[93mcorpora/stopwords\u001b[0m\n\n  Searched in:\n    - '/Users/deepa/nltk_data'\n    - '/Users/deepa/Library/jupyterlab-desktop/jlab_server/nltk_data'\n    - '/Users/deepa/Library/jupyterlab-desktop/jlab_server/share/nltk_data'\n    - '/Users/deepa/Library/jupyterlab-desktop/jlab_server/lib/nltk_data'\n    - '/usr/share/nltk_data'\n    - '/usr/local/share/nltk_data'\n    - '/usr/lib/nltk_data'\n    - '/usr/local/lib/nltk_data'\n**********************************************************************\n",
     "output_type": "error",
     "traceback": [
      "\u001b[0;31m---------------------------------------------------------------------------\u001b[0m",
      "\u001b[0;31mLookupError\u001b[0m                               Traceback (most recent call last)",
      "File \u001b[0;32m~/Library/jupyterlab-desktop/jlab_server/lib/python3.12/site-packages/nltk/corpus/util.py:84\u001b[0m, in \u001b[0;36mLazyCorpusLoader.__load\u001b[0;34m(self)\u001b[0m\n\u001b[1;32m     83\u001b[0m \u001b[38;5;28;01mtry\u001b[39;00m:\n\u001b[0;32m---> 84\u001b[0m     root \u001b[38;5;241m=\u001b[39m \u001b[43mnltk\u001b[49m\u001b[38;5;241;43m.\u001b[39;49m\u001b[43mdata\u001b[49m\u001b[38;5;241;43m.\u001b[39;49m\u001b[43mfind\u001b[49m\u001b[43m(\u001b[49m\u001b[38;5;124;43mf\u001b[39;49m\u001b[38;5;124;43m\"\u001b[39;49m\u001b[38;5;132;43;01m{\u001b[39;49;00m\u001b[38;5;28;43mself\u001b[39;49m\u001b[38;5;241;43m.\u001b[39;49m\u001b[43msubdir\u001b[49m\u001b[38;5;132;43;01m}\u001b[39;49;00m\u001b[38;5;124;43m/\u001b[39;49m\u001b[38;5;132;43;01m{\u001b[39;49;00m\u001b[43mzip_name\u001b[49m\u001b[38;5;132;43;01m}\u001b[39;49;00m\u001b[38;5;124;43m\"\u001b[39;49m\u001b[43m)\u001b[49m\n\u001b[1;32m     85\u001b[0m \u001b[38;5;28;01mexcept\u001b[39;00m \u001b[38;5;167;01mLookupError\u001b[39;00m:\n",
      "File \u001b[0;32m~/Library/jupyterlab-desktop/jlab_server/lib/python3.12/site-packages/nltk/data.py:583\u001b[0m, in \u001b[0;36mfind\u001b[0;34m(resource_name, paths)\u001b[0m\n\u001b[1;32m    582\u001b[0m resource_not_found \u001b[38;5;241m=\u001b[39m \u001b[38;5;124mf\u001b[39m\u001b[38;5;124m\"\u001b[39m\u001b[38;5;130;01m\\n\u001b[39;00m\u001b[38;5;132;01m{\u001b[39;00msep\u001b[38;5;132;01m}\u001b[39;00m\u001b[38;5;130;01m\\n\u001b[39;00m\u001b[38;5;132;01m{\u001b[39;00mmsg\u001b[38;5;132;01m}\u001b[39;00m\u001b[38;5;130;01m\\n\u001b[39;00m\u001b[38;5;132;01m{\u001b[39;00msep\u001b[38;5;132;01m}\u001b[39;00m\u001b[38;5;130;01m\\n\u001b[39;00m\u001b[38;5;124m\"\u001b[39m\n\u001b[0;32m--> 583\u001b[0m \u001b[38;5;28;01mraise\u001b[39;00m \u001b[38;5;167;01mLookupError\u001b[39;00m(resource_not_found)\n",
      "\u001b[0;31mLookupError\u001b[0m: \n**********************************************************************\n  Resource \u001b[93mstopwords\u001b[0m not found.\n  Please use the NLTK Downloader to obtain the resource:\n\n  \u001b[31m>>> import nltk\n  >>> nltk.download('stopwords')\n  \u001b[0m\n  For more information see: https://www.nltk.org/data.html\n\n  Attempted to load \u001b[93mcorpora/stopwords.zip/stopwords/\u001b[0m\n\n  Searched in:\n    - '/Users/deepa/nltk_data'\n    - '/Users/deepa/Library/jupyterlab-desktop/jlab_server/nltk_data'\n    - '/Users/deepa/Library/jupyterlab-desktop/jlab_server/share/nltk_data'\n    - '/Users/deepa/Library/jupyterlab-desktop/jlab_server/lib/nltk_data'\n    - '/usr/share/nltk_data'\n    - '/usr/local/share/nltk_data'\n    - '/usr/lib/nltk_data'\n    - '/usr/local/lib/nltk_data'\n**********************************************************************\n",
      "\nDuring handling of the above exception, another exception occurred:\n",
      "\u001b[0;31mLookupError\u001b[0m                               Traceback (most recent call last)",
      "Cell \u001b[0;32mIn[31], line 3\u001b[0m\n\u001b[1;32m      1\u001b[0m \u001b[38;5;66;03m#set the stopwords to only include english words \u001b[39;00m\n\u001b[0;32m----> 3\u001b[0m stopwords \u001b[38;5;241m=\u001b[39m \u001b[43mstopwords\u001b[49m\u001b[38;5;241;43m.\u001b[39;49m\u001b[43mwords\u001b[49m(\u001b[38;5;124m'\u001b[39m\u001b[38;5;124menglish\u001b[39m\u001b[38;5;124m'\u001b[39m)\n",
      "File \u001b[0;32m~/Library/jupyterlab-desktop/jlab_server/lib/python3.12/site-packages/nltk/corpus/util.py:121\u001b[0m, in \u001b[0;36mLazyCorpusLoader.__getattr__\u001b[0;34m(self, attr)\u001b[0m\n\u001b[1;32m    118\u001b[0m \u001b[38;5;28;01mif\u001b[39;00m attr \u001b[38;5;241m==\u001b[39m \u001b[38;5;124m\"\u001b[39m\u001b[38;5;124m__bases__\u001b[39m\u001b[38;5;124m\"\u001b[39m:\n\u001b[1;32m    119\u001b[0m     \u001b[38;5;28;01mraise\u001b[39;00m \u001b[38;5;167;01mAttributeError\u001b[39;00m(\u001b[38;5;124m\"\u001b[39m\u001b[38;5;124mLazyCorpusLoader object has no attribute \u001b[39m\u001b[38;5;124m'\u001b[39m\u001b[38;5;124m__bases__\u001b[39m\u001b[38;5;124m'\u001b[39m\u001b[38;5;124m\"\u001b[39m)\n\u001b[0;32m--> 121\u001b[0m \u001b[38;5;28;43mself\u001b[39;49m\u001b[38;5;241;43m.\u001b[39;49m\u001b[43m__load\u001b[49m\u001b[43m(\u001b[49m\u001b[43m)\u001b[49m\n\u001b[1;32m    122\u001b[0m \u001b[38;5;66;03m# This looks circular, but its not, since __load() changes our\u001b[39;00m\n\u001b[1;32m    123\u001b[0m \u001b[38;5;66;03m# __class__ to something new:\u001b[39;00m\n\u001b[1;32m    124\u001b[0m \u001b[38;5;28;01mreturn\u001b[39;00m \u001b[38;5;28mgetattr\u001b[39m(\u001b[38;5;28mself\u001b[39m, attr)\n",
      "File \u001b[0;32m~/Library/jupyterlab-desktop/jlab_server/lib/python3.12/site-packages/nltk/corpus/util.py:86\u001b[0m, in \u001b[0;36mLazyCorpusLoader.__load\u001b[0;34m(self)\u001b[0m\n\u001b[1;32m     84\u001b[0m             root \u001b[38;5;241m=\u001b[39m nltk\u001b[38;5;241m.\u001b[39mdata\u001b[38;5;241m.\u001b[39mfind(\u001b[38;5;124mf\u001b[39m\u001b[38;5;124m\"\u001b[39m\u001b[38;5;132;01m{\u001b[39;00m\u001b[38;5;28mself\u001b[39m\u001b[38;5;241m.\u001b[39msubdir\u001b[38;5;132;01m}\u001b[39;00m\u001b[38;5;124m/\u001b[39m\u001b[38;5;132;01m{\u001b[39;00mzip_name\u001b[38;5;132;01m}\u001b[39;00m\u001b[38;5;124m\"\u001b[39m)\n\u001b[1;32m     85\u001b[0m         \u001b[38;5;28;01mexcept\u001b[39;00m \u001b[38;5;167;01mLookupError\u001b[39;00m:\n\u001b[0;32m---> 86\u001b[0m             \u001b[38;5;28;01mraise\u001b[39;00m e\n\u001b[1;32m     88\u001b[0m \u001b[38;5;66;03m# Load the corpus.\u001b[39;00m\n\u001b[1;32m     89\u001b[0m corpus \u001b[38;5;241m=\u001b[39m \u001b[38;5;28mself\u001b[39m\u001b[38;5;241m.\u001b[39m__reader_cls(root, \u001b[38;5;241m*\u001b[39m\u001b[38;5;28mself\u001b[39m\u001b[38;5;241m.\u001b[39m__args, \u001b[38;5;241m*\u001b[39m\u001b[38;5;241m*\u001b[39m\u001b[38;5;28mself\u001b[39m\u001b[38;5;241m.\u001b[39m__kwargs)\n",
      "File \u001b[0;32m~/Library/jupyterlab-desktop/jlab_server/lib/python3.12/site-packages/nltk/corpus/util.py:81\u001b[0m, in \u001b[0;36mLazyCorpusLoader.__load\u001b[0;34m(self)\u001b[0m\n\u001b[1;32m     79\u001b[0m \u001b[38;5;28;01melse\u001b[39;00m:\n\u001b[1;32m     80\u001b[0m     \u001b[38;5;28;01mtry\u001b[39;00m:\n\u001b[0;32m---> 81\u001b[0m         root \u001b[38;5;241m=\u001b[39m \u001b[43mnltk\u001b[49m\u001b[38;5;241;43m.\u001b[39;49m\u001b[43mdata\u001b[49m\u001b[38;5;241;43m.\u001b[39;49m\u001b[43mfind\u001b[49m\u001b[43m(\u001b[49m\u001b[38;5;124;43mf\u001b[39;49m\u001b[38;5;124;43m\"\u001b[39;49m\u001b[38;5;132;43;01m{\u001b[39;49;00m\u001b[38;5;28;43mself\u001b[39;49m\u001b[38;5;241;43m.\u001b[39;49m\u001b[43msubdir\u001b[49m\u001b[38;5;132;43;01m}\u001b[39;49;00m\u001b[38;5;124;43m/\u001b[39;49m\u001b[38;5;132;43;01m{\u001b[39;49;00m\u001b[38;5;28;43mself\u001b[39;49m\u001b[38;5;241;43m.\u001b[39;49m\u001b[43m__name\u001b[49m\u001b[38;5;132;43;01m}\u001b[39;49;00m\u001b[38;5;124;43m\"\u001b[39;49m\u001b[43m)\u001b[49m\n\u001b[1;32m     82\u001b[0m     \u001b[38;5;28;01mexcept\u001b[39;00m \u001b[38;5;167;01mLookupError\u001b[39;00m \u001b[38;5;28;01mas\u001b[39;00m e:\n\u001b[1;32m     83\u001b[0m         \u001b[38;5;28;01mtry\u001b[39;00m:\n",
      "File \u001b[0;32m~/Library/jupyterlab-desktop/jlab_server/lib/python3.12/site-packages/nltk/data.py:583\u001b[0m, in \u001b[0;36mfind\u001b[0;34m(resource_name, paths)\u001b[0m\n\u001b[1;32m    581\u001b[0m sep \u001b[38;5;241m=\u001b[39m \u001b[38;5;124m\"\u001b[39m\u001b[38;5;124m*\u001b[39m\u001b[38;5;124m\"\u001b[39m \u001b[38;5;241m*\u001b[39m \u001b[38;5;241m70\u001b[39m\n\u001b[1;32m    582\u001b[0m resource_not_found \u001b[38;5;241m=\u001b[39m \u001b[38;5;124mf\u001b[39m\u001b[38;5;124m\"\u001b[39m\u001b[38;5;130;01m\\n\u001b[39;00m\u001b[38;5;132;01m{\u001b[39;00msep\u001b[38;5;132;01m}\u001b[39;00m\u001b[38;5;130;01m\\n\u001b[39;00m\u001b[38;5;132;01m{\u001b[39;00mmsg\u001b[38;5;132;01m}\u001b[39;00m\u001b[38;5;130;01m\\n\u001b[39;00m\u001b[38;5;132;01m{\u001b[39;00msep\u001b[38;5;132;01m}\u001b[39;00m\u001b[38;5;130;01m\\n\u001b[39;00m\u001b[38;5;124m\"\u001b[39m\n\u001b[0;32m--> 583\u001b[0m \u001b[38;5;28;01mraise\u001b[39;00m \u001b[38;5;167;01mLookupError\u001b[39;00m(resource_not_found)\n",
      "\u001b[0;31mLookupError\u001b[0m: \n**********************************************************************\n  Resource \u001b[93mstopwords\u001b[0m not found.\n  Please use the NLTK Downloader to obtain the resource:\n\n  \u001b[31m>>> import nltk\n  >>> nltk.download('stopwords')\n  \u001b[0m\n  For more information see: https://www.nltk.org/data.html\n\n  Attempted to load \u001b[93mcorpora/stopwords\u001b[0m\n\n  Searched in:\n    - '/Users/deepa/nltk_data'\n    - '/Users/deepa/Library/jupyterlab-desktop/jlab_server/nltk_data'\n    - '/Users/deepa/Library/jupyterlab-desktop/jlab_server/share/nltk_data'\n    - '/Users/deepa/Library/jupyterlab-desktop/jlab_server/lib/nltk_data'\n    - '/usr/share/nltk_data'\n    - '/usr/local/share/nltk_data'\n    - '/usr/lib/nltk_data'\n    - '/usr/local/lib/nltk_data'\n**********************************************************************\n"
     ]
    }
   ],
   "source": [
    "#set the stopwords to only include english words \n",
    "\n",
    "stopwords = stopwords.words('english')"
   ]
  },
  {
   "cell_type": "code",
   "execution_count": 32,
   "id": "776e5b45-a8f3-4364-abd3-2ed38c6d8f1a",
   "metadata": {},
   "outputs": [
    {
     "name": "stderr",
     "output_type": "stream",
     "text": [
      "[nltk_data] Downloading package stopwords to /Users/deepa/nltk_data...\n",
      "[nltk_data]   Unzipping corpora/stopwords.zip.\n"
     ]
    },
    {
     "data": {
      "text/plain": [
       "True"
      ]
     },
     "execution_count": 32,
     "metadata": {},
     "output_type": "execute_result"
    }
   ],
   "source": [
    "nltk.download('stopwords')"
   ]
  },
  {
   "cell_type": "code",
   "execution_count": 33,
   "id": "6c816985-a87c-44aa-bfb8-71b571636b14",
   "metadata": {},
   "outputs": [],
   "source": [
    "stopwords = stopwords.words('english')"
   ]
  },
  {
   "cell_type": "code",
   "execution_count": 34,
   "id": "4ba2258c-bfb2-4bc0-b2ba-66c6c156ae0b",
   "metadata": {},
   "outputs": [
    {
     "data": {
      "image/png": "[encoded data removed]",
      "text/plain": [
       "<Figure size 640x480 with 1 Axes>"
      ]
     },
     "metadata": {},
     "output_type": "display_data"
    }
   ],
   "source": [
    "#plot the top 10 words\n",
    "\n",
    "frequency.plot(10)\n",
    "plt.show()"
   ]
  },
  {
   "cell_type": "code",
   "execution_count": 35,
   "id": "cfb4f271-926b-4009-9b8a-74d68da7e65c",
   "metadata": {},
   "outputs": [],
   "source": [
    "# remove the stopwords from the FreqDist\n",
    "\n",
    "frequency = [(w, f) for (w, f) in frequency.items() if w not in stopwords]"
   ]
  },
  {
   "cell_type": "code",
   "execution_count": 36,
   "id": "d2431530-980c-45a5-b21b-c99412a47b55",
   "metadata": {},
   "outputs": [
    {
     "data": {
      "text/plain": [
       "[('It', 2),\n",
       " (\"'s\", 4),\n",
       " ('hard', 2),\n",
       " ('imagine', 2),\n",
       " ('world', 2),\n",
       " ('without', 2),\n",
       " ('A', 2),\n",
       " ('Light', 2),\n",
       " ('Attic', 2),\n",
       " ('.', 9),\n",
       " ('This', 2),\n",
       " ('now-classic', 2),\n",
       " ('collection', 2),\n",
       " ('poetry', 2),\n",
       " ('drawings', 2),\n",
       " ('Shel', 3),\n",
       " ('Silverstein', 5),\n",
       " ('celebrates', 2),\n",
       " ('20th', 2),\n",
       " ('anniversary', 2),\n",
       " ('special', 2),\n",
       " ('edition', 2),\n",
       " ('humorous', 2),\n",
       " ('creative', 2),\n",
       " ('verse', 2),\n",
       " ('amuse', 2),\n",
       " ('dowdiest', 2),\n",
       " ('readers', 2),\n",
       " ('Lemon-faced', 2),\n",
       " ('adults', 2),\n",
       " ('fidgety', 2),\n",
       " ('kids', 2),\n",
       " ('sit', 2),\n",
       " ('still', 2),\n",
       " ('read', 2),\n",
       " ('rhythmic', 2),\n",
       " ('words', 2),\n",
       " ('laugh', 2),\n",
       " ('smile', 2),\n",
       " ('love', 2),\n",
       " ('th', 1),\n",
       " ('Need', 1),\n",
       " ('proof', 1),\n",
       " ('genius', 1),\n",
       " ('?', 3),\n",
       " ('RockabyeRockabye', 1),\n",
       " ('baby', 1),\n",
       " (',', 5),\n",
       " ('treetopDo', 1),\n",
       " (\"n't\", 1),\n",
       " ('know', 1),\n",
       " ('treetopIs', 1),\n",
       " ('safe', 1),\n",
       " ('place', 1),\n",
       " ('rock', 1),\n",
       " ('And', 2),\n",
       " ('put', 1),\n",
       " ('cradle', 1),\n",
       " ('Baby', 1),\n",
       " ('I', 1),\n",
       " ('think', 1),\n",
       " ('someone', 1),\n",
       " (\"here'sGot\", 1),\n",
       " ('never', 1),\n",
       " ('sounded', 1),\n",
       " ('good', 1),\n",
       " ('...', 1)]"
      ]
     },
     "execution_count": 36,
     "metadata": {},
     "output_type": "execute_result"
    }
   ],
   "source": [
    "frequency"
   ]
  },
  {
   "cell_type": "code",
   "execution_count": 38,
   "id": "d7e5c3d4-4e1c-47a4-9860-5d79aa3d2034",
   "metadata": {},
   "outputs": [],
   "source": [
    "#sort by frequency\n",
    "\n",
    "frequency.sort(key=lambda tup: tup[1], reverse=True)"
   ]
  },
  {
   "cell_type": "code",
   "execution_count": 40,
   "id": "8ae479a8-ba62-443d-a753-098441c14f08",
   "metadata": {},
   "outputs": [
    {
     "data": {
      "text/plain": [
       "[('.', 9),\n",
       " ('Silverstein', 5),\n",
       " (',', 5),\n",
       " (\"'s\", 4),\n",
       " ('Shel', 3),\n",
       " ('?', 3),\n",
       " ('It', 2),\n",
       " ('hard', 2),\n",
       " ('imagine', 2),\n",
       " ('world', 2)]"
      ]
     },
     "execution_count": 40,
     "metadata": {},
     "output_type": "execute_result"
    }
   ],
   "source": [
    "# show top 10 values in the list \n",
    "\n",
    "frequency[:10]"
   ]
  },
  {
   "cell_type": "code",
   "execution_count": 45,
   "id": "c4853445-91d4-45f5-b5bb-feb17e122b76",
   "metadata": {},
   "outputs": [],
   "source": [
    "#filter your list of tuples and keep only tikens longet than 1 character\n",
    "\n",
    "frequency = [(w, f) for (w, f) in frequency if len(w) > 1]"
   ]
  },
  {
   "cell_type": "code",
   "execution_count": 46,
   "id": "1c16190b-5c7c-4925-8b04-dad590d2cbbb",
   "metadata": {},
   "outputs": [
    {
     "data": {
      "text/plain": [
       "[('Silverstein', 5),\n",
       " (\"'s\", 4),\n",
       " ('Shel', 3),\n",
       " ('It', 2),\n",
       " ('hard', 2),\n",
       " ('imagine', 2),\n",
       " ('world', 2),\n",
       " ('without', 2),\n",
       " ('Light', 2),\n",
       " ('Attic', 2)]"
      ]
     },
     "execution_count": 46,
     "metadata": {},
     "output_type": "execute_result"
    }
   ],
   "source": [
    "#take a look at the top 10 words now\n",
    "\n",
    "frequency[:10]"
   ]
  },
  {
   "cell_type": "code",
   "execution_count": 49,
   "id": "a581ed26-0fda-47f2-9adf-9f958c0db925",
   "metadata": {},
   "outputs": [
    {
     "data": {
      "image/png": "[encoded data removed]",
      "text/plain": [
       "<Figure size 640x480 with 1 Axes>"
      ]
     },
     "metadata": {},
     "output_type": "display_data"
    }
   ],
   "source": [
    "#bar chart the top 10 words and their respective frequencies \n",
    "\n",
    "frequency = frequency[:10]\n",
    "\n",
    "plt.bar(*zip(*frequency))\n",
    "plt.xticks(rotation=90)\n",
    "plt.show()"
   ]
  },
  {
   "cell_type": "code",
   "execution_count": null,
   "id": "932c106e-0628-4619-a82c-e87596495734",
   "metadata": {},
   "outputs": [],
   "source": []
  }
 ],
 "metadata": {
  "kernelspec": {
   "display_name": "Python 3 (ipykernel)",
   "language": "python",
   "name": "python3"
  },
  "language_info": {
   "codemirror_mode": {
    "name": "ipython",
    "version": 3
   },
   "file_extension": ".py",
   "mimetype": "text/x-python",
   "name": "python",
   "nbconvert_exporter": "python",
   "pygments_lexer": "ipython3",
   "version": "3.12.2"
  }
 },
 "nbformat": 4,
 "nbformat_minor": 5
}
