{
 "cells": [
  {
   "cell_type": "code",
   "execution_count": 24,
   "id": "8013e3d8-cd4c-482b-8d9f-dc888a09e374",
   "metadata": {},
   "outputs": [
    {
     "name": "stdout",
     "output_type": "stream",
     "text": [
      "The history saving thread hit an unexpected error (OperationalError('attempt to write a readonly database')).History will not be written to the database.\n"
     ]
    }
   ],
   "source": [
    "import pandas as pd "
   ]
  },
  {
   "cell_type": "code",
   "execution_count": 26,
   "id": "35b31939-0020-40a5-8c21-bc45b5255509",
   "metadata": {},
   "outputs": [],
   "source": [
    "import requests"
   ]
  },
  {
   "cell_type": "code",
   "execution_count": 27,
   "id": "97802545-f0c6-49d6-9be9-6af4d475b034",
   "metadata": {},
   "outputs": [],
   "source": [
    "import json"
   ]
  },
  {
   "cell_type": "code",
   "execution_count": 28,
   "id": "510b6b93-6f69-4392-8e58-860dd93cf481",
   "metadata": {},
   "outputs": [],
   "source": [
    "import seaborn as sns"
   ]
  },
  {
   "cell_type": "code",
   "execution_count": 29,
   "id": "712f9bf7-16fd-407a-aa33-9d850194991a",
   "metadata": {},
   "outputs": [
    {
     "ename": "ModuleNotFoundError",
     "evalue": "No module named 'matplotliob'",
     "output_type": "error",
     "traceback": [
      "\u001b[0;31m---------------------------------------------------------------------------\u001b[0m",
      "\u001b[0;31mModuleNotFoundError\u001b[0m                       Traceback (most recent call last)",
      "Cell \u001b[0;32mIn[29], line 1\u001b[0m\n\u001b[0;32m----> 1\u001b[0m \u001b[38;5;28;01mimport\u001b[39;00m \u001b[38;5;21;01mmatplotliob\u001b[39;00m\u001b[38;5;21;01m.\u001b[39;00m\u001b[38;5;21;01mpyplot\u001b[39;00m \u001b[38;5;28;01mas\u001b[39;00m \u001b[38;5;21;01mplt\u001b[39;00m\n",
      "\u001b[0;31mModuleNotFoundError\u001b[0m: No module named 'matplotliob'"
     ]
    }
   ],
   "source": [
    "import matplotliob.pyplot as plt"
   ]
  },
  {
   "cell_type": "code",
   "execution_count": 30,
   "id": "252bd7ff-550e-4fc9-8a9c-8445fec05383",
   "metadata": {},
   "outputs": [
    {
     "name": "stdout",
     "output_type": "stream",
     "text": [
      "Requirement already satisfied: matplotlib in /Users/deepa/Library/jupyterlab-desktop/jlab_server/lib/python3.12/site-packages (3.8.3)\n",
      "Requirement already satisfied: contourpy>=1.0.1 in /Users/deepa/Library/jupyterlab-desktop/jlab_server/lib/python3.12/site-packages (from matplotlib) (1.2.0)\n",
      "Requirement already satisfied: cycler>=0.10 in /Users/deepa/Library/jupyterlab-desktop/jlab_server/lib/python3.12/site-packages (from matplotlib) (0.12.1)\n",
      "Requirement already satisfied: fonttools>=4.22.0 in /Users/deepa/Library/jupyterlab-desktop/jlab_server/lib/python3.12/site-packages (from matplotlib) (4.49.0)\n",
      "Requirement already satisfied: kiwisolver>=1.3.1 in /Users/deepa/Library/jupyterlab-desktop/jlab_server/lib/python3.12/site-packages (from matplotlib) (1.4.5)\n",
      "Requirement already satisfied: numpy<2,>=1.21 in /Users/deepa/Library/jupyterlab-desktop/jlab_server/lib/python3.12/site-packages (from matplotlib) (1.26.4)\n",
      "Requirement already satisfied: packaging>=20.0 in /Users/deepa/Library/jupyterlab-desktop/jlab_server/lib/python3.12/site-packages (from matplotlib) (23.2)\n",
      "Requirement already satisfied: pillow>=8 in /Users/deepa/Library/jupyterlab-desktop/jlab_server/lib/python3.12/site-packages (from matplotlib) (10.2.0)\n",
      "Requirement already satisfied: pyparsing>=2.3.1 in /Users/deepa/Library/jupyterlab-desktop/jlab_server/lib/python3.12/site-packages (from matplotlib) (3.1.2)\n",
      "Requirement already satisfied: python-dateutil>=2.7 in /Users/deepa/Library/jupyterlab-desktop/jlab_server/lib/python3.12/site-packages (from matplotlib) (2.9.0)\n",
      "Requirement already satisfied: six>=1.5 in /Users/deepa/Library/jupyterlab-desktop/jlab_server/lib/python3.12/site-packages (from python-dateutil>=2.7->matplotlib) (1.16.0)\n",
      "Note: you may need to restart the kernel to use updated packages.\n"
     ]
    }
   ],
   "source": [
    "pip install matplotlib"
   ]
  },
  {
   "cell_type": "code",
   "execution_count": 31,
   "id": "ad327e17-2f88-452c-8904-a6a6cef03e01",
   "metadata": {},
   "outputs": [],
   "source": [
    "import matplotlib.pyplot as plt "
   ]
  },
  {
   "cell_type": "code",
   "execution_count": 68,
   "id": "825554b8-0678-414e-a19c-1428fdf76a3a",
   "metadata": {},
   "outputs": [
    {
     "ename": "SyntaxError",
     "evalue": "invalid syntax (4257116025.py, line 1)",
     "output_type": "error",
     "traceback": [
      "\u001b[0;36m  Cell \u001b[0;32mIn[68], line 1\u001b[0;36m\u001b[0m\n\u001b[0;31m    from apikey from mykey\u001b[0m\n\u001b[0m                ^\u001b[0m\n\u001b[0;31mSyntaxError\u001b[0m\u001b[0;31m:\u001b[0m invalid syntax\n"
     ]
    }
   ],
   "source": [
    "from apikey from mykey"
   ]
  },
  {
   "cell_type": "code",
   "execution_count": 32,
   "id": "3cd43dd5-6207-48b1-b030-27ebcbe168ad",
   "metadata": {},
   "outputs": [],
   "source": [
    "%matplotlib inline"
   ]
  },
  {
   "cell_type": "code",
   "execution_count": 33,
   "id": "627bdf2c-ffd7-47b8-9f46-85d29e1b658b",
   "metadata": {},
   "outputs": [],
   "source": [
    "#save your API key as a variable called 'mykey'\n",
    "\n",
    "mykey = 'de5ca03963df7993efe52bad5dbfeca6'"
   ]
  },
  {
   "cell_type": "code",
   "execution_count": 34,
   "id": "d4cbb98d-50ab-4af8-8c96-9928069ff7ed",
   "metadata": {},
   "outputs": [],
   "source": [
    "#save the series_id as a variable called 'unemployment_id'\n",
    "\n",
    "unemployment_id = 'DEUR'"
   ]
  },
  {
   "cell_type": "code",
   "execution_count": 36,
   "id": "b048a307-3016-4893-b0e7-fac66e7b979d",
   "metadata": {},
   "outputs": [],
   "source": [
    "#create a base url to call (this should end at '/observations?')\n",
    "\n",
    "base = 'https://api.stlouisfed.org/fred/series/observations?'"
   ]
  },
  {
   "cell_type": "code",
   "execution_count": 37,
   "id": "dc5ab3a9-478d-4afe-a9af-468456946fee",
   "metadata": {},
   "outputs": [],
   "source": [
    "#reconstruct the example URL, using your API key and series_id\n",
    "unemp_url = base + 'series_id=' + unemployment_id\\\n",
    "+ '&' + 'api_key=' + mykey + '&' + 'file_type=json'"
   ]
  },
  {
   "cell_type": "code",
   "execution_count": 40,
   "id": "dac67433-a1d1-4b94-8d03-0319a6a16192",
   "metadata": {},
   "outputs": [
    {
     "data": {
      "text/plain": [
       "'https://api.stlouisfed.org/fred/series/observations?series_id=DEUR&api_key=de5ca03963df7993efe52bad5dbfeca6&file_type=json'"
      ]
     },
     "execution_count": 40,
     "metadata": {},
     "output_type": "execute_result"
    }
   ],
   "source": [
    "#show the URL you created to confirm it is formatted as you'd expect\n",
    "unemp_url"
   ]
  },
  {
   "cell_type": "code",
   "execution_count": 43,
   "id": "49301ba6-64e4-4461-8cdb-a0a7b8434f5b",
   "metadata": {},
   "outputs": [],
   "source": [
    "#use requests.get() to call the URL you constructed\n",
    "\n",
    "response = requests.get(unemp_url)"
   ]
  },
  {
   "cell_type": "code",
   "execution_count": 45,
   "id": "3275c6fe-74f2-4444-a3ae-55e7b6feef93",
   "metadata": {},
   "outputs": [
    {
     "data": {
      "text/plain": [
       "200"
      ]
     },
     "execution_count": 45,
     "metadata": {},
     "output_type": "execute_result"
    }
   ],
   "source": [
    "#check the status code of the response to confirm your call succeeded\n",
    "\n",
    "response.status_code"
   ]
  },
  {
   "cell_type": "raw",
   "id": "42596483-c871-4dcf-8337-153dbf2ae521",
   "metadata": {},
   "source": [
    "What is the status_code for a successful web call?"
   ]
  },
  {
   "cell_type": "code",
   "execution_count": 46,
   "id": "254fb9ff-a14c-4ac6-94de-c9e2e5e44329",
   "metadata": {},
   "outputs": [
    {
     "data": {
      "text/plain": [
       "b'{\"realtime_start\":\"2024-04-11\",\"realtime_end\":\"2024-04-11\",\"observation_start\":\"1600-01-01\",\"observation_end\":\"9999-12-31\",\"units\":\"lin\",\"output_type\":1,\"file_type\":\"json\",\"order_by\":\"observation_date\",\"sort_order\":\"asc\",\"count\":578,\"offset\":0,\"limit\":100000,\"observations\":[{\"realtime_start\":\"2024-04-11\",\"realtime_end\":\"2024-04-11\",\"date\":\"1976-01-01\",\"value\":\"8.0\"},{\"realtime_start\":\"2024-04-11\",\"realtime_end\":\"2024-04-11\",\"date\":\"1976-02-01\",\"value\":\"8.0\"},{\"realtime_start\":\"2024-04-11\",\"realtime_end\":\"2024-04-11\",\"date\":\"1976-03-01\",\"value\":\"8.0\"},{\"realtime_start\":\"2024-04-11\",\"realtime_end\":\"2024-04-11\",\"date\":\"1976-04-01\",\"value\":\"8.1\"},{\"realtime_start\":\"2024-04-11\",\"realtime_end\":\"2024-04-11\",\"date\":\"1976-05-01\",\"value\":\"8.3\"},{\"realtime_start\":\"2024-04-11\",\"realtime_end\":\"2024-04-11\",\"date\":\"1976-06-01\",\"value\":\"8.6\"},{\"realtime_start\":\"2024-04-11\",\"realtime_end\":\"2024-04-11\",\"date\":\"1976-07-01\",\"value\":\"8.8\"},{\"realtime_start\":\"2024-04-11\",\"realtime_end\":\"2024-04-11\",\"date\":\"1976-08-01\",\"value\":\"8.9\"},{\"realtime_start\":\"2024-04-11\",\"realtime_end\":\"2024-04-11\",\"date\":\"1976-09-01\",\"value\":\"9.0\"},{\"realtime_start\":\"2024-04-11\",\"realtime_end\":\"2024-04-11\",\"date\":\"1976-10-01\",\"value\":\"9.1\"},{\"realtime_start\":\"2024-04-11\",\"realtime_end\":\"2024-04-11\",\"date\":\"1976-11-01\",\"value\":\"9.2\"},{\"realtime_start\":\"2024-04-11\",\"realtime_end\":\"2024-04-11\",\"date\":\"1976-12-01\",\"value\":\"9.2\"},{\"realtime_start\":\"2024-04-11\",\"realtime_end\":\"2024-04-11\",\"date\":\"1977-01-01\",\"value\":\"9.2\"},{\"realtime_start\":\"2024-04-11\",\"realtime_end\":\"2024-04-11\",\"date\":\"1977-02-01\",\"value\":\"9.1\"},{\"realtime_start\":\"2024-04-11\",\"realtime_end\":\"2024-04-11\",\"date\":\"1977-03-01\",\"value\":\"8.9\"},{\"realtime_start\":\"2024-04-11\",\"realtime_end\":\"2024-04-11\",\"date\":\"1977-04-01\",\"value\":\"8.7\"},{\"realtime_start\":\"2024-04-11\",\"realtime_end\":\"2024-04-11\",\"date\":\"1977-05-01\",\"value\":\"8.4\"},{\"realtime_start\":\"2024-04-11\",\"realtime_end\":\"2024-04-11\",\"date\":\"1977-06-01\",\"value\":\"8.2\"},{\"realtime_start\":\"2024-04-11\",\"realtime_end\":\"2024-04-11\",\"date\":\"1977-07-01\",\"value\":\"8.0\"},{\"realtime_start\":\"2024-04-11\",\"realtime_end\":\"2024-04-11\",\"date\":\"1977-08-01\",\"value\":\"7.8\"},{\"realtime_start\":\"2024-04-11\",\"realtime_end\":\"2024-04-11\",\"date\":\"1977-09-01\",\"value\":\"7.7\"},{\"realtime_start\":\"2024-04-11\",\"realtime_end\":\"2024-04-11\",\"date\":\"1977-10-01\",\"value\":\"7.5\"},{\"realtime_start\":\"2024-04-11\",\"realtime_end\":\"2024-04-11\",\"date\":\"1977-11-01\",\"value\":\"7.4\"},{\"realtime_start\":\"2024-04-11\",\"realtime_end\":\"2024-04-11\",\"date\":\"1977-12-01\",\"value\":\"7.3\"},{\"realtime_start\":\"2024-04-11\",\"realtime_end\":\"2024-04-11\",\"date\":\"1978-01-01\",\"value\":\"7.2\"},{\"realtime_start\":\"2024-04-11\",\"realtime_end\":\"2024-04-11\",\"date\":\"1978-02-01\",\"value\":\"7.1\"},{\"realtime_start\":\"2024-04-11\",\"realtime_end\":\"2024-04-11\",\"date\":\"1978-03-01\",\"value\":\"7.1\"},{\"realtime_start\":\"2024-04-11\",\"realtime_end\":\"2024-04-11\",\"date\":\"1978-04-01\",\"value\":\"7.1\"},{\"realtime_start\":\"2024-04-11\",\"realtime_end\":\"2024-04-11\",\"date\":\"1978-05-01\",\"value\":\"7.1\"},{\"realtime_start\":\"2024-04-11\",\"realtime_end\":\"2024-04-11\",\"date\":\"1978-06-01\",\"value\":\"7.1\"},{\"realtime_start\":\"2024-04-11\",\"realtime_end\":\"2024-04-11\",\"date\":\"1978-07-01\",\"value\":\"7.1\"},{\"realtime_start\":\"2024-04-11\",\"realtime_end\":\"2024-04-11\",\"date\":\"1978-08-01\",\"value\":\"7.0\"},{\"realtime_start\":\"2024-04-11\",\"realtime_end\":\"2024-04-11\",\"date\":\"1978-09-01\",\"value\":\"7.0\"},{\"realtime_start\":\"2024-04-11\",\"realtime_end\":\"2024-04-11\",\"date\":\"1978-10-01\",\"value\":\"7.0\"},{\"realtime_start\":\"2024-04-11\",\"realtime_end\":\"2024-04-11\",\"date\":\"1978-11-01\",\"value\":\"7.0\"},{\"realtime_start\":\"2024-04-11\",\"realtime_end\":\"2024-04-11\",\"date\":\"1978-12-01\",\"value\":\"7.1\"},{\"realtime_start\":\"2024-04-11\",\"realtime_end\":\"2024-04-11\",\"date\":\"1979-01-01\",\"value\":\"7.1\"},{\"realtime_start\":\"2024-04-11\",\"realtime_end\":\"2024-04-11\",\"date\":\"1979-02-01\",\"value\":\"7.1\"},{\"realtime_start\":\"2024-04-11\",\"realtime_end\":\"2024-04-11\",\"date\":\"1979-03-01\",\"value\":\"7.1\"},{\"realtime_start\":\"2024-04-11\",\"realtime_end\":\"2024-04-11\",\"date\":\"1979-04-01\",\"value\":\"7.0\"},{\"realtime_start\":\"2024-04-11\",\"realtime_end\":\"2024-04-11\",\"date\":\"1979-05-01\",\"value\":\"7.0\"},{\"realtime_start\":\"2024-04-11\",\"realtime_end\":\"2024-04-11\",\"date\":\"1979-06-01\",\"value\":\"6.9\"},{\"realtime_start\":\"2024-04-11\",\"realtime_end\":\"2024-04-11\",\"date\":\"1979-07-01\",\"value\":\"6.9\"},{\"realtime_start\":\"2024-04-11\",\"realtime_end\":\"2024-04-11\",\"date\":\"1979-08-01\",\"value\":\"6.9\"},{\"realtime_start\":\"2024-04-11\",\"realtime_end\":\"2024-04-11\",\"date\":\"1979-09-01\",\"value\":\"6.9\"},{\"realtime_start\":\"2024-04-11\",\"realtime_end\":\"2024-04-11\",\"date\":\"1979-10-01\",\"value\":\"7.0\"},{\"realtime_start\":\"2024-04-11\",\"realtime_end\":\"2024-04-11\",\"date\":\"1979-11-01\",\"value\":\"6.9\"},{\"realtime_start\":\"2024-04-11\",\"realtime_end\":\"2024-04-11\",\"date\":\"1979-12-01\",\"value\":\"6.9\"},{\"realtime_start\":\"2024-04-11\",\"realtime_end\":\"2024-04-11\",\"date\":\"1980-01-01\",\"value\":\"6.8\"},{\"realtime_start\":\"2024-04-11\",\"realtime_end\":\"2024-04-11\",\"date\":\"1980-02-01\",\"value\":\"6.9\"},{\"realtime_start\":\"2024-04-11\",\"realtime_end\":\"2024-04-11\",\"date\":\"1980-03-01\",\"value\":\"7.0\"},{\"realtime_start\":\"2024-04-11\",\"realtime_end\":\"2024-04-11\",\"date\":\"1980-04-01\",\"value\":\"7.2\"},{\"realtime_start\":\"2024-04-11\",\"realtime_end\":\"2024-04-11\",\"date\":\"1980-05-01\",\"value\":\"7.500\"},{\"realtime_start\":\"2024-04-11\",\"realtime_end\":\"2024-04-11\",\"date\":\"1980-06-01\",\"value\":\"7.8\"},{\"realtime_start\":\"2024-04-11\",\"realtime_end\":\"2024-04-11\",\"date\":\"1980-07-01\",\"value\":\"7.900\"},{\"realtime_start\":\"2024-04-11\",\"realtime_end\":\"2024-04-11\",\"date\":\"1980-08-01\",\"value\":\"8.000\"},{\"realtime_start\":\"2024-04-11\",\"realtime_end\":\"2024-04-11\",\"date\":\"1980-09-01\",\"value\":\"7.9\"},{\"realtime_start\":\"2024-04-11\",\"realtime_end\":\"2024-04-11\",\"date\":\"1980-10-01\",\"value\":\"7.8\"},{\"realtime_start\":\"2024-04-11\",\"realtime_end\":\"2024-04-11\",\"date\":\"1980-11-01\",\"value\":\"7.7\"},{\"realtime_start\":\"2024-04-11\",\"realtime_end\":\"2024-04-11\",\"date\":\"1980-12-01\",\"value\":\"7.7\"},{\"realtime_start\":\"2024-04-11\",\"realtime_end\":\"2024-04-11\",\"date\":\"1981-01-01\",\"value\":\"7.7\"},{\"realtime_start\":\"2024-04-11\",\"realtime_end\":\"2024-04-11\",\"date\":\"1981-02-01\",\"value\":\"7.700\"},{\"realtime_start\":\"2024-04-11\",\"realtime_end\":\"2024-04-11\",\"date\":\"1981-03-01\",\"value\":\"7.700\"},{\"realtime_start\":\"2024-04-11\",\"realtime_end\":\"2024-04-11\",\"date\":\"1981-04-01\",\"value\":\"7.700\"},{\"realtime_start\":\"2024-04-11\",\"realtime_end\":\"2024-04-11\",\"date\":\"1981-05-01\",\"value\":\"7.600\"},{\"realtime_start\":\"2024-04-11\",\"realtime_end\":\"2024-04-11\",\"date\":\"1981-06-01\",\"value\":\"7.5\"},{\"realtime_start\":\"2024-04-11\",\"realtime_end\":\"2024-04-11\",\"date\":\"1981-07-01\",\"value\":\"7.5\"},{\"realtime_start\":\"2024-04-11\",\"realtime_end\":\"2024-04-11\",\"date\":\"1981-08-01\",\"value\":\"7.6\"},{\"realtime_start\":\"2024-04-11\",\"realtime_end\":\"2024-04-11\",\"date\":\"1981-09-01\",\"value\":\"7.8\"},{\"realtime_start\":\"2024-04-11\",\"realtime_end\":\"2024-04-11\",\"date\":\"1981-10-01\",\"value\":\"8.0\"},{\"realtime_start\":\"2024-04-11\",\"realtime_end\":\"2024-04-11\",\"date\":\"1981-11-01\",\"value\":\"8.2\"},{\"realtime_start\":\"2024-04-11\",\"realtime_end\":\"2024-04-11\",\"date\":\"1981-12-01\",\"value\":\"8.4\"},{\"realtime_start\":\"2024-04-11\",\"realtime_end\":\"2024-04-11\",\"date\":\"1982-01-01\",\"value\":\"8.5\"},{\"realtime_start\":\"2024-04-11\",\"realtime_end\":\"2024-04-11\",\"date\":\"1982-02-01\",\"value\":\"8.5\"},{\"realtime_start\":\"2024-04-11\",\"realtime_end\":\"2024-04-11\",\"date\":\"1982-03-01\",\"value\":\"8.5\"},{\"realtime_start\":\"2024-04-11\",\"realtime_end\":\"2024-04-11\",\"date\":\"1982-04-01\",\"value\":\"8.4\"},{\"realtime_start\":\"2024-04-11\",\"realtime_end\":\"2024-04-11\",\"date\":\"1982-05-01\",\"value\":\"8.3\"},{\"realtime_start\":\"2024-04-11\",\"realtime_end\":\"2024-04-11\",\"date\":\"1982-06-01\",\"value\":\"8.2\"},{\"realtime_start\":\"2024-04-11\",\"realtime_end\":\"2024-04-11\",\"date\":\"1982-07-01\",\"value\":\"8.2\"},{\"realtime_start\":\"2024-04-11\",\"realtime_end\":\"2024-04-11\",\"date\":\"1982-08-01\",\"value\":\"8.200\"},{\"realtime_start\":\"2024-04-11\",\"realtime_end\":\"2024-04-11\",\"date\":\"1982-09-01\",\"value\":\"8.3\"},{\"realtime_start\":\"2024-04-11\",\"realtime_end\":\"2024-04-11\",\"date\":\"1982-10-01\",\"value\":\"8.4\"},{\"realtime_start\":\"2024-04-11\",\"realtime_end\":\"2024-04-11\",\"date\":\"1982-11-01\",\"value\":\"8.4\"},{\"realtime_start\":\"2024-04-11\",\"realtime_end\":\"2024-04-11\",\"date\":\"1982-12-01\",\"value\":\"8.4\"},{\"realtime_start\":\"2024-04-11\",\"realtime_end\":\"2024-04-11\",\"date\":\"1983-01-01\",\"value\":\"8.4\"},{\"realtime_start\":\"2024-04-11\",\"realtime_end\":\"2024-04-11\",\"date\":\"1983-02-01\",\"value\":\"8.4\"},{\"realtime_start\":\"2024-04-11\",\"realtime_end\":\"2024-04-11\",\"date\":\"1983-03-01\",\"value\":\"8.4\"},{\"realtime_start\":\"2024-04-11\",\"realtime_end\":\"2024-04-11\",\"date\":\"1983-04-01\",\"value\":\"8.3\"},{\"realtime_start\":\"2024-04-11\",\"realtime_end\":\"2024-04-11\",\"date\":\"1983-05-01\",\"value\":\"8.2\"},{\"realtime_start\":\"2024-04-11\",\"realtime_end\":\"2024-04-11\",\"date\":\"1983-06-01\",\"value\":\"8.1\"},{\"realtime_start\":\"2024-04-11\",\"realtime_end\":\"2024-04-11\",\"date\":\"1983-07-01\",\"value\":\"7.9\"},{\"realtime_start\":\"2024-04-11\",\"realtime_end\":\"2024-04-11\",\"date\":\"1983-08-01\",\"value\":\"7.8\"},{\"realtime_start\":\"2024-04-11\",\"realtime_end\":\"2024-04-11\",\"date\":\"1983-09-01\",\"value\":\"7.600\"},{\"realtime_start\":\"2024-04-11\",\"realtime_end\":\"2024-04-11\",\"date\":\"1983-10-01\",\"value\":\"7.5\"},{\"realtime_start\":\"2024-04-11\",\"realtime_end\":\"2024-04-11\",\"date\":\"1983-11-01\",\"value\":\"7.200\"},{\"realtime_start\":\"2024-04-11\",\"realtime_end\":\"2024-04-11\",\"date\":\"1983-12-01\",\"value\":\"7.000\"},{\"realtime_start\":\"2024-04-11\",\"realtime_end\":\"2024-04-11\",\"date\":\"1984-01-01\",\"value\":\"6.700\"},{\"realtime_start\":\"2024-04-11\",\"realtime_end\":\"2024-04-11\",\"date\":\"1984-02-01\",\"value\":\"6.4\"},{\"realtime_start\":\"2024-04-11\",\"realtime_end\":\"2024-04-11\",\"date\":\"1984-03-01\",\"value\":\"6.3\"},{\"realtime_start\":\"2024-04-11\",\"realtime_end\":\"2024-04-11\",\"date\":\"1984-04-01\",\"value\":\"6.2\"},{\"realtime_start\":\"2024-04-11\",\"realtime_end\":\"2024-04-11\",\"date\":\"1984-05-01\",\"value\":\"6.2\"},{\"realtime_start\":\"2024-04-11\",\"realtime_end\":\"2024-04-11\",\"date\":\"1984-06-01\",\"value\":\"6.2\"},{\"realtime_start\":\"2024-04-11\",\"realtime_end\":\"2024-04-11\",\"date\":\"1984-07-01\",\"value\":\"6.2\"},{\"realtime_start\":\"2024-04-11\",\"realtime_end\":\"2024-04-11\",\"date\":\"1984-08-01\",\"value\":\"6.2\"},{\"realtime_start\":\"2024-04-11\",\"realtime_end\":\"2024-04-11\",\"date\":\"1984-09-01\",\"value\":\"6.2\"},{\"realtime_start\":\"2024-04-11\",\"realtime_end\":\"2024-04-11\",\"date\":\"1984-10-01\",\"value\":\"6.1\"},{\"realtime_start\":\"2024-04-11\",\"realtime_end\":\"2024-04-11\",\"date\":\"1984-11-01\",\"value\":\"6.0\"},{\"realtime_start\":\"2024-04-11\",\"realtime_end\":\"2024-04-11\",\"date\":\"1984-12-01\",\"value\":\"5.9\"},{\"realtime_start\":\"2024-04-11\",\"realtime_end\":\"2024-04-11\",\"date\":\"1985-01-01\",\"value\":\"5.8\"},{\"realtime_start\":\"2024-04-11\",\"realtime_end\":\"2024-04-11\",\"date\":\"1985-02-01\",\"value\":\"5.800\"},{\"realtime_start\":\"2024-04-11\",\"realtime_end\":\"2024-04-11\",\"date\":\"1985-03-01\",\"value\":\"5.7\"},{\"realtime_start\":\"2024-04-11\",\"realtime_end\":\"2024-04-11\",\"date\":\"1985-04-01\",\"value\":\"5.500\"},{\"realtime_start\":\"2024-04-11\",\"realtime_end\":\"2024-04-11\",\"date\":\"1985-05-01\",\"value\":\"5.4\"},{\"realtime_start\":\"2024-04-11\",\"realtime_end\":\"2024-04-11\",\"date\":\"1985-06-01\",\"value\":\"5.200\"},{\"realtime_start\":\"2024-04-11\",\"realtime_end\":\"2024-04-11\",\"date\":\"1985-07-01\",\"value\":\"5.1\"},{\"realtime_start\":\"2024-04-11\",\"realtime_end\":\"2024-04-11\",\"date\":\"1985-08-01\",\"value\":\"4.900\"},{\"realtime_start\":\"2024-04-11\",\"realtime_end\":\"2024-04-11\",\"date\":\"1985-09-01\",\"value\":\"4.8\"},{\"realtime_start\":\"2024-04-11\",\"realtime_end\":\"2024-04-11\",\"date\":\"1985-10-01\",\"value\":\"4.600\"},{\"realtime_start\":\"2024-04-11\",\"realtime_end\":\"2024-04-11\",\"date\":\"1985-11-01\",\"value\":\"4.5\"},{\"realtime_start\":\"2024-04-11\",\"realtime_end\":\"2024-04-11\",\"date\":\"1985-12-01\",\"value\":\"4.5\"},{\"realtime_start\":\"2024-04-11\",\"realtime_end\":\"2024-04-11\",\"date\":\"1986-01-01\",\"value\":\"4.5\"},{\"realtime_start\":\"2024-04-11\",\"realtime_end\":\"2024-04-11\",\"date\":\"1986-02-01\",\"value\":\"4.6\"},{\"realtime_start\":\"2024-04-11\",\"realtime_end\":\"2024-04-11\",\"date\":\"1986-03-01\",\"value\":\"4.7\"},{\"realtime_start\":\"2024-04-11\",\"realtime_end\":\"2024-04-11\",\"date\":\"1986-04-01\",\"value\":\"4.7\"},{\"realtime_start\":\"2024-04-11\",\"realtime_end\":\"2024-04-11\",\"date\":\"1986-05-01\",\"value\":\"4.7\"},{\"realtime_start\":\"2024-04-11\",\"realtime_end\":\"2024-04-11\",\"date\":\"1986-06-01\",\"value\":\"4.5\"},{\"realtime_start\":\"2024-04-11\",\"realtime_end\":\"2024-04-11\",\"date\":\"1986-07-01\",\"value\":\"4.3\"},{\"realtime_start\":\"2024-04-11\",\"realtime_end\":\"2024-04-11\",\"date\":\"1986-08-01\",\"value\":\"4.0\"},{\"realtime_start\":\"2024-04-11\",\"realtime_end\":\"2024-04-11\",\"date\":\"1986-09-01\",\"value\":\"3.8\"},{\"realtime_start\":\"2024-04-11\",\"realtime_end\":\"2024-04-11\",\"date\":\"1986-10-01\",\"value\":\"3.6\"},{\"realtime_start\":\"2024-04-11\",\"realtime_end\":\"2024-04-11\",\"date\":\"1986-11-01\",\"value\":\"3.4\"},{\"realtime_start\":\"2024-04-11\",\"realtime_end\":\"2024-04-11\",\"date\":\"1986-12-01\",\"value\":\"3.300\"},{\"realtime_start\":\"2024-04-11\",\"realtime_end\":\"2024-04-11\",\"date\":\"1987-01-01\",\"value\":\"3.200\"},{\"realtime_start\":\"2024-04-11\",\"realtime_end\":\"2024-04-11\",\"date\":\"1987-02-01\",\"value\":\"3.200\"},{\"realtime_start\":\"2024-04-11\",\"realtime_end\":\"2024-04-11\",\"date\":\"1987-03-01\",\"value\":\"3.100\"},{\"realtime_start\":\"2024-04-11\",\"realtime_end\":\"2024-04-11\",\"date\":\"1987-04-01\",\"value\":\"3.100\"},{\"realtime_start\":\"2024-04-11\",\"realtime_end\":\"2024-04-11\",\"date\":\"1987-05-01\",\"value\":\"3.0\"},{\"realtime_start\":\"2024-04-11\",\"realtime_end\":\"2024-04-11\",\"date\":\"1987-06-01\",\"value\":\"3.000\"},{\"realtime_start\":\"2024-04-11\",\"realtime_end\":\"2024-04-11\",\"date\":\"1987-07-01\",\"value\":\"2.9\"},{\"realtime_start\":\"2024-04-11\",\"realtime_end\":\"2024-04-11\",\"date\":\"1987-08-01\",\"value\":\"2.9\"},{\"realtime_start\":\"2024-04-11\",\"realtime_end\":\"2024-04-11\",\"date\":\"1987-09-01\",\"value\":\"2.9\"},{\"realtime_start\":\"2024-04-11\",\"realtime_end\":\"2024-04-11\",\"date\":\"1987-10-01\",\"value\":\"3.0\"},{\"realtime_start\":\"2024-04-11\",\"realtime_end\":\"2024-04-11\",\"date\":\"1987-11-01\",\"value\":\"3.0\"},{\"realtime_start\":\"2024-04-11\",\"realtime_end\":\"2024-04-11\",\"date\":\"1987-12-01\",\"value\":\"3.1\"},{\"realtime_start\":\"2024-04-11\",\"realtime_end\":\"2024-04-11\",\"date\":\"1988-01-01\",\"value\":\"3.1\"},{\"realtime_start\":\"2024-04-11\",\"realtime_end\":\"2024-04-11\",\"date\":\"1988-02-01\",\"value\":\"3.0\"},{\"realtime_start\":\"2024-04-11\",\"realtime_end\":\"2024-04-11\",\"date\":\"1988-03-01\",\"value\":\"2.9\"},{\"realtime_start\":\"2024-04-11\",\"realtime_end\":\"2024-04-11\",\"date\":\"1988-04-01\",\"value\":\"2.9\"},{\"realtime_start\":\"2024-04-11\",\"realtime_end\":\"2024-04-11\",\"date\":\"1988-05-01\",\"value\":\"2.8\"},{\"realtime_start\":\"2024-04-11\",\"realtime_end\":\"2024-04-11\",\"date\":\"1988-06-01\",\"value\":\"2.9\"},{\"realtime_start\":\"2024-04-11\",\"realtime_end\":\"2024-04-11\",\"date\":\"1988-07-01\",\"value\":\"2.9\"},{\"realtime_start\":\"2024-04-11\",\"realtime_end\":\"2024-04-11\",\"date\":\"1988-08-01\",\"value\":\"3.0\"},{\"realtime_start\":\"2024-04-11\",\"realtime_end\":\"2024-04-11\",\"date\":\"1988-09-01\",\"value\":\"3.1\"},{\"realtime_start\":\"2024-04-11\",\"realtime_end\":\"2024-04-11\",\"date\":\"1988-10-01\",\"value\":\"3.1\"},{\"realtime_start\":\"2024-04-11\",\"realtime_end\":\"2024-04-11\",\"date\":\"1988-11-01\",\"value\":\"3.1\"},{\"realtime_start\":\"2024-04-11\",\"realtime_end\":\"2024-04-11\",\"date\":\"1988-12-01\",\"value\":\"3.0\"},{\"realtime_start\":\"2024-04-11\",\"realtime_end\":\"2024-04-11\",\"date\":\"1989-01-01\",\"value\":\"3.0\"},{\"realtime_start\":\"2024-04-11\",\"realtime_end\":\"2024-04-11\",\"date\":\"1989-02-01\",\"value\":\"3.0\"},{\"realtime_start\":\"2024-04-11\",\"realtime_end\":\"2024-04-11\",\"date\":\"1989-03-01\",\"value\":\"3.0\"},{\"realtime_start\":\"2024-04-11\",\"realtime_end\":\"2024-04-11\",\"date\":\"1989-04-01\",\"value\":\"3.1\"},{\"realtime_start\":\"2024-04-11\",\"realtime_end\":\"2024-04-11\",\"date\":\"1989-05-01\",\"value\":\"3.2\"},{\"realtime_start\":\"2024-04-11\",\"realtime_end\":\"2024-04-11\",\"date\":\"1989-06-01\",\"value\":\"3.4\"},{\"realtime_start\":\"2024-04-11\",\"realtime_end\":\"2024-04-11\",\"date\":\"1989-07-01\",\"value\":\"3.5\"},{\"realtime_start\":\"2024-04-11\",\"realtime_end\":\"2024-04-11\",\"date\":\"1989-08-01\",\"value\":\"3.5\"},{\"realtime_start\":\"2024-04-11\",\"realtime_end\":\"2024-04-11\",\"date\":\"1989-09-01\",\"value\":\"3.5\"},{\"realtime_start\":\"2024-04-11\",\"realtime_end\":\"2024-04-11\",\"date\":\"1989-10-01\",\"value\":\"3.5\"},{\"realtime_start\":\"2024-04-11\",\"realtime_end\":\"2024-04-11\",\"date\":\"1989-11-01\",\"value\":\"3.5\"},{\"realtime_start\":\"2024-04-11\",\"realtime_end\":\"2024-04-11\",\"date\":\"1989-12-01\",\"value\":\"3.5\"},{\"realtime_start\":\"2024-04-11\",\"realtime_end\":\"2024-04-11\",\"date\":\"1990-01-01\",\"value\":\"3.5\"},{\"realtime_start\":\"2024-04-11\",\"realtime_end\":\"2024-04-11\",\"date\":\"1990-02-01\",\"value\":\"3.5\"},{\"realtime_start\":\"2024-04-11\",\"realtime_end\":\"2024-04-11\",\"date\":\"1990-03-01\",\"value\":\"3.5\"},{\"realtime_start\":\"2024-04-11\",\"realtime_end\":\"2024-04-11\",\"date\":\"1990-04-01\",\"value\":\"3.5\"},{\"realtime_start\":\"2024-04-11\",\"realtime_end\":\"2024-04-11\",\"date\":\"1990-05-01\",\"value\":\"3.5\"},{\"realtime_start\":\"2024-04-11\",\"realtime_end\":\"2024-04-11\",\"date\":\"1990-06-01\",\"value\":\"3.6\"},{\"realtime_start\":\"2024-04-11\",\"realtime_end\":\"2024-04-11\",\"date\":\"1990-07-01\",\"value\":\"3.7\"},{\"realtime_start\":\"2024-04-11\",\"realtime_end\":\"2024-04-11\",\"date\":\"1990-08-01\",\"value\":\"3.9\"},{\"realtime_start\":\"2024-04-11\",\"realtime_end\":\"2024-04-11\",\"date\":\"1990-09-01\",\"value\":\"5.5\"},{\"realtime_start\":\"2024-04-11\",\"realtime_end\":\"2024-04-11\",\"date\":\"1990-10-01\",\"value\":\"6.0\"},{\"realtime_start\":\"2024-04-11\",\"realtime_end\":\"2024-04-11\",\"date\":\"1990-11-01\",\"value\":\"6.3\"},{\"realtime_start\":\"2024-04-11\",\"realtime_end\":\"2024-04-11\",\"date\":\"1990-12-01\",\"value\":\"6.4\"},{\"realtime_start\":\"2024-04-11\",\"realtime_end\":\"2024-04-11\",\"date\":\"1991-01-01\",\"value\":\"6.5\"},{\"realtime_start\":\"2024-04-11\",\"realtime_end\":\"2024-04-11\",\"date\":\"1991-02-01\",\"value\":\"6.5\"},{\"realtime_start\":\"2024-04-11\",\"realtime_end\":\"2024-04-11\",\"date\":\"1991-03-01\",\"value\":\"6.4\"},{\"realtime_start\":\"2024-04-11\",\"realtime_end\":\"2024-04-11\",\"date\":\"1991-04-01\",\"value\":\"6.3\"},{\"realtime_start\":\"2024-04-11\",\"realtime_end\":\"2024-04-11\",\"date\":\"1991-05-01\",\"value\":\"6.1\"},{\"realtime_start\":\"2024-04-11\",\"realtime_end\":\"2024-04-11\",\"date\":\"1991-06-01\",\"value\":\"5.9\"},{\"realtime_start\":\"2024-04-11\",\"realtime_end\":\"2024-04-11\",\"date\":\"1991-07-01\",\"value\":\"5.8\"},{\"realtime_start\":\"2024-04-11\",\"realtime_end\":\"2024-04-11\",\"date\":\"1991-08-01\",\"value\":\"5.6\"},{\"realtime_start\":\"2024-04-11\",\"realtime_end\":\"2024-04-11\",\"date\":\"1991-09-01\",\"value\":\"5.5\"},{\"realtime_start\":\"2024-04-11\",\"realtime_end\":\"2024-04-11\",\"date\":\"1991-10-01\",\"value\":\"5.5\"},{\"realtime_start\":\"2024-04-11\",\"realtime_end\":\"2024-04-11\",\"date\":\"1991-11-01\",\"value\":\"5.5\"},{\"realtime_start\":\"2024-04-11\",\"realtime_end\":\"2024-04-11\",\"date\":\"1991-12-01\",\"value\":\"5.4\"},{\"realtime_start\":\"2024-04-11\",\"realtime_end\":\"2024-04-11\",\"date\":\"1992-01-01\",\"value\":\"5.4\"},{\"realtime_start\":\"2024-04-11\",\"realtime_end\":\"2024-04-11\",\"date\":\"1992-02-01\",\"value\":\"5.4\"},{\"realtime_start\":\"2024-04-11\",\"realtime_end\":\"2024-04-11\",\"date\":\"1992-03-01\",\"value\":\"5.4\"},{\"realtime_start\":\"2024-04-11\",\"realtime_end\":\"2024-04-11\",\"date\":\"1992-04-01\",\"value\":\"5.4\"},{\"realtime_start\":\"2024-04-11\",\"realtime_end\":\"2024-04-11\",\"date\":\"1992-05-01\",\"value\":\"5.4\"},{\"realtime_start\":\"2024-04-11\",\"realtime_end\":\"2024-04-11\",\"date\":\"1992-06-01\",\"value\":\"5.3\"},{\"realtime_start\":\"2024-04-11\",\"realtime_end\":\"2024-04-11\",\"date\":\"1992-07-01\",\"value\":\"5.3\"},{\"realtime_start\":\"2024-04-11\",\"realtime_end\":\"2024-04-11\",\"date\":\"1992-08-01\",\"value\":\"5.2\"},{\"realtime_start\":\"2024-04-11\",\"realtime_end\":\"2024-04-11\",\"date\":\"1992-09-01\",\"value\":\"5.2\"},{\"realtime_start\":\"2024-04-11\",\"realtime_end\":\"2024-04-11\",\"date\":\"1992-10-01\",\"value\":\"5.0\"},{\"realtime_start\":\"2024-04-11\",\"realtime_end\":\"2024-04-11\",\"date\":\"1992-11-01\",\"value\":\"4.9\"},{\"realtime_start\":\"2024-04-11\",\"realtime_end\":\"2024-04-11\",\"date\":\"1992-12-01\",\"value\":\"4.8\"},{\"realtime_start\":\"2024-04-11\",\"realtime_end\":\"2024-04-11\",\"date\":\"1993-01-01\",\"value\":\"4.800\"},{\"realtime_start\":\"2024-04-11\",\"realtime_end\":\"2024-04-11\",\"date\":\"1993-02-01\",\"value\":\"4.7\"},{\"realtime_start\":\"2024-04-11\",\"realtime_end\":\"2024-04-11\",\"date\":\"1993-03-01\",\"value\":\"4.7\"},{\"realtime_start\":\"2024-04-11\",\"realtime_end\":\"2024-04-11\",\"date\":\"1993-04-01\",\"value\":\"4.7\"},{\"realtime_start\":\"2024-04-11\",\"realtime_end\":\"2024-04-11\",\"date\":\"1993-05-01\",\"value\":\"4.8\"},{\"realtime_start\":\"2024-04-11\",\"realtime_end\":\"2024-04-11\",\"date\":\"1993-06-01\",\"value\":\"4.9\"},{\"realtime_start\":\"2024-04-11\",\"realtime_end\":\"2024-04-11\",\"date\":\"1993-07-01\",\"value\":\"4.9\"},{\"realtime_start\":\"2024-04-11\",\"realtime_end\":\"2024-04-11\",\"date\":\"1993-08-01\",\"value\":\"5.0\"},{\"realtime_start\":\"2024-04-11\",\"realtime_end\":\"2024-04-11\",\"date\":\"1993-09-01\",\"value\":\"5.0\"},{\"realtime_start\":\"2024-04-11\",\"realtime_end\":\"2024-04-11\",\"date\":\"1993-10-01\",\"value\":\"5.1\"},{\"realtime_start\":\"2024-04-11\",\"realtime_end\":\"2024-04-11\",\"date\":\"1993-11-01\",\"value\":\"5.1\"},{\"realtime_start\":\"2024-04-11\",\"realtime_end\":\"2024-04-11\",\"date\":\"1993-12-01\",\"value\":\"5.2\"},{\"realtime_start\":\"2024-04-11\",\"realtime_end\":\"2024-04-11\",\"date\":\"1994-01-01\",\"value\":\"5.2\"},{\"realtime_start\":\"2024-04-11\",\"realtime_end\":\"2024-04-11\",\"date\":\"1994-02-01\",\"value\":\"5.2\"},{\"realtime_start\":\"2024-04-11\",\"realtime_end\":\"2024-04-11\",\"date\":\"1994-03-01\",\"value\":\"5.2\"},{\"realtime_start\":\"2024-04-11\",\"realtime_end\":\"2024-04-11\",\"date\":\"1994-04-01\",\"value\":\"5.1\"},{\"realtime_start\":\"2024-04-11\",\"realtime_end\":\"2024-04-11\",\"date\":\"1994-05-01\",\"value\":\"5.0\"},{\"realtime_start\":\"2024-04-11\",\"realtime_end\":\"2024-04-11\",\"date\":\"1994-06-01\",\"value\":\"4.8\"},{\"realtime_start\":\"2024-04-11\",\"realtime_end\":\"2024-04-11\",\"date\":\"1994-07-01\",\"value\":\"4.700\"},{\"realtime_start\":\"2024-04-11\",\"realtime_end\":\"2024-04-11\",\"date\":\"1994-08-01\",\"value\":\"4.5\"},{\"realtime_start\":\"2024-04-11\",\"realtime_end\":\"2024-04-11\",\"date\":\"1994-09-01\",\"value\":\"4.400\"},{\"realtime_start\":\"2024-04-11\",\"realtime_end\":\"2024-04-11\",\"date\":\"1994-10-01\",\"value\":\"4.2\"},{\"realtime_start\":\"2024-04-11\",\"realtime_end\":\"2024-04-11\",\"date\":\"1994-11-01\",\"value\":\"4.100\"},{\"realtime_start\":\"2024-04-11\",\"realtime_end\":\"2024-04-11\",\"date\":\"1994-12-01\",\"value\":\"4.000\"},{\"realtime_start\":\"2024-04-11\",\"realtime_end\":\"2024-04-11\",\"date\":\"1995-01-01\",\"value\":\"4.000\"},{\"realtime_start\":\"2024-04-11\",\"realtime_end\":\"2024-04-11\",\"date\":\"1995-02-01\",\"value\":\"4.000\"},{\"realtime_start\":\"2024-04-11\",\"realtime_end\":\"2024-04-11\",\"date\":\"1995-03-01\",\"value\":\"4.000\"},{\"realtime_start\":\"2024-04-11\",\"realtime_end\":\"2024-04-11\",\"date\":\"1995-04-01\",\"value\":\"4.100\"},{\"realtime_start\":\"2024-04-11\",\"realtime_end\":\"2024-04-11\",\"date\":\"1995-05-01\",\"value\":\"4.200\"},{\"realtime_start\":\"2024-04-11\",\"realtime_end\":\"2024-04-11\",\"date\":\"1995-06-01\",\"value\":\"4.2\"},{\"realtime_start\":\"2024-04-11\",\"realtime_end\":\"2024-04-11\",\"date\":\"1995-07-01\",\"value\":\"4.300\"},{\"realtime_start\":\"2024-04-11\",\"realtime_end\":\"2024-04-11\",\"date\":\"1995-08-01\",\"value\":\"4.3\"},{\"realtime_start\":\"2024-04-11\",\"realtime_end\":\"2024-04-11\",\"date\":\"1995-09-01\",\"value\":\"4.400\"},{\"realtime_start\":\"2024-04-11\",\"realtime_end\":\"2024-04-11\",\"date\":\"1995-10-01\",\"value\":\"4.4\"},{\"realtime_start\":\"2024-04-11\",\"realtime_end\":\"2024-04-11\",\"date\":\"1995-11-01\",\"value\":\"4.6\"},{\"realtime_start\":\"2024-04-11\",\"realtime_end\":\"2024-04-11\",\"date\":\"1995-12-01\",\"value\":\"4.7\"},{\"realtime_start\":\"2024-04-11\",\"realtime_end\":\"2024-04-11\",\"date\":\"1996-01-01\",\"value\":\"4.9\"},{\"realtime_start\":\"2024-04-11\",\"realtime_end\":\"2024-04-11\",\"date\":\"1996-02-01\",\"value\":\"4.9\"},{\"realtime_start\":\"2024-04-11\",\"realtime_end\":\"2024-04-11\",\"date\":\"1996-03-01\",\"value\":\"4.9\"},{\"realtime_start\":\"2024-04-11\",\"realtime_end\":\"2024-04-11\",\"date\":\"1996-04-01\",\"value\":\"4.9\"},{\"realtime_start\":\"2024-04-11\",\"realtime_end\":\"2024-04-11\",\"date\":\"1996-05-01\",\"value\":\"4.8\"},{\"realtime_start\":\"2024-04-11\",\"realtime_end\":\"2024-04-11\",\"date\":\"1996-06-01\",\"value\":\"4.8\"},{\"realtime_start\":\"2024-04-11\",\"realtime_end\":\"2024-04-11\",\"date\":\"1996-07-01\",\"value\":\"4.9\"},{\"realtime_start\":\"2024-04-11\",\"realtime_end\":\"2024-04-11\",\"date\":\"1996-08-01\",\"value\":\"5.0\"},{\"realtime_start\":\"2024-04-11\",\"realtime_end\":\"2024-04-11\",\"date\":\"1996-09-01\",\"value\":\"5.1\"},{\"realtime_start\":\"2024-04-11\",\"realtime_end\":\"2024-04-11\",\"date\":\"1996-10-01\",\"value\":\"5.1\"},{\"realtime_start\":\"2024-04-11\",\"realtime_end\":\"2024-04-11\",\"date\":\"1996-11-01\",\"value\":\"5.1\"},{\"realtime_start\":\"2024-04-11\",\"realtime_end\":\"2024-04-11\",\"date\":\"1996-12-01\",\"value\":\"5.000\"},{\"realtime_start\":\"2024-04-11\",\"realtime_end\":\"2024-04-11\",\"date\":\"1997-01-01\",\"value\":\"4.9\"},{\"realtime_start\":\"2024-04-11\",\"realtime_end\":\"2024-04-11\",\"date\":\"1997-02-01\",\"value\":\"4.8\"},{\"realtime_start\":\"2024-04-11\",\"realtime_end\":\"2024-04-11\",\"date\":\"1997-03-01\",\"value\":\"4.7\"},{\"realtime_start\":\"2024-04-11\",\"realtime_end\":\"2024-04-11\",\"date\":\"1997-04-01\",\"value\":\"4.4\"},{\"realtime_start\":\"2024-04-11\",\"realtime_end\":\"2024-04-11\",\"date\":\"1997-05-01\",\"value\":\"4.2\"},{\"realtime_start\":\"2024-04-11\",\"realtime_end\":\"2024-04-11\",\"date\":\"1997-06-01\",\"value\":\"4.1\"},{\"realtime_start\":\"2024-04-11\",\"realtime_end\":\"2024-04-11\",\"date\":\"1997-07-01\",\"value\":\"3.900\"},{\"realtime_start\":\"2024-04-11\",\"realtime_end\":\"2024-04-11\",\"date\":\"1997-08-01\",\"value\":\"3.7\"},{\"realtime_start\":\"2024-04-11\",\"realtime_end\":\"2024-04-11\",\"date\":\"1997-09-01\",\"value\":\"3.5\"},{\"realtime_start\":\"2024-04-11\",\"realtime_end\":\"2024-04-11\",\"date\":\"1997-10-01\",\"value\":\"3.4\"},{\"realtime_start\":\"2024-04-11\",\"realtime_end\":\"2024-04-11\",\"date\":\"1997-11-01\",\"value\":\"3.2\"},{\"realtime_start\":\"2024-04-11\",\"realtime_end\":\"2024-04-11\",\"date\":\"1997-12-01\",\"value\":\"3.3\"},{\"realtime_start\":\"2024-04-11\",\"realtime_end\":\"2024-04-11\",\"date\":\"1998-01-01\",\"value\":\"3.4\"},{\"realtime_start\":\"2024-04-11\",\"realtime_end\":\"2024-04-11\",\"date\":\"1998-02-01\",\"value\":\"3.5\"},{\"realtime_start\":\"2024-04-11\",\"realtime_end\":\"2024-04-11\",\"date\":\"1998-03-01\",\"value\":\"3.6\"},{\"realtime_start\":\"2024-04-11\",\"realtime_end\":\"2024-04-11\",\"date\":\"1998-04-01\",\"value\":\"3.6\"},{\"realtime_start\":\"2024-04-11\",\"realtime_end\":\"2024-04-11\",\"date\":\"1998-05-01\",\"value\":\"3.6\"},{\"realtime_start\":\"2024-04-11\",\"realtime_end\":\"2024-04-11\",\"date\":\"1998-06-01\",\"value\":\"3.6\"},{\"realtime_start\":\"2024-04-11\",\"realtime_end\":\"2024-04-11\",\"date\":\"1998-07-01\",\"value\":\"3.6\"},{\"realtime_start\":\"2024-04-11\",\"realtime_end\":\"2024-04-11\",\"date\":\"1998-08-01\",\"value\":\"3.6\"},{\"realtime_start\":\"2024-04-11\",\"realtime_end\":\"2024-04-11\",\"date\":\"1998-09-01\",\"value\":\"3.5\"},{\"realtime_start\":\"2024-04-11\",\"realtime_end\":\"2024-04-11\",\"date\":\"1998-10-01\",\"value\":\"3.4\"},{\"realtime_start\":\"2024-04-11\",\"realtime_end\":\"2024-04-11\",\"date\":\"1998-11-01\",\"value\":\"3.3\"},{\"realtime_start\":\"2024-04-11\",\"realtime_end\":\"2024-04-11\",\"date\":\"1998-12-01\",\"value\":\"3.2\"},{\"realtime_start\":\"2024-04-11\",\"realtime_end\":\"2024-04-11\",\"date\":\"1999-01-01\",\"value\":\"3.2\"},{\"realtime_start\":\"2024-04-11\",\"realtime_end\":\"2024-04-11\",\"date\":\"1999-02-01\",\"value\":\"3.2\"},{\"realtime_start\":\"2024-04-11\",\"realtime_end\":\"2024-04-11\",\"date\":\"1999-03-01\",\"value\":\"3.2\"},{\"realtime_start\":\"2024-04-11\",\"realtime_end\":\"2024-04-11\",\"date\":\"1999-04-01\",\"value\":\"3.2\"},{\"realtime_start\":\"2024-04-11\",\"realtime_end\":\"2024-04-11\",\"date\":\"1999-05-01\",\"value\":\"3.3\"},{\"realtime_start\":\"2024-04-11\",\"realtime_end\":\"2024-04-11\",\"date\":\"1999-06-01\",\"value\":\"3.3\"},{\"realtime_start\":\"2024-04-11\",\"realtime_end\":\"2024-04-11\",\"date\":\"1999-07-01\",\"value\":\"3.3\"},{\"realtime_start\":\"2024-04-11\",\"realtime_end\":\"2024-04-11\",\"date\":\"1999-08-01\",\"value\":\"3.3\"},{\"realtime_start\":\"2024-04-11\",\"realtime_end\":\"2024-04-11\",\"date\":\"1999-09-01\",\"value\":\"3.3\"},{\"realtime_start\":\"2024-04-11\",\"realtime_end\":\"2024-04-11\",\"date\":\"1999-10-01\",\"value\":\"3.3\"},{\"realtime_start\":\"2024-04-11\",\"realtime_end\":\"2024-04-11\",\"date\":\"1999-11-01\",\"value\":\"3.4\"},{\"realtime_start\":\"2024-04-11\",\"realtime_end\":\"2024-04-11\",\"date\":\"1999-12-01\",\"value\":\"3.4\"},{\"realtime_start\":\"2024-04-11\",\"realtime_end\":\"2024-04-11\",\"date\":\"2000-01-01\",\"value\":\"3.4\"},{\"realtime_start\":\"2024-04-11\",\"realtime_end\":\"2024-04-11\",\"date\":\"2000-02-01\",\"value\":\"3.4\"},{\"realtime_start\":\"2024-04-11\",\"realtime_end\":\"2024-04-11\",\"date\":\"2000-03-01\",\"value\":\"3.5\"},{\"realtime_start\":\"2024-04-11\",\"realtime_end\":\"2024-04-11\",\"date\":\"2000-04-01\",\"value\":\"3.5\"},{\"realtime_start\":\"2024-04-11\",\"realtime_end\":\"2024-04-11\",\"date\":\"2000-05-01\",\"value\":\"3.6\"},{\"realtime_start\":\"2024-04-11\",\"realtime_end\":\"2024-04-11\",\"date\":\"2000-06-01\",\"value\":\"3.7\"},{\"realtime_start\":\"2024-04-11\",\"realtime_end\":\"2024-04-11\",\"date\":\"2000-07-01\",\"value\":\"3.7\"},{\"realtime_start\":\"2024-04-11\",\"realtime_end\":\"2024-04-11\",\"date\":\"2000-08-01\",\"value\":\"3.7\"},{\"realtime_start\":\"2024-04-11\",\"realtime_end\":\"2024-04-11\",\"date\":\"2000-09-01\",\"value\":\"3.7\"},{\"realtime_start\":\"2024-04-11\",\"realtime_end\":\"2024-04-11\",\"date\":\"2000-10-01\",\"value\":\"3.7\"},{\"realtime_start\":\"2024-04-11\",\"realtime_end\":\"2024-04-11\",\"date\":\"2000-11-01\",\"value\":\"3.7\"},{\"realtime_start\":\"2024-04-11\",\"realtime_end\":\"2024-04-11\",\"date\":\"2000-12-01\",\"value\":\"3.7\"},{\"realtime_start\":\"2024-04-11\",\"realtime_end\":\"2024-04-11\",\"date\":\"2001-01-01\",\"value\":\"3.6\"},{\"realtime_start\":\"2024-04-11\",\"realtime_end\":\"2024-04-11\",\"date\":\"2001-02-01\",\"value\":\"3.6\"},{\"realtime_start\":\"2024-04-11\",\"realtime_end\":\"2024-04-11\",\"date\":\"2001-03-01\",\"value\":\"3.5\"},{\"realtime_start\":\"2024-04-11\",\"realtime_end\":\"2024-04-11\",\"date\":\"2001-04-01\",\"value\":\"3.400\"},{\"realtime_start\":\"2024-04-11\",\"realtime_end\":\"2024-04-11\",\"date\":\"2001-05-01\",\"value\":\"3.300\"},{\"realtime_start\":\"2024-04-11\",\"realtime_end\":\"2024-04-11\",\"date\":\"2001-06-01\",\"value\":\"3.300\"},{\"realtime_start\":\"2024-04-11\",\"realtime_end\":\"2024-04-11\",\"date\":\"2001-07-01\",\"value\":\"3.4\"},{\"realtime_start\":\"2024-04-11\",\"realtime_end\":\"2024-04-11\",\"date\":\"2001-08-01\",\"value\":\"3.5\"},{\"realtime_start\":\"2024-04-11\",\"realtime_end\":\"2024-04-11\",\"date\":\"2001-09-01\",\"value\":\"3.6\"},{\"realtime_start\":\"2024-04-11\",\"realtime_end\":\"2024-04-11\",\"date\":\"2001-10-01\",\"value\":\"3.8\"},{\"realtime_start\":\"2024-04-11\",\"realtime_end\":\"2024-04-11\",\"date\":\"2001-11-01\",\"value\":\"3.9\"},{\"realtime_start\":\"2024-04-11\",\"realtime_end\":\"2024-04-11\",\"date\":\"2001-12-01\",\"value\":\"4.0\"},{\"realtime_start\":\"2024-04-11\",\"realtime_end\":\"2024-04-11\",\"date\":\"2002-01-01\",\"value\":\"4.2\"},{\"realtime_start\":\"2024-04-11\",\"realtime_end\":\"2024-04-11\",\"date\":\"2002-02-01\",\"value\":\"4.3\"},{\"realtime_start\":\"2024-04-11\",\"realtime_end\":\"2024-04-11\",\"date\":\"2002-03-01\",\"value\":\"4.4\"},{\"realtime_start\":\"2024-04-11\",\"realtime_end\":\"2024-04-11\",\"date\":\"2002-04-01\",\"value\":\"4.4\"},{\"realtime_start\":\"2024-04-11\",\"realtime_end\":\"2024-04-11\",\"date\":\"2002-05-01\",\"value\":\"4.4\"},{\"realtime_start\":\"2024-04-11\",\"realtime_end\":\"2024-04-11\",\"date\":\"2002-06-01\",\"value\":\"4.3\"},{\"realtime_start\":\"2024-04-11\",\"realtime_end\":\"2024-04-11\",\"date\":\"2002-07-01\",\"value\":\"4.3\"},{\"realtime_start\":\"2024-04-11\",\"realtime_end\":\"2024-04-11\",\"date\":\"2002-08-01\",\"value\":\"4.2\"},{\"realtime_start\":\"2024-04-11\",\"realtime_end\":\"2024-04-11\",\"date\":\"2002-09-01\",\"value\":\"4.1\"},{\"realtime_start\":\"2024-04-11\",\"realtime_end\":\"2024-04-11\",\"date\":\"2002-10-01\",\"value\":\"4.1\"},{\"realtime_start\":\"2024-04-11\",\"realtime_end\":\"2024-04-11\",\"date\":\"2002-11-01\",\"value\":\"4.2\"},{\"realtime_start\":\"2024-04-11\",\"realtime_end\":\"2024-04-11\",\"date\":\"2002-12-01\",\"value\":\"4.3\"},{\"realtime_start\":\"2024-04-11\",\"realtime_end\":\"2024-04-11\",\"date\":\"2003-01-01\",\"value\":\"4.4\"},{\"realtime_start\":\"2024-04-11\",\"realtime_end\":\"2024-04-11\",\"date\":\"2003-02-01\",\"value\":\"4.5\"},{\"realtime_start\":\"2024-04-11\",\"realtime_end\":\"2024-04-11\",\"date\":\"2003-03-01\",\"value\":\"4.5\"},{\"realtime_start\":\"2024-04-11\",\"realtime_end\":\"2024-04-11\",\"date\":\"2003-04-01\",\"value\":\"4.6\"},{\"realtime_start\":\"2024-04-11\",\"realtime_end\":\"2024-04-11\",\"date\":\"2003-05-01\",\"value\":\"4.6\"},{\"realtime_start\":\"2024-04-11\",\"realtime_end\":\"2024-04-11\",\"date\":\"2003-06-01\",\"value\":\"4.6\"},{\"realtime_start\":\"2024-04-11\",\"realtime_end\":\"2024-04-11\",\"date\":\"2003-07-01\",\"value\":\"4.6\"},{\"realtime_start\":\"2024-04-11\",\"realtime_end\":\"2024-04-11\",\"date\":\"2003-08-01\",\"value\":\"4.5\"},{\"realtime_start\":\"2024-04-11\",\"realtime_end\":\"2024-04-11\",\"date\":\"2003-09-01\",\"value\":\"4.4\"},{\"realtime_start\":\"2024-04-11\",\"realtime_end\":\"2024-04-11\",\"date\":\"2003-10-01\",\"value\":\"4.4\"},{\"realtime_start\":\"2024-04-11\",\"realtime_end\":\"2024-04-11\",\"date\":\"2003-11-01\",\"value\":\"4.3\"},{\"realtime_start\":\"2024-04-11\",\"realtime_end\":\"2024-04-11\",\"date\":\"2003-12-01\",\"value\":\"4.2\"},{\"realtime_start\":\"2024-04-11\",\"realtime_end\":\"2024-04-11\",\"date\":\"2004-01-01\",\"value\":\"4.1\"},{\"realtime_start\":\"2024-04-11\",\"realtime_end\":\"2024-04-11\",\"date\":\"2004-02-01\",\"value\":\"4.1\"},{\"realtime_start\":\"2024-04-11\",\"realtime_end\":\"2024-04-11\",\"date\":\"2004-03-01\",\"value\":\"4.2\"},{\"realtime_start\":\"2024-04-11\",\"realtime_end\":\"2024-04-11\",\"date\":\"2004-04-01\",\"value\":\"4.2\"},{\"realtime_start\":\"2024-04-11\",\"realtime_end\":\"2024-04-11\",\"date\":\"2004-05-01\",\"value\":\"4.2\"},{\"realtime_start\":\"2024-04-11\",\"realtime_end\":\"2024-04-11\",\"date\":\"2004-06-01\",\"value\":\"4.3\"},{\"realtime_start\":\"2024-04-11\",\"realtime_end\":\"2024-04-11\",\"date\":\"2004-07-01\",\"value\":\"4.3\"},{\"realtime_start\":\"2024-04-11\",\"realtime_end\":\"2024-04-11\",\"date\":\"2004-08-01\",\"value\":\"4.4\"},{\"realtime_start\":\"2024-04-11\",\"realtime_end\":\"2024-04-11\",\"date\":\"2004-09-01\",\"value\":\"4.4\"},{\"realtime_start\":\"2024-04-11\",\"realtime_end\":\"2024-04-11\",\"date\":\"2004-10-01\",\"value\":\"4.4\"},{\"realtime_start\":\"2024-04-11\",\"realtime_end\":\"2024-04-11\",\"date\":\"2004-11-01\",\"value\":\"4.5\"},{\"realtime_start\":\"2024-04-11\",\"realtime_end\":\"2024-04-11\",\"date\":\"2004-12-01\",\"value\":\"4.5\"},{\"realtime_start\":\"2024-04-11\",\"realtime_end\":\"2024-04-11\",\"date\":\"2005-01-01\",\"value\":\"4.5\"},{\"realtime_start\":\"2024-04-11\",\"realtime_end\":\"2024-04-11\",\"date\":\"2005-02-01\",\"value\":\"4.5\"},{\"realtime_start\":\"2024-04-11\",\"realtime_end\":\"2024-04-11\",\"date\":\"2005-03-01\",\"value\":\"4.5\"},{\"realtime_start\":\"2024-04-11\",\"realtime_end\":\"2024-04-11\",\"date\":\"2005-04-01\",\"value\":\"4.5\"},{\"realtime_start\":\"2024-04-11\",\"realtime_end\":\"2024-04-11\",\"date\":\"2005-05-01\",\"value\":\"4.5\"},{\"realtime_start\":\"2024-04-11\",\"realtime_end\":\"2024-04-11\",\"date\":\"2005-06-01\",\"value\":\"4.5\"},{\"realtime_start\":\"2024-04-11\",\"realtime_end\":\"2024-04-11\",\"date\":\"2005-07-01\",\"value\":\"4.5\"},{\"realtime_start\":\"2024-04-11\",\"realtime_end\":\"2024-04-11\",\"date\":\"2005-08-01\",\"value\":\"4.6\"},{\"realtime_start\":\"2024-04-11\",\"realtime_end\":\"2024-04-11\",\"date\":\"2005-09-01\",\"value\":\"4.6\"},{\"realtime_start\":\"2024-04-11\",\"realtime_end\":\"2024-04-11\",\"date\":\"2005-10-01\",\"value\":\"4.5\"},{\"realtime_start\":\"2024-04-11\",\"realtime_end\":\"2024-04-11\",\"date\":\"2005-11-01\",\"value\":\"4.5\"},{\"realtime_start\":\"2024-04-11\",\"realtime_end\":\"2024-04-11\",\"date\":\"2005-12-01\",\"value\":\"4.4\"},{\"realtime_start\":\"2024-04-11\",\"realtime_end\":\"2024-04-11\",\"date\":\"2006-01-01\",\"value\":\"4.3\"},{\"realtime_start\":\"2024-04-11\",\"realtime_end\":\"2024-04-11\",\"date\":\"2006-02-01\",\"value\":\"4.1\"},{\"realtime_start\":\"2024-04-11\",\"realtime_end\":\"2024-04-11\",\"date\":\"2006-03-01\",\"value\":\"4.0\"},{\"realtime_start\":\"2024-04-11\",\"realtime_end\":\"2024-04-11\",\"date\":\"2006-04-01\",\"value\":\"4.0\"},{\"realtime_start\":\"2024-04-11\",\"realtime_end\":\"2024-04-11\",\"date\":\"2006-05-01\",\"value\":\"4.0\"},{\"realtime_start\":\"2024-04-11\",\"realtime_end\":\"2024-04-11\",\"date\":\"2006-06-01\",\"value\":\"4.0\"},{\"realtime_start\":\"2024-04-11\",\"realtime_end\":\"2024-04-11\",\"date\":\"2006-07-01\",\"value\":\"3.9\"},{\"realtime_start\":\"2024-04-11\",\"realtime_end\":\"2024-04-11\",\"date\":\"2006-08-01\",\"value\":\"3.9\"},{\"realtime_start\":\"2024-04-11\",\"realtime_end\":\"2024-04-11\",\"date\":\"2006-09-01\",\"value\":\"3.8\"},{\"realtime_start\":\"2024-04-11\",\"realtime_end\":\"2024-04-11\",\"date\":\"2006-10-01\",\"value\":\"3.7\"},{\"realtime_start\":\"2024-04-11\",\"realtime_end\":\"2024-04-11\",\"date\":\"2006-11-01\",\"value\":\"3.6\"},{\"realtime_start\":\"2024-04-11\",\"realtime_end\":\"2024-04-11\",\"date\":\"2006-12-01\",\"value\":\"3.6\"},{\"realtime_start\":\"2024-04-11\",\"realtime_end\":\"2024-04-11\",\"date\":\"2007-01-01\",\"value\":\"3.6\"},{\"realtime_start\":\"2024-04-11\",\"realtime_end\":\"2024-04-11\",\"date\":\"2007-02-01\",\"value\":\"3.6\"},{\"realtime_start\":\"2024-04-11\",\"realtime_end\":\"2024-04-11\",\"date\":\"2007-03-01\",\"value\":\"3.6\"},{\"realtime_start\":\"2024-04-11\",\"realtime_end\":\"2024-04-11\",\"date\":\"2007-04-01\",\"value\":\"3.6\"},{\"realtime_start\":\"2024-04-11\",\"realtime_end\":\"2024-04-11\",\"date\":\"2007-05-01\",\"value\":\"3.6\"},{\"realtime_start\":\"2024-04-11\",\"realtime_end\":\"2024-04-11\",\"date\":\"2007-06-01\",\"value\":\"3.5\"},{\"realtime_start\":\"2024-04-11\",\"realtime_end\":\"2024-04-11\",\"date\":\"2007-07-01\",\"value\":\"3.5\"},{\"realtime_start\":\"2024-04-11\",\"realtime_end\":\"2024-04-11\",\"date\":\"2007-08-01\",\"value\":\"3.5\"},{\"realtime_start\":\"2024-04-11\",\"realtime_end\":\"2024-04-11\",\"date\":\"2007-09-01\",\"value\":\"3.6\"},{\"realtime_start\":\"2024-04-11\",\"realtime_end\":\"2024-04-11\",\"date\":\"2007-10-01\",\"value\":\"3.7\"},{\"realtime_start\":\"2024-04-11\",\"realtime_end\":\"2024-04-11\",\"date\":\"2007-11-01\",\"value\":\"3.7\"},{\"realtime_start\":\"2024-04-11\",\"realtime_end\":\"2024-04-11\",\"date\":\"2007-12-01\",\"value\":\"3.8\"},{\"realtime_start\":\"2024-04-11\",\"realtime_end\":\"2024-04-11\",\"date\":\"2008-01-01\",\"value\":\"3.9\"},{\"realtime_start\":\"2024-04-11\",\"realtime_end\":\"2024-04-11\",\"date\":\"2008-02-01\",\"value\":\"4.0\"},{\"realtime_start\":\"2024-04-11\",\"realtime_end\":\"2024-04-11\",\"date\":\"2008-03-01\",\"value\":\"4.1\"},{\"realtime_start\":\"2024-04-11\",\"realtime_end\":\"2024-04-11\",\"date\":\"2008-04-01\",\"value\":\"4.2\"},{\"realtime_start\":\"2024-04-11\",\"realtime_end\":\"2024-04-11\",\"date\":\"2008-05-01\",\"value\":\"4.5\"},{\"realtime_start\":\"2024-04-11\",\"realtime_end\":\"2024-04-11\",\"date\":\"2008-06-01\",\"value\":\"4.7\"},{\"realtime_start\":\"2024-04-11\",\"realtime_end\":\"2024-04-11\",\"date\":\"2008-07-01\",\"value\":\"5.0\"},{\"realtime_start\":\"2024-04-11\",\"realtime_end\":\"2024-04-11\",\"date\":\"2008-08-01\",\"value\":\"5.3\"},{\"realtime_start\":\"2024-04-11\",\"realtime_end\":\"2024-04-11\",\"date\":\"2008-09-01\",\"value\":\"5.600\"},{\"realtime_start\":\"2024-04-11\",\"realtime_end\":\"2024-04-11\",\"date\":\"2008-10-01\",\"value\":\"6.000\"},{\"realtime_start\":\"2024-04-11\",\"realtime_end\":\"2024-04-11\",\"date\":\"2008-11-01\",\"value\":\"6.3\"},{\"realtime_start\":\"2024-04-11\",\"realtime_end\":\"2024-04-11\",\"date\":\"2008-12-01\",\"value\":\"6.800\"},{\"realtime_start\":\"2024-04-11\",\"realtime_end\":\"2024-04-11\",\"date\":\"2009-01-01\",\"value\":\"7.200\"},{\"realtime_start\":\"2024-04-11\",\"realtime_end\":\"2024-04-11\",\"date\":\"2009-02-01\",\"value\":\"7.600\"},{\"realtime_start\":\"2024-04-11\",\"realtime_end\":\"2024-04-11\",\"date\":\"2009-03-01\",\"value\":\"7.900\"},{\"realtime_start\":\"2024-04-11\",\"realtime_end\":\"2024-04-11\",\"date\":\"2009-04-01\",\"value\":\"8.2\"},{\"realtime_start\":\"2024-04-11\",\"realtime_end\":\"2024-04-11\",\"date\":\"2009-05-01\",\"value\":\"8.300\"},{\"realtime_start\":\"2024-04-11\",\"realtime_end\":\"2024-04-11\",\"date\":\"2009-06-01\",\"value\":\"8.400\"},{\"realtime_start\":\"2024-04-11\",\"realtime_end\":\"2024-04-11\",\"date\":\"2009-07-01\",\"value\":\"8.500\"},{\"realtime_start\":\"2024-04-11\",\"realtime_end\":\"2024-04-11\",\"date\":\"2009-08-01\",\"value\":\"8.6\"},{\"realtime_start\":\"2024-04-11\",\"realtime_end\":\"2024-04-11\",\"date\":\"2009-09-01\",\"value\":\"8.7\"},{\"realtime_start\":\"2024-04-11\",\"realtime_end\":\"2024-04-11\",\"date\":\"2009-10-01\",\"value\":\"8.8\"},{\"realtime_start\":\"2024-04-11\",\"realtime_end\":\"2024-04-11\",\"date\":\"2009-11-01\",\"value\":\"8.9\"},{\"realtime_start\":\"2024-04-11\",\"realtime_end\":\"2024-04-11\",\"date\":\"2009-12-01\",\"value\":\"9.0\"},{\"realtime_start\":\"2024-04-11\",\"realtime_end\":\"2024-04-11\",\"date\":\"2010-01-01\",\"value\":\"9.1\"},{\"realtime_start\":\"2024-04-11\",\"realtime_end\":\"2024-04-11\",\"date\":\"2010-02-01\",\"value\":\"9.0\"},{\"realtime_start\":\"2024-04-11\",\"realtime_end\":\"2024-04-11\",\"date\":\"2010-03-01\",\"value\":\"9.0\"},{\"realtime_start\":\"2024-04-11\",\"realtime_end\":\"2024-04-11\",\"date\":\"2010-04-01\",\"value\":\"8.8\"},{\"realtime_start\":\"2024-04-11\",\"realtime_end\":\"2024-04-11\",\"date\":\"2010-05-01\",\"value\":\"8.7\"},{\"realtime_start\":\"2024-04-11\",\"realtime_end\":\"2024-04-11\",\"date\":\"2010-06-01\",\"value\":\"8.6\"},{\"realtime_start\":\"2024-04-11\",\"realtime_end\":\"2024-04-11\",\"date\":\"2010-07-01\",\"value\":\"8.6\"},{\"realtime_start\":\"2024-04-11\",\"realtime_end\":\"2024-04-11\",\"date\":\"2010-08-01\",\"value\":\"8.5\"},{\"realtime_start\":\"2024-04-11\",\"realtime_end\":\"2024-04-11\",\"date\":\"2010-09-01\",\"value\":\"8.5\"},{\"realtime_start\":\"2024-04-11\",\"realtime_end\":\"2024-04-11\",\"date\":\"2010-10-01\",\"value\":\"8.5\"},{\"realtime_start\":\"2024-04-11\",\"realtime_end\":\"2024-04-11\",\"date\":\"2010-11-01\",\"value\":\"8.4\"},{\"realtime_start\":\"2024-04-11\",\"realtime_end\":\"2024-04-11\",\"date\":\"2010-12-01\",\"value\":\"8.2\"},{\"realtime_start\":\"2024-04-11\",\"realtime_end\":\"2024-04-11\",\"date\":\"2011-01-01\",\"value\":\"8.1\"},{\"realtime_start\":\"2024-04-11\",\"realtime_end\":\"2024-04-11\",\"date\":\"2011-02-01\",\"value\":\"7.9\"},{\"realtime_start\":\"2024-04-11\",\"realtime_end\":\"2024-04-11\",\"date\":\"2011-03-01\",\"value\":\"7.8\"},{\"realtime_start\":\"2024-04-11\",\"realtime_end\":\"2024-04-11\",\"date\":\"2011-04-01\",\"value\":\"7.7\"},{\"realtime_start\":\"2024-04-11\",\"realtime_end\":\"2024-04-11\",\"date\":\"2011-05-01\",\"value\":\"7.7\"},{\"realtime_start\":\"2024-04-11\",\"realtime_end\":\"2024-04-11\",\"date\":\"2011-06-01\",\"value\":\"7.7\"},{\"realtime_start\":\"2024-04-11\",\"realtime_end\":\"2024-04-11\",\"date\":\"2011-07-01\",\"value\":\"7.6\"},{\"realtime_start\":\"2024-04-11\",\"realtime_end\":\"2024-04-11\",\"date\":\"2011-08-01\",\"value\":\"7.6\"},{\"realtime_start\":\"2024-04-11\",\"realtime_end\":\"2024-04-11\",\"date\":\"2011-09-01\",\"value\":\"7.5\"},{\"realtime_start\":\"2024-04-11\",\"realtime_end\":\"2024-04-11\",\"date\":\"2011-10-01\",\"value\":\"7.4\"},{\"realtime_start\":\"2024-04-11\",\"realtime_end\":\"2024-04-11\",\"date\":\"2011-11-01\",\"value\":\"7.200\"},{\"realtime_start\":\"2024-04-11\",\"realtime_end\":\"2024-04-11\",\"date\":\"2011-12-01\",\"value\":\"7.1\"},{\"realtime_start\":\"2024-04-11\",\"realtime_end\":\"2024-04-11\",\"date\":\"2012-01-01\",\"value\":\"7.0\"},{\"realtime_start\":\"2024-04-11\",\"realtime_end\":\"2024-04-11\",\"date\":\"2012-02-01\",\"value\":\"7.0\"},{\"realtime_start\":\"2024-04-11\",\"realtime_end\":\"2024-04-11\",\"date\":\"2012-03-01\",\"value\":\"7.0\"},{\"realtime_start\":\"2024-04-11\",\"realtime_end\":\"2024-04-11\",\"date\":\"2012-04-01\",\"value\":\"7.0\"},{\"realtime_start\":\"2024-04-11\",\"realtime_end\":\"2024-04-11\",\"date\":\"2012-05-01\",\"value\":\"7.1\"},{\"realtime_start\":\"2024-04-11\",\"realtime_end\":\"2024-04-11\",\"date\":\"2012-06-01\",\"value\":\"7.1\"},{\"realtime_start\":\"2024-04-11\",\"realtime_end\":\"2024-04-11\",\"date\":\"2012-07-01\",\"value\":\"7.1\"},{\"realtime_start\":\"2024-04-11\",\"realtime_end\":\"2024-04-11\",\"date\":\"2012-08-01\",\"value\":\"7.1\"},{\"realtime_start\":\"2024-04-11\",\"realtime_end\":\"2024-04-11\",\"date\":\"2012-09-01\",\"value\":\"7.1\"},{\"realtime_start\":\"2024-04-11\",\"realtime_end\":\"2024-04-11\",\"date\":\"2012-10-01\",\"value\":\"7.1\"},{\"realtime_start\":\"2024-04-11\",\"realtime_end\":\"2024-04-11\",\"date\":\"2012-11-01\",\"value\":\"7.1\"},{\"realtime_start\":\"2024-04-11\",\"realtime_end\":\"2024-04-11\",\"date\":\"2012-12-01\",\"value\":\"7.1\"},{\"realtime_start\":\"2024-04-11\",\"realtime_end\":\"2024-04-11\",\"date\":\"2013-01-01\",\"value\":\"7.1\"},{\"realtime_start\":\"2024-04-11\",\"realtime_end\":\"2024-04-11\",\"date\":\"2013-02-01\",\"value\":\"7.0\"},{\"realtime_start\":\"2024-04-11\",\"realtime_end\":\"2024-04-11\",\"date\":\"2013-03-01\",\"value\":\"7.0\"},{\"realtime_start\":\"2024-04-11\",\"realtime_end\":\"2024-04-11\",\"date\":\"2013-04-01\",\"value\":\"6.9\"},{\"realtime_start\":\"2024-04-11\",\"realtime_end\":\"2024-04-11\",\"date\":\"2013-05-01\",\"value\":\"6.8\"},{\"realtime_start\":\"2024-04-11\",\"realtime_end\":\"2024-04-11\",\"date\":\"2013-06-01\",\"value\":\"6.7\"},{\"realtime_start\":\"2024-04-11\",\"realtime_end\":\"2024-04-11\",\"date\":\"2013-07-01\",\"value\":\"6.600\"},{\"realtime_start\":\"2024-04-11\",\"realtime_end\":\"2024-04-11\",\"date\":\"2013-08-01\",\"value\":\"6.500\"},{\"realtime_start\":\"2024-04-11\",\"realtime_end\":\"2024-04-11\",\"date\":\"2013-09-01\",\"value\":\"6.3\"},{\"realtime_start\":\"2024-04-11\",\"realtime_end\":\"2024-04-11\",\"date\":\"2013-10-01\",\"value\":\"6.2\"},{\"realtime_start\":\"2024-04-11\",\"realtime_end\":\"2024-04-11\",\"date\":\"2013-11-01\",\"value\":\"6.1\"},{\"realtime_start\":\"2024-04-11\",\"realtime_end\":\"2024-04-11\",\"date\":\"2013-12-01\",\"value\":\"6.1\"},{\"realtime_start\":\"2024-04-11\",\"realtime_end\":\"2024-04-11\",\"date\":\"2014-01-01\",\"value\":\"6.0\"},{\"realtime_start\":\"2024-04-11\",\"realtime_end\":\"2024-04-11\",\"date\":\"2014-02-01\",\"value\":\"6.0\"},{\"realtime_start\":\"2024-04-11\",\"realtime_end\":\"2024-04-11\",\"date\":\"2014-03-01\",\"value\":\"5.9\"},{\"realtime_start\":\"2024-04-11\",\"realtime_end\":\"2024-04-11\",\"date\":\"2014-04-01\",\"value\":\"5.8\"},{\"realtime_start\":\"2024-04-11\",\"realtime_end\":\"2024-04-11\",\"date\":\"2014-05-01\",\"value\":\"5.8\"},{\"realtime_start\":\"2024-04-11\",\"realtime_end\":\"2024-04-11\",\"date\":\"2014-06-01\",\"value\":\"5.7\"},{\"realtime_start\":\"2024-04-11\",\"realtime_end\":\"2024-04-11\",\"date\":\"2014-07-01\",\"value\":\"5.6\"},{\"realtime_start\":\"2024-04-11\",\"realtime_end\":\"2024-04-11\",\"date\":\"2014-08-01\",\"value\":\"5.5\"},{\"realtime_start\":\"2024-04-11\",\"realtime_end\":\"2024-04-11\",\"date\":\"2014-09-01\",\"value\":\"5.4\"},{\"realtime_start\":\"2024-04-11\",\"realtime_end\":\"2024-04-11\",\"date\":\"2014-10-01\",\"value\":\"5.3\"},{\"realtime_start\":\"2024-04-11\",\"realtime_end\":\"2024-04-11\",\"date\":\"2014-11-01\",\"value\":\"5.2\"},{\"realtime_start\":\"2024-04-11\",\"realtime_end\":\"2024-04-11\",\"date\":\"2014-12-01\",\"value\":\"5.1\"},{\"realtime_start\":\"2024-04-11\",\"realtime_end\":\"2024-04-11\",\"date\":\"2015-01-01\",\"value\":\"5.0\"},{\"realtime_start\":\"2024-04-11\",\"realtime_end\":\"2024-04-11\",\"date\":\"2015-02-01\",\"value\":\"4.9\"},{\"realtime_start\":\"2024-04-11\",\"realtime_end\":\"2024-04-11\",\"date\":\"2015-03-01\",\"value\":\"4.9\"},{\"realtime_start\":\"2024-04-11\",\"realtime_end\":\"2024-04-11\",\"date\":\"2015-04-01\",\"value\":\"4.9\"},{\"realtime_start\":\"2024-04-11\",\"realtime_end\":\"2024-04-11\",\"date\":\"2015-05-01\",\"value\":\"4.9\"},{\"realtime_start\":\"2024-04-11\",\"realtime_end\":\"2024-04-11\",\"date\":\"2015-06-01\",\"value\":\"4.8\"},{\"realtime_start\":\"2024-04-11\",\"realtime_end\":\"2024-04-11\",\"date\":\"2015-07-01\",\"value\":\"4.8\"},{\"realtime_start\":\"2024-04-11\",\"realtime_end\":\"2024-04-11\",\"date\":\"2015-08-01\",\"value\":\"4.7\"},{\"realtime_start\":\"2024-04-11\",\"realtime_end\":\"2024-04-11\",\"date\":\"2015-09-01\",\"value\":\"4.7\"},{\"realtime_start\":\"2024-04-11\",\"realtime_end\":\"2024-04-11\",\"date\":\"2015-10-01\",\"value\":\"4.7\"},{\"realtime_start\":\"2024-04-11\",\"realtime_end\":\"2024-04-11\",\"date\":\"2015-11-01\",\"value\":\"4.6\"},{\"realtime_start\":\"2024-04-11\",\"realtime_end\":\"2024-04-11\",\"date\":\"2015-12-01\",\"value\":\"4.6\"},{\"realtime_start\":\"2024-04-11\",\"realtime_end\":\"2024-04-11\",\"date\":\"2016-01-01\",\"value\":\"4.5\"},{\"realtime_start\":\"2024-04-11\",\"realtime_end\":\"2024-04-11\",\"date\":\"2016-02-01\",\"value\":\"4.5\"},{\"realtime_start\":\"2024-04-11\",\"realtime_end\":\"2024-04-11\",\"date\":\"2016-03-01\",\"value\":\"4.4\"},{\"realtime_start\":\"2024-04-11\",\"realtime_end\":\"2024-04-11\",\"date\":\"2016-04-01\",\"value\":\"4.4\"},{\"realtime_start\":\"2024-04-11\",\"realtime_end\":\"2024-04-11\",\"date\":\"2016-05-01\",\"value\":\"4.4\"},{\"realtime_start\":\"2024-04-11\",\"realtime_end\":\"2024-04-11\",\"date\":\"2016-06-01\",\"value\":\"4.5\"},{\"realtime_start\":\"2024-04-11\",\"realtime_end\":\"2024-04-11\",\"date\":\"2016-07-01\",\"value\":\"4.5\"},{\"realtime_start\":\"2024-04-11\",\"realtime_end\":\"2024-04-11\",\"date\":\"2016-08-01\",\"value\":\"4.5\"},{\"realtime_start\":\"2024-04-11\",\"realtime_end\":\"2024-04-11\",\"date\":\"2016-09-01\",\"value\":\"4.6\"},{\"realtime_start\":\"2024-04-11\",\"realtime_end\":\"2024-04-11\",\"date\":\"2016-10-01\",\"value\":\"4.6\"},{\"realtime_start\":\"2024-04-11\",\"realtime_end\":\"2024-04-11\",\"date\":\"2016-11-01\",\"value\":\"4.7\"},{\"realtime_start\":\"2024-04-11\",\"realtime_end\":\"2024-04-11\",\"date\":\"2016-12-01\",\"value\":\"4.7\"},{\"realtime_start\":\"2024-04-11\",\"realtime_end\":\"2024-04-11\",\"date\":\"2017-01-01\",\"value\":\"4.7\"},{\"realtime_start\":\"2024-04-11\",\"realtime_end\":\"2024-04-11\",\"date\":\"2017-02-01\",\"value\":\"4.6\"},{\"realtime_start\":\"2024-04-11\",\"realtime_end\":\"2024-04-11\",\"date\":\"2017-03-01\",\"value\":\"4.6\"},{\"realtime_start\":\"2024-04-11\",\"realtime_end\":\"2024-04-11\",\"date\":\"2017-04-01\",\"value\":\"4.6\"},{\"realtime_start\":\"2024-04-11\",\"realtime_end\":\"2024-04-11\",\"date\":\"2017-05-01\",\"value\":\"4.5\"},{\"realtime_start\":\"2024-04-11\",\"realtime_end\":\"2024-04-11\",\"date\":\"2017-06-01\",\"value\":\"4.5\"},{\"realtime_start\":\"2024-04-11\",\"realtime_end\":\"2024-04-11\",\"date\":\"2017-07-01\",\"value\":\"4.5\"},{\"realtime_start\":\"2024-04-11\",\"realtime_end\":\"2024-04-11\",\"date\":\"2017-08-01\",\"value\":\"4.4\"},{\"realtime_start\":\"2024-04-11\",\"realtime_end\":\"2024-04-11\",\"date\":\"2017-09-01\",\"value\":\"4.4\"},{\"realtime_start\":\"2024-04-11\",\"realtime_end\":\"2024-04-11\",\"date\":\"2017-10-01\",\"value\":\"4.3\"},{\"realtime_start\":\"2024-04-11\",\"realtime_end\":\"2024-04-11\",\"date\":\"2017-11-01\",\"value\":\"4.3\"},{\"realtime_start\":\"2024-04-11\",\"realtime_end\":\"2024-04-11\",\"date\":\"2017-12-01\",\"value\":\"4.2\"},{\"realtime_start\":\"2024-04-11\",\"realtime_end\":\"2024-04-11\",\"date\":\"2018-01-01\",\"value\":\"4.1\"},{\"realtime_start\":\"2024-04-11\",\"realtime_end\":\"2024-04-11\",\"date\":\"2018-02-01\",\"value\":\"4.0\"},{\"realtime_start\":\"2024-04-11\",\"realtime_end\":\"2024-04-11\",\"date\":\"2018-03-01\",\"value\":\"3.9\"},{\"realtime_start\":\"2024-04-11\",\"realtime_end\":\"2024-04-11\",\"date\":\"2018-04-01\",\"value\":\"3.8\"},{\"realtime_start\":\"2024-04-11\",\"realtime_end\":\"2024-04-11\",\"date\":\"2018-05-01\",\"value\":\"3.8\"},{\"realtime_start\":\"2024-04-11\",\"realtime_end\":\"2024-04-11\",\"date\":\"2018-06-01\",\"value\":\"3.7\"},{\"realtime_start\":\"2024-04-11\",\"realtime_end\":\"2024-04-11\",\"date\":\"2018-07-01\",\"value\":\"3.6\"},{\"realtime_start\":\"2024-04-11\",\"realtime_end\":\"2024-04-11\",\"date\":\"2018-08-01\",\"value\":\"3.6\"},{\"realtime_start\":\"2024-04-11\",\"realtime_end\":\"2024-04-11\",\"date\":\"2018-09-01\",\"value\":\"3.5\"},{\"realtime_start\":\"2024-04-11\",\"realtime_end\":\"2024-04-11\",\"date\":\"2018-10-01\",\"value\":\"3.5\"},{\"realtime_start\":\"2024-04-11\",\"realtime_end\":\"2024-04-11\",\"date\":\"2018-11-01\",\"value\":\"3.5\"},{\"realtime_start\":\"2024-04-11\",\"realtime_end\":\"2024-04-11\",\"date\":\"2018-12-01\",\"value\":\"3.5\"},{\"realtime_start\":\"2024-04-11\",\"realtime_end\":\"2024-04-11\",\"date\":\"2019-01-01\",\"value\":\"3.5\"},{\"realtime_start\":\"2024-04-11\",\"realtime_end\":\"2024-04-11\",\"date\":\"2019-02-01\",\"value\":\"3.5\"},{\"realtime_start\":\"2024-04-11\",\"realtime_end\":\"2024-04-11\",\"date\":\"2019-03-01\",\"value\":\"3.5\"},{\"realtime_start\":\"2024-04-11\",\"realtime_end\":\"2024-04-11\",\"date\":\"2019-04-01\",\"value\":\"3.5\"},{\"realtime_start\":\"2024-04-11\",\"realtime_end\":\"2024-04-11\",\"date\":\"2019-05-01\",\"value\":\"3.5\"},{\"realtime_start\":\"2024-04-11\",\"realtime_end\":\"2024-04-11\",\"date\":\"2019-06-01\",\"value\":\"3.5\"},{\"realtime_start\":\"2024-04-11\",\"realtime_end\":\"2024-04-11\",\"date\":\"2019-07-01\",\"value\":\"3.6\"},{\"realtime_start\":\"2024-04-11\",\"realtime_end\":\"2024-04-11\",\"date\":\"2019-08-01\",\"value\":\"3.6\"},{\"realtime_start\":\"2024-04-11\",\"realtime_end\":\"2024-04-11\",\"date\":\"2019-09-01\",\"value\":\"3.6\"},{\"realtime_start\":\"2024-04-11\",\"realtime_end\":\"2024-04-11\",\"date\":\"2019-10-01\",\"value\":\"3.6\"},{\"realtime_start\":\"2024-04-11\",\"realtime_end\":\"2024-04-11\",\"date\":\"2019-11-01\",\"value\":\"3.6\"},{\"realtime_start\":\"2024-04-11\",\"realtime_end\":\"2024-04-11\",\"date\":\"2019-12-01\",\"value\":\"3.6\"},{\"realtime_start\":\"2024-04-11\",\"realtime_end\":\"2024-04-11\",\"date\":\"2020-01-01\",\"value\":\"3.6\"},{\"realtime_start\":\"2024-04-11\",\"realtime_end\":\"2024-04-11\",\"date\":\"2020-02-01\",\"value\":\"3.6\"},{\"realtime_start\":\"2024-04-11\",\"realtime_end\":\"2024-04-11\",\"date\":\"2020-03-01\",\"value\":\"5.0\"},{\"realtime_start\":\"2024-04-11\",\"realtime_end\":\"2024-04-11\",\"date\":\"2020-04-01\",\"value\":\"13.1\"},{\"realtime_start\":\"2024-04-11\",\"realtime_end\":\"2024-04-11\",\"date\":\"2020-05-01\",\"value\":\"13.4\"},{\"realtime_start\":\"2024-04-11\",\"realtime_end\":\"2024-04-11\",\"date\":\"2020-06-01\",\"value\":\"12.7\"},{\"realtime_start\":\"2024-04-11\",\"realtime_end\":\"2024-04-11\",\"date\":\"2020-07-01\",\"value\":\"7.5\"},{\"realtime_start\":\"2024-04-11\",\"realtime_end\":\"2024-04-11\",\"date\":\"2020-08-01\",\"value\":\"7.3\"},{\"realtime_start\":\"2024-04-11\",\"realtime_end\":\"2024-04-11\",\"date\":\"2020-09-01\",\"value\":\"7.5\"},{\"realtime_start\":\"2024-04-11\",\"realtime_end\":\"2024-04-11\",\"date\":\"2020-10-01\",\"value\":\"5.1\"},{\"realtime_start\":\"2024-04-11\",\"realtime_end\":\"2024-04-11\",\"date\":\"2020-11-01\",\"value\":\"5.3\"},{\"realtime_start\":\"2024-04-11\",\"realtime_end\":\"2024-04-11\",\"date\":\"2020-12-01\",\"value\":\"5.6\"},{\"realtime_start\":\"2024-04-11\",\"realtime_end\":\"2024-04-11\",\"date\":\"2021-01-01\",\"value\":\"5.7\"},{\"realtime_start\":\"2024-04-11\",\"realtime_end\":\"2024-04-11\",\"date\":\"2021-02-01\",\"value\":\"5.8\"},{\"realtime_start\":\"2024-04-11\",\"realtime_end\":\"2024-04-11\",\"date\":\"2021-03-01\",\"value\":\"5.9\"},{\"realtime_start\":\"2024-04-11\",\"realtime_end\":\"2024-04-11\",\"date\":\"2021-04-01\",\"value\":\"5.9\"},{\"realtime_start\":\"2024-04-11\",\"realtime_end\":\"2024-04-11\",\"date\":\"2021-05-01\",\"value\":\"5.9\"},{\"realtime_start\":\"2024-04-11\",\"realtime_end\":\"2024-04-11\",\"date\":\"2021-06-01\",\"value\":\"5.8\"},{\"realtime_start\":\"2024-04-11\",\"realtime_end\":\"2024-04-11\",\"date\":\"2021-07-01\",\"value\":\"5.6\"},{\"realtime_start\":\"2024-04-11\",\"realtime_end\":\"2024-04-11\",\"date\":\"2021-08-01\",\"value\":\"5.4\"},{\"realtime_start\":\"2024-04-11\",\"realtime_end\":\"2024-04-11\",\"date\":\"2021-09-01\",\"value\":\"5.2\"},{\"realtime_start\":\"2024-04-11\",\"realtime_end\":\"2024-04-11\",\"date\":\"2021-10-01\",\"value\":\"5.0\"},{\"realtime_start\":\"2024-04-11\",\"realtime_end\":\"2024-04-11\",\"date\":\"2021-11-01\",\"value\":\"4.8\"},{\"realtime_start\":\"2024-04-11\",\"realtime_end\":\"2024-04-11\",\"date\":\"2021-12-01\",\"value\":\"4.7\"},{\"realtime_start\":\"2024-04-11\",\"realtime_end\":\"2024-04-11\",\"date\":\"2022-01-01\",\"value\":\"4.6\"},{\"realtime_start\":\"2024-04-11\",\"realtime_end\":\"2024-04-11\",\"date\":\"2022-02-01\",\"value\":\"4.4\"},{\"realtime_start\":\"2024-04-11\",\"realtime_end\":\"2024-04-11\",\"date\":\"2022-03-01\",\"value\":\"4.3\"},{\"realtime_start\":\"2024-04-11\",\"realtime_end\":\"2024-04-11\",\"date\":\"2022-04-01\",\"value\":\"4.2\"},{\"realtime_start\":\"2024-04-11\",\"realtime_end\":\"2024-04-11\",\"date\":\"2022-05-01\",\"value\":\"4.2\"},{\"realtime_start\":\"2024-04-11\",\"realtime_end\":\"2024-04-11\",\"date\":\"2022-06-01\",\"value\":\"4.2\"},{\"realtime_start\":\"2024-04-11\",\"realtime_end\":\"2024-04-11\",\"date\":\"2022-07-01\",\"value\":\"4.1\"},{\"realtime_start\":\"2024-04-11\",\"realtime_end\":\"2024-04-11\",\"date\":\"2022-08-01\",\"value\":\"4.1\"},{\"realtime_start\":\"2024-04-11\",\"realtime_end\":\"2024-04-11\",\"date\":\"2022-09-01\",\"value\":\"4.2\"},{\"realtime_start\":\"2024-04-11\",\"realtime_end\":\"2024-04-11\",\"date\":\"2022-10-01\",\"value\":\"4.2\"},{\"realtime_start\":\"2024-04-11\",\"realtime_end\":\"2024-04-11\",\"date\":\"2022-11-01\",\"value\":\"4.2\"},{\"realtime_start\":\"2024-04-11\",\"realtime_end\":\"2024-04-11\",\"date\":\"2022-12-01\",\"value\":\"4.1\"},{\"realtime_start\":\"2024-04-11\",\"realtime_end\":\"2024-04-11\",\"date\":\"2023-01-01\",\"value\":\"4.1\"},{\"realtime_start\":\"2024-04-11\",\"realtime_end\":\"2024-04-11\",\"date\":\"2023-02-01\",\"value\":\"4.0\"},{\"realtime_start\":\"2024-04-11\",\"realtime_end\":\"2024-04-11\",\"date\":\"2023-03-01\",\"value\":\"3.9\"},{\"realtime_start\":\"2024-04-11\",\"realtime_end\":\"2024-04-11\",\"date\":\"2023-04-01\",\"value\":\"3.8\"},{\"realtime_start\":\"2024-04-11\",\"realtime_end\":\"2024-04-11\",\"date\":\"2023-05-01\",\"value\":\"3.8\"},{\"realtime_start\":\"2024-04-11\",\"realtime_end\":\"2024-04-11\",\"date\":\"2023-06-01\",\"value\":\"3.9\"},{\"realtime_start\":\"2024-04-11\",\"realtime_end\":\"2024-04-11\",\"date\":\"2023-07-01\",\"value\":\"3.9\"},{\"realtime_start\":\"2024-04-11\",\"realtime_end\":\"2024-04-11\",\"date\":\"2023-08-01\",\"value\":\"4.0\"},{\"realtime_start\":\"2024-04-11\",\"realtime_end\":\"2024-04-11\",\"date\":\"2023-09-01\",\"value\":\"4.1\"},{\"realtime_start\":\"2024-04-11\",\"realtime_end\":\"2024-04-11\",\"date\":\"2023-10-01\",\"value\":\"4.1\"},{\"realtime_start\":\"2024-04-11\",\"realtime_end\":\"2024-04-11\",\"date\":\"2023-11-01\",\"value\":\"4.1\"},{\"realtime_start\":\"2024-04-11\",\"realtime_end\":\"2024-04-11\",\"date\":\"2023-12-01\",\"value\":\"4.1\"},{\"realtime_start\":\"2024-04-11\",\"realtime_end\":\"2024-04-11\",\"date\":\"2024-01-01\",\"value\":\"4.1\"},{\"realtime_start\":\"2024-04-11\",\"realtime_end\":\"2024-04-11\",\"date\":\"2024-02-01\",\"value\":\"4.0\"}]}'"
      ]
     },
     "execution_count": 46,
     "metadata": {},
     "output_type": "execute_result"
    }
   ],
   "source": [
    "#read the response and see what it looks like\n",
    "\n",
    "response.content"
   ]
  },
  {
   "cell_type": "code",
   "execution_count": 47,
   "id": "ed540898-22a8-4c6f-9ef6-1e31676b72a5",
   "metadata": {},
   "outputs": [],
   "source": [
    "#save the content of the response\n",
    "\n",
    "content = response.content"
   ]
  },
  {
   "cell_type": "code",
   "execution_count": 48,
   "id": "1bf9ba51-d9f3-471b-a72d-9c38b8f9a476",
   "metadata": {},
   "outputs": [],
   "source": [
    "#load the content of the response ias a dict\n",
    "\n",
    "response_dict = json.loads(content)"
   ]
  },
  {
   "cell_type": "code",
   "execution_count": 49,
   "id": "c9dbcfcb-20da-4662-a2fb-2946cae27b4e",
   "metadata": {},
   "outputs": [],
   "source": [
    "#load the observations from the dict into a DataFrame\n",
    "\n",
    "unemp_df = pd.DataFrame(response_dict['observations'])"
   ]
  },
  {
   "cell_type": "code",
   "execution_count": 50,
   "id": "b39de2f7-c1b5-471e-bf6e-32370190327e",
   "metadata": {},
   "outputs": [
    {
     "data": {
      "text/html": [
       "<div>\n",
       "<style scoped>\n",
       "    .dataframe tbody tr th:only-of-type {\n",
       "        vertical-align: middle;\n",
       "    }\n",
       "\n",
       "    .dataframe tbody tr th {\n",
       "        vertical-align: top;\n",
       "    }\n",
       "\n",
       "    .dataframe thead th {\n",
       "        text-align: right;\n",
       "    }\n",
       "</style>\n",
       "<table border=\"1\" class=\"dataframe\">\n",
       "  <thead>\n",
       "    <tr style=\"text-align: right;\">\n",
       "      <th></th>\n",
       "      <th>realtime_start</th>\n",
       "      <th>realtime_end</th>\n",
       "      <th>date</th>\n",
       "      <th>value</th>\n",
       "    </tr>\n",
       "  </thead>\n",
       "  <tbody>\n",
       "    <tr>\n",
       "      <th>0</th>\n",
       "      <td>2024-04-11</td>\n",
       "      <td>2024-04-11</td>\n",
       "      <td>1976-01-01</td>\n",
       "      <td>8.0</td>\n",
       "    </tr>\n",
       "    <tr>\n",
       "      <th>1</th>\n",
       "      <td>2024-04-11</td>\n",
       "      <td>2024-04-11</td>\n",
       "      <td>1976-02-01</td>\n",
       "      <td>8.0</td>\n",
       "    </tr>\n",
       "    <tr>\n",
       "      <th>2</th>\n",
       "      <td>2024-04-11</td>\n",
       "      <td>2024-04-11</td>\n",
       "      <td>1976-03-01</td>\n",
       "      <td>8.0</td>\n",
       "    </tr>\n",
       "    <tr>\n",
       "      <th>3</th>\n",
       "      <td>2024-04-11</td>\n",
       "      <td>2024-04-11</td>\n",
       "      <td>1976-04-01</td>\n",
       "      <td>8.1</td>\n",
       "    </tr>\n",
       "    <tr>\n",
       "      <th>4</th>\n",
       "      <td>2024-04-11</td>\n",
       "      <td>2024-04-11</td>\n",
       "      <td>1976-05-01</td>\n",
       "      <td>8.3</td>\n",
       "    </tr>\n",
       "    <tr>\n",
       "      <th>...</th>\n",
       "      <td>...</td>\n",
       "      <td>...</td>\n",
       "      <td>...</td>\n",
       "      <td>...</td>\n",
       "    </tr>\n",
       "    <tr>\n",
       "      <th>573</th>\n",
       "      <td>2024-04-11</td>\n",
       "      <td>2024-04-11</td>\n",
       "      <td>2023-10-01</td>\n",
       "      <td>4.1</td>\n",
       "    </tr>\n",
       "    <tr>\n",
       "      <th>574</th>\n",
       "      <td>2024-04-11</td>\n",
       "      <td>2024-04-11</td>\n",
       "      <td>2023-11-01</td>\n",
       "      <td>4.1</td>\n",
       "    </tr>\n",
       "    <tr>\n",
       "      <th>575</th>\n",
       "      <td>2024-04-11</td>\n",
       "      <td>2024-04-11</td>\n",
       "      <td>2023-12-01</td>\n",
       "      <td>4.1</td>\n",
       "    </tr>\n",
       "    <tr>\n",
       "      <th>576</th>\n",
       "      <td>2024-04-11</td>\n",
       "      <td>2024-04-11</td>\n",
       "      <td>2024-01-01</td>\n",
       "      <td>4.1</td>\n",
       "    </tr>\n",
       "    <tr>\n",
       "      <th>577</th>\n",
       "      <td>2024-04-11</td>\n",
       "      <td>2024-04-11</td>\n",
       "      <td>2024-02-01</td>\n",
       "      <td>4.0</td>\n",
       "    </tr>\n",
       "  </tbody>\n",
       "</table>\n",
       "<p>578 rows × 4 columns</p>\n",
       "</div>"
      ],
      "text/plain": [
       "    realtime_start realtime_end        date value\n",
       "0       2024-04-11   2024-04-11  1976-01-01   8.0\n",
       "1       2024-04-11   2024-04-11  1976-02-01   8.0\n",
       "2       2024-04-11   2024-04-11  1976-03-01   8.0\n",
       "3       2024-04-11   2024-04-11  1976-04-01   8.1\n",
       "4       2024-04-11   2024-04-11  1976-05-01   8.3\n",
       "..             ...          ...         ...   ...\n",
       "573     2024-04-11   2024-04-11  2023-10-01   4.1\n",
       "574     2024-04-11   2024-04-11  2023-11-01   4.1\n",
       "575     2024-04-11   2024-04-11  2023-12-01   4.1\n",
       "576     2024-04-11   2024-04-11  2024-01-01   4.1\n",
       "577     2024-04-11   2024-04-11  2024-02-01   4.0\n",
       "\n",
       "[578 rows x 4 columns]"
      ]
     },
     "execution_count": 50,
     "metadata": {},
     "output_type": "execute_result"
    }
   ],
   "source": [
    "#show the df\n",
    "\n",
    "unemp_df"
   ]
  },
  {
   "cell_type": "raw",
   "id": "8adf2780-ec26-4c42-a740-f6b0557e2171",
   "metadata": {},
   "source": [
    "Now let's wrap all steps above into a reusable function, and use it to pull in another data series.\n",
    "\n",
    "Your function should have one input and should:\n",
    "\n",
    "Call the API\n",
    "Check if the response succeded\n",
    "Print if it fails\n",
    "Read the content as JSON\n",
    "Load the JSON into a dict\n",
    "Return a DataFrame from the dict"
   ]
  },
  {
   "cell_type": "code",
   "execution_count": 53,
   "id": "38ea6246-eee6-4fe4-b6ad-4647c6539a6d",
   "metadata": {},
   "outputs": [],
   "source": [
    "#create the function \n",
    "\n",
    "def get_data(url):\n",
    "    response = requests.get(url)\n",
    "    if response.status_code == 200:\n",
    "        content = response.content\n",
    "        response_dict = json.loads(content)\n",
    "        data = pd.DataFrame(response_dict['observations'])\n",
    "    else:\n",
    "        print('Sorry - this call failed. Please check your URL.')\n",
    "\n",
    "    return data"
   ]
  },
  {
   "cell_type": "raw",
   "id": "e3574f52-5d85-4d1c-890a-873c875f1cbe",
   "metadata": {},
   "source": [
    "Now let's pull another data set , the series_id for Labor Force Participation rate in DE.\n",
    "\n",
    "Then:\n",
    "\n",
    "Create a fresh URL to hit\n",
    "Pass that URL to your new function\n",
    "Inspect the results"
   ]
  },
  {
   "cell_type": "code",
   "execution_count": 54,
   "id": "f98d57da-2c9f-4075-9094-ace0c4794291",
   "metadata": {},
   "outputs": [],
   "source": [
    "#save the series id as labor_id\n",
    "\n",
    "labor_id = 'LBSSA10'"
   ]
  },
  {
   "cell_type": "code",
   "execution_count": 55,
   "id": "767e9690-bfbf-49e1-b1ff-2bf3ff26966c",
   "metadata": {},
   "outputs": [],
   "source": [
    "#create a new URL to hit that incorporates the new series_id\n",
    "\n",
    "participation_url = base + 'series_id=' + labor_id\\\n",
    "+ '&' + 'api_key=' + mykey + '&' + 'file_type=json'"
   ]
  },
  {
   "cell_type": "code",
   "execution_count": 56,
   "id": "767b6999-1d08-4940-be4c-e1d65a7853fb",
   "metadata": {},
   "outputs": [],
   "source": [
    "#create a df by passing the URL to the function you created \n",
    "\n",
    "particip_data = get_data(participation_url)"
   ]
  },
  {
   "cell_type": "code",
   "execution_count": 57,
   "id": "e4120c5c-eafb-41c6-8b32-32fd9b6c5eb8",
   "metadata": {},
   "outputs": [
    {
     "data": {
      "text/html": [
       "<div>\n",
       "<style scoped>\n",
       "    .dataframe tbody tr th:only-of-type {\n",
       "        vertical-align: middle;\n",
       "    }\n",
       "\n",
       "    .dataframe tbody tr th {\n",
       "        vertical-align: top;\n",
       "    }\n",
       "\n",
       "    .dataframe thead th {\n",
       "        text-align: right;\n",
       "    }\n",
       "</style>\n",
       "<table border=\"1\" class=\"dataframe\">\n",
       "  <thead>\n",
       "    <tr style=\"text-align: right;\">\n",
       "      <th></th>\n",
       "      <th>realtime_start</th>\n",
       "      <th>realtime_end</th>\n",
       "      <th>date</th>\n",
       "      <th>value</th>\n",
       "    </tr>\n",
       "  </thead>\n",
       "  <tbody>\n",
       "    <tr>\n",
       "      <th>0</th>\n",
       "      <td>2024-04-11</td>\n",
       "      <td>2024-04-11</td>\n",
       "      <td>1976-01-01</td>\n",
       "      <td>62.7</td>\n",
       "    </tr>\n",
       "    <tr>\n",
       "      <th>1</th>\n",
       "      <td>2024-04-11</td>\n",
       "      <td>2024-04-11</td>\n",
       "      <td>1976-02-01</td>\n",
       "      <td>62.5</td>\n",
       "    </tr>\n",
       "    <tr>\n",
       "      <th>2</th>\n",
       "      <td>2024-04-11</td>\n",
       "      <td>2024-04-11</td>\n",
       "      <td>1976-03-01</td>\n",
       "      <td>62.5</td>\n",
       "    </tr>\n",
       "    <tr>\n",
       "      <th>3</th>\n",
       "      <td>2024-04-11</td>\n",
       "      <td>2024-04-11</td>\n",
       "      <td>1976-04-01</td>\n",
       "      <td>62.4</td>\n",
       "    </tr>\n",
       "    <tr>\n",
       "      <th>4</th>\n",
       "      <td>2024-04-11</td>\n",
       "      <td>2024-04-11</td>\n",
       "      <td>1976-05-01</td>\n",
       "      <td>62.4</td>\n",
       "    </tr>\n",
       "    <tr>\n",
       "      <th>...</th>\n",
       "      <td>...</td>\n",
       "      <td>...</td>\n",
       "      <td>...</td>\n",
       "      <td>...</td>\n",
       "    </tr>\n",
       "    <tr>\n",
       "      <th>573</th>\n",
       "      <td>2024-04-11</td>\n",
       "      <td>2024-04-11</td>\n",
       "      <td>2023-10-01</td>\n",
       "      <td>61.0</td>\n",
       "    </tr>\n",
       "    <tr>\n",
       "      <th>574</th>\n",
       "      <td>2024-04-11</td>\n",
       "      <td>2024-04-11</td>\n",
       "      <td>2023-11-01</td>\n",
       "      <td>60.9</td>\n",
       "    </tr>\n",
       "    <tr>\n",
       "      <th>575</th>\n",
       "      <td>2024-04-11</td>\n",
       "      <td>2024-04-11</td>\n",
       "      <td>2023-12-01</td>\n",
       "      <td>60.8</td>\n",
       "    </tr>\n",
       "    <tr>\n",
       "      <th>576</th>\n",
       "      <td>2024-04-11</td>\n",
       "      <td>2024-04-11</td>\n",
       "      <td>2024-01-01</td>\n",
       "      <td>60.6</td>\n",
       "    </tr>\n",
       "    <tr>\n",
       "      <th>577</th>\n",
       "      <td>2024-04-11</td>\n",
       "      <td>2024-04-11</td>\n",
       "      <td>2024-02-01</td>\n",
       "      <td>60.5</td>\n",
       "    </tr>\n",
       "  </tbody>\n",
       "</table>\n",
       "<p>578 rows × 4 columns</p>\n",
       "</div>"
      ],
      "text/plain": [
       "    realtime_start realtime_end        date value\n",
       "0       2024-04-11   2024-04-11  1976-01-01  62.7\n",
       "1       2024-04-11   2024-04-11  1976-02-01  62.5\n",
       "2       2024-04-11   2024-04-11  1976-03-01  62.5\n",
       "3       2024-04-11   2024-04-11  1976-04-01  62.4\n",
       "4       2024-04-11   2024-04-11  1976-05-01  62.4\n",
       "..             ...          ...         ...   ...\n",
       "573     2024-04-11   2024-04-11  2023-10-01  61.0\n",
       "574     2024-04-11   2024-04-11  2023-11-01  60.9\n",
       "575     2024-04-11   2024-04-11  2023-12-01  60.8\n",
       "576     2024-04-11   2024-04-11  2024-01-01  60.6\n",
       "577     2024-04-11   2024-04-11  2024-02-01  60.5\n",
       "\n",
       "[578 rows x 4 columns]"
      ]
     },
     "execution_count": 57,
     "metadata": {},
     "output_type": "execute_result"
    }
   ],
   "source": [
    "#show the df\n",
    "\n",
    "particip_data"
   ]
  },
  {
   "cell_type": "code",
   "execution_count": 58,
   "id": "ec66df55-88c4-4287-a032-0720111b4b22",
   "metadata": {},
   "outputs": [
    {
     "ename": "ModuleNotFoundError",
     "evalue": "No module named 'fredapi'",
     "output_type": "error",
     "traceback": [
      "\u001b[0;31m---------------------------------------------------------------------------\u001b[0m",
      "\u001b[0;31mModuleNotFoundError\u001b[0m                       Traceback (most recent call last)",
      "Cell \u001b[0;32mIn[58], line 3\u001b[0m\n\u001b[1;32m      1\u001b[0m \u001b[38;5;66;03m#from fredapi import Fred\u001b[39;00m\n\u001b[0;32m----> 3\u001b[0m \u001b[38;5;28;01mfrom\u001b[39;00m \u001b[38;5;21;01mfredapi\u001b[39;00m \u001b[38;5;28;01mimport\u001b[39;00m fred\n",
      "\u001b[0;31mModuleNotFoundError\u001b[0m: No module named 'fredapi'"
     ]
    }
   ],
   "source": [
    "#from fredapi import Fred\n",
    "\n",
    "from fredapi import fred"
   ]
  },
  {
   "cell_type": "code",
   "execution_count": 59,
   "id": "0df46276-84ce-47d1-a0a6-c4574dc9f4dc",
   "metadata": {},
   "outputs": [
    {
     "name": "stdout",
     "output_type": "stream",
     "text": [
      "Collecting fredapi\n",
      "  Downloading fredapi-0.5.1-py3-none-any.whl.metadata (5.0 kB)\n",
      "Requirement already satisfied: pandas in /Users/deepa/Library/jupyterlab-desktop/jlab_server/lib/python3.12/site-packages (from fredapi) (2.2.1)\n",
      "Requirement already satisfied: numpy<2,>=1.26.0 in /Users/deepa/Library/jupyterlab-desktop/jlab_server/lib/python3.12/site-packages (from pandas->fredapi) (1.26.4)\n",
      "Requirement already satisfied: python-dateutil>=2.8.2 in /Users/deepa/Library/jupyterlab-desktop/jlab_server/lib/python3.12/site-packages (from pandas->fredapi) (2.9.0)\n",
      "Requirement already satisfied: pytz>=2020.1 in /Users/deepa/Library/jupyterlab-desktop/jlab_server/lib/python3.12/site-packages (from pandas->fredapi) (2024.1)\n",
      "Requirement already satisfied: tzdata>=2022.7 in /Users/deepa/Library/jupyterlab-desktop/jlab_server/lib/python3.12/site-packages (from pandas->fredapi) (2024.1)\n",
      "Requirement already satisfied: six>=1.5 in /Users/deepa/Library/jupyterlab-desktop/jlab_server/lib/python3.12/site-packages (from python-dateutil>=2.8.2->pandas->fredapi) (1.16.0)\n",
      "Downloading fredapi-0.5.1-py3-none-any.whl (11 kB)\n",
      "Installing collected packages: fredapi\n",
      "Successfully installed fredapi-0.5.1\n",
      "Note: you may need to restart the kernel to use updated packages.\n"
     ]
    }
   ],
   "source": [
    "pip install fredapi"
   ]
  },
  {
   "cell_type": "code",
   "execution_count": 62,
   "id": "c010638e-8e7d-4b5d-9aab-c2dd44f561dd",
   "metadata": {},
   "outputs": [],
   "source": [
    "#from fredapi import Fred\n",
    "\n",
    "from fredapi import Fred"
   ]
  },
  {
   "cell_type": "code",
   "execution_count": 63,
   "id": "bd8a3a19-9bcb-4529-b0f4-e760eac9773b",
   "metadata": {},
   "outputs": [],
   "source": [
    "# set your api_key\n",
    "\n",
    "fred = Fred(api_key=mykey)"
   ]
  },
  {
   "cell_type": "code",
   "execution_count": 64,
   "id": "a379c8f9-30af-4e9d-bde6-e614eb2a1495",
   "metadata": {},
   "outputs": [],
   "source": [
    "#pull DE unemployment the easy way\n",
    "\n",
    "easy_response = fred.get_series('DEUR')"
   ]
  },
  {
   "cell_type": "code",
   "execution_count": 65,
   "id": "b91e7b8c-4441-4bd8-8166-5fc97151242c",
   "metadata": {
    "scrolled": true
   },
   "outputs": [
    {
     "data": {
      "text/plain": [
       "1976-01-01    8.0\n",
       "1976-02-01    8.0\n",
       "1976-03-01    8.0\n",
       "1976-04-01    8.1\n",
       "1976-05-01    8.3\n",
       "             ... \n",
       "2023-10-01    4.1\n",
       "2023-11-01    4.1\n",
       "2023-12-01    4.1\n",
       "2024-01-01    4.1\n",
       "2024-02-01    4.0\n",
       "Length: 578, dtype: float64"
      ]
     },
     "execution_count": 65,
     "metadata": {},
     "output_type": "execute_result"
    }
   ],
   "source": [
    "#show the response\n",
    "\n",
    "easy_response"
   ]
  },
  {
   "cell_type": "code",
   "execution_count": null,
   "id": "2a58887b-be20-40c8-b003-3368ae339ccf",
   "metadata": {},
   "outputs": [],
   "source": []
  }
 ],
 "metadata": {
  "kernelspec": {
   "display_name": "Python 3 (ipykernel)",
   "language": "python",
   "name": "python3"
  },
  "language_info": {
   "codemirror_mode": {
    "name": "ipython",
    "version": 3
   },
   "file_extension": ".py",
   "mimetype": "text/x-python",
   "name": "python",
   "nbconvert_exporter": "python",
   "pygments_lexer": "ipython3",
   "version": "3.12.2"
  }
 },
 "nbformat": 4,
 "nbformat_minor": 5
}
